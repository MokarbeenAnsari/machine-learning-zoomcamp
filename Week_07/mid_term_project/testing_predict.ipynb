{
 "cells": [
  {
   "cell_type": "code",
   "execution_count": 1,
   "id": "9281bf71-89d6-41eb-840f-119f4f7dd5d2",
   "metadata": {},
   "outputs": [],
   "source": [
    "# Importing required libraries\n",
    "import requests\n",
    "import json"
   ]
  },
  {
   "cell_type": "code",
   "execution_count": 2,
   "id": "b0b280ff-01a5-4218-855b-56017500057d",
   "metadata": {},
   "outputs": [],
   "source": [
    "# Server url\n",
    "url = 'http://localhost:9696/predict'"
   ]
  },
  {
   "cell_type": "code",
   "execution_count": 3,
   "id": "edd781fe-824f-4bc8-9b86-9a6749f1bb8d",
   "metadata": {},
   "outputs": [],
   "source": [
    "# House data\n",
    "house = {\n",
    "    \"location\": \"other\",\n",
    "    \"total_sqft\": 4500.0,\n",
    "    \"bath\": 9,\n",
    "    \"bhk\": 9\n",
    "}"
   ]
  },
  {
   "cell_type": "code",
   "execution_count": 4,
   "id": "956fe021-fb9a-4b25-82fc-eee63ba64690",
   "metadata": {},
   "outputs": [
    {
     "name": "stdout",
     "output_type": "stream",
     "text": [
      "Price of House:  330.14\n"
     ]
    }
   ],
   "source": [
    "# Testing\n",
    "response = requests.post(url, json=house).json()\n",
    "print(\"Price of House: \", round(response['house_price'], 2))"
   ]
  }
 ],
 "metadata": {
  "kernelspec": {
   "display_name": "machine_learning",
   "language": "python",
   "name": "machine_learning"
  },
  "language_info": {
   "codemirror_mode": {
    "name": "ipython",
    "version": 3
   },
   "file_extension": ".py",
   "mimetype": "text/x-python",
   "name": "python",
   "nbconvert_exporter": "python",
   "pygments_lexer": "ipython3",
   "version": "3.11.1"
  }
 },
 "nbformat": 4,
 "nbformat_minor": 5
}
