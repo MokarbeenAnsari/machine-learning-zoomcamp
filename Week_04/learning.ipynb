{
 "cells": [
  {
   "cell_type": "code",
   "execution_count": 1,
   "id": "b56a7cfc-4895-43d9-8db7-1f6c0f99e5af",
   "metadata": {},
   "outputs": [],
   "source": [
    "# Importing the required libraries\n",
    "import numpy as np\n",
    "import pandas as pd\n",
    "\n",
    "import seaborn as sns\n",
    "import matplotlib.pyplot as plt\n",
    "\n",
    "from sklearn.model_selection import train_test_split\n",
    "from sklearn.feature_extraction import DictVectorizer\n",
    "from sklearn.linear_model import LogisticRegression\n",
    "\n",
    "import warnings\n",
    "warnings.filterwarnings('ignore')"
   ]
  },
  {
   "cell_type": "markdown",
   "id": "b7a6ff4b-b561-4518-a5dd-44c84da13ecf",
   "metadata": {},
   "source": [
    "**Metric:** Function that compares the predictions with the actual values and outputs a single number that tells how good the predictions are."
   ]
  },
  {
   "cell_type": "markdown",
   "id": "bef141be-3b0a-41d6-b5ee-4c6ce10c83c1",
   "metadata": {},
   "source": [
    "### 1. Prerequisite"
   ]
  },
  {
   "cell_type": "markdown",
   "id": "196c30f8-3642-4e86-964b-9be173e42cc4",
   "metadata": {
    "jp-MarkdownHeadingCollapsed": true
   },
   "source": [
    "#### Data ingestion and preparation"
   ]
  },
  {
   "cell_type": "code",
   "execution_count": 2,
   "id": "df97f736-7574-4819-95a4-7e2f3123ab5f",
   "metadata": {},
   "outputs": [],
   "source": [
    "df = pd.read_csv('data.csv')\n",
    "\n",
    "df.columns = df.columns.str.lower().str.replace(' ', '_')\n",
    "\n",
    "categorical_columns = list(df.dtypes[df.dtypes == 'object'].index)\n",
    "\n",
    "for c in categorical_columns:\n",
    "    df[c] = df[c].str.lower().str.replace(' ', '_')\n",
    "\n",
    "df.totalcharges = pd.to_numeric(df.totalcharges, errors='coerce')\n",
    "df.totalcharges = df.totalcharges.fillna(0)\n",
    "\n",
    "df.churn = (df.churn == 'yes').astype(int)"
   ]
  },
  {
   "cell_type": "markdown",
   "id": "354d156e-63b3-4482-9ca8-201df3a283b9",
   "metadata": {
    "jp-MarkdownHeadingCollapsed": true
   },
   "source": [
    "#### Setting validation framework"
   ]
  },
  {
   "cell_type": "code",
   "execution_count": 3,
   "id": "07a9d449-58e8-42b6-8a0f-9bf91359eab0",
   "metadata": {},
   "outputs": [],
   "source": [
    "df_full_train, df_test = train_test_split(df, test_size=0.2, random_state=1)\n",
    "df_train, df_val = train_test_split(df_full_train, test_size=0.25, random_state=1)\n",
    "\n",
    "df_train = df_train.reset_index(drop=True)\n",
    "df_val = df_val.reset_index(drop=True)\n",
    "df_test = df_test.reset_index(drop=True)\n",
    "\n",
    "y_train = df_train.churn.values\n",
    "y_val = df_val.churn.values\n",
    "y_test = df_test.churn.values\n",
    "\n",
    "del df_train['churn']\n",
    "del df_val['churn']\n",
    "del df_test['churn']"
   ]
  },
  {
   "cell_type": "markdown",
   "id": "ca51c56e-2ff9-4a27-9e86-35089bce86e6",
   "metadata": {
    "jp-MarkdownHeadingCollapsed": true
   },
   "source": [
    "#### Numerical and categorical features"
   ]
  },
  {
   "cell_type": "code",
   "execution_count": 4,
   "id": "cfbc7af9-4e44-46ea-9013-554fbec52ad8",
   "metadata": {},
   "outputs": [],
   "source": [
    "numerical = ['tenure', 'monthlycharges', 'totalcharges']\n",
    "\n",
    "categorical = [\n",
    "    'gender',\n",
    "    'seniorcitizen',\n",
    "    'partner',\n",
    "    'dependents',\n",
    "    'phoneservice',\n",
    "    'multiplelines',\n",
    "    'internetservice',\n",
    "    'onlinesecurity',\n",
    "    'onlinebackup',\n",
    "    'deviceprotection',\n",
    "    'techsupport',\n",
    "    'streamingtv',\n",
    "    'streamingmovies',\n",
    "    'contract',\n",
    "    'paperlessbilling',\n",
    "    'paymentmethod',\n",
    "]"
   ]
  },
  {
   "cell_type": "markdown",
   "id": "60bcfe9a-28b3-4c3c-b3e2-7ef6a8a508da",
   "metadata": {
    "jp-MarkdownHeadingCollapsed": true
   },
   "source": [
    "#### Model training"
   ]
  },
  {
   "cell_type": "code",
   "execution_count": 5,
   "id": "d0e08857-f0e2-4609-8774-02fd8789b38d",
   "metadata": {},
   "outputs": [
    {
     "data": {
      "text/html": [
       "<style>#sk-container-id-1 {color: black;}#sk-container-id-1 pre{padding: 0;}#sk-container-id-1 div.sk-toggleable {background-color: white;}#sk-container-id-1 label.sk-toggleable__label {cursor: pointer;display: block;width: 100%;margin-bottom: 0;padding: 0.3em;box-sizing: border-box;text-align: center;}#sk-container-id-1 label.sk-toggleable__label-arrow:before {content: \"▸\";float: left;margin-right: 0.25em;color: #696969;}#sk-container-id-1 label.sk-toggleable__label-arrow:hover:before {color: black;}#sk-container-id-1 div.sk-estimator:hover label.sk-toggleable__label-arrow:before {color: black;}#sk-container-id-1 div.sk-toggleable__content {max-height: 0;max-width: 0;overflow: hidden;text-align: left;background-color: #f0f8ff;}#sk-container-id-1 div.sk-toggleable__content pre {margin: 0.2em;color: black;border-radius: 0.25em;background-color: #f0f8ff;}#sk-container-id-1 input.sk-toggleable__control:checked~div.sk-toggleable__content {max-height: 200px;max-width: 100%;overflow: auto;}#sk-container-id-1 input.sk-toggleable__control:checked~label.sk-toggleable__label-arrow:before {content: \"▾\";}#sk-container-id-1 div.sk-estimator input.sk-toggleable__control:checked~label.sk-toggleable__label {background-color: #d4ebff;}#sk-container-id-1 div.sk-label input.sk-toggleable__control:checked~label.sk-toggleable__label {background-color: #d4ebff;}#sk-container-id-1 input.sk-hidden--visually {border: 0;clip: rect(1px 1px 1px 1px);clip: rect(1px, 1px, 1px, 1px);height: 1px;margin: -1px;overflow: hidden;padding: 0;position: absolute;width: 1px;}#sk-container-id-1 div.sk-estimator {font-family: monospace;background-color: #f0f8ff;border: 1px dotted black;border-radius: 0.25em;box-sizing: border-box;margin-bottom: 0.5em;}#sk-container-id-1 div.sk-estimator:hover {background-color: #d4ebff;}#sk-container-id-1 div.sk-parallel-item::after {content: \"\";width: 100%;border-bottom: 1px solid gray;flex-grow: 1;}#sk-container-id-1 div.sk-label:hover label.sk-toggleable__label {background-color: #d4ebff;}#sk-container-id-1 div.sk-serial::before {content: \"\";position: absolute;border-left: 1px solid gray;box-sizing: border-box;top: 0;bottom: 0;left: 50%;z-index: 0;}#sk-container-id-1 div.sk-serial {display: flex;flex-direction: column;align-items: center;background-color: white;padding-right: 0.2em;padding-left: 0.2em;position: relative;}#sk-container-id-1 div.sk-item {position: relative;z-index: 1;}#sk-container-id-1 div.sk-parallel {display: flex;align-items: stretch;justify-content: center;background-color: white;position: relative;}#sk-container-id-1 div.sk-item::before, #sk-container-id-1 div.sk-parallel-item::before {content: \"\";position: absolute;border-left: 1px solid gray;box-sizing: border-box;top: 0;bottom: 0;left: 50%;z-index: -1;}#sk-container-id-1 div.sk-parallel-item {display: flex;flex-direction: column;z-index: 1;position: relative;background-color: white;}#sk-container-id-1 div.sk-parallel-item:first-child::after {align-self: flex-end;width: 50%;}#sk-container-id-1 div.sk-parallel-item:last-child::after {align-self: flex-start;width: 50%;}#sk-container-id-1 div.sk-parallel-item:only-child::after {width: 0;}#sk-container-id-1 div.sk-dashed-wrapped {border: 1px dashed gray;margin: 0 0.4em 0.5em 0.4em;box-sizing: border-box;padding-bottom: 0.4em;background-color: white;}#sk-container-id-1 div.sk-label label {font-family: monospace;font-weight: bold;display: inline-block;line-height: 1.2em;}#sk-container-id-1 div.sk-label-container {text-align: center;}#sk-container-id-1 div.sk-container {/* jupyter's `normalize.less` sets `[hidden] { display: none; }` but bootstrap.min.css set `[hidden] { display: none !important; }` so we also need the `!important` here to be able to override the default hidden behavior on the sphinx rendered scikit-learn.org. See: https://github.com/scikit-learn/scikit-learn/issues/21755 */display: inline-block !important;position: relative;}#sk-container-id-1 div.sk-text-repr-fallback {display: none;}</style><div id=\"sk-container-id-1\" class=\"sk-top-container\"><div class=\"sk-text-repr-fallback\"><pre>LogisticRegression()</pre><b>In a Jupyter environment, please rerun this cell to show the HTML representation or trust the notebook. <br />On GitHub, the HTML representation is unable to render, please try loading this page with nbviewer.org.</b></div><div class=\"sk-container\" hidden><div class=\"sk-item\"><div class=\"sk-estimator sk-toggleable\"><input class=\"sk-toggleable__control sk-hidden--visually\" id=\"sk-estimator-id-1\" type=\"checkbox\" checked><label for=\"sk-estimator-id-1\" class=\"sk-toggleable__label sk-toggleable__label-arrow\">LogisticRegression</label><div class=\"sk-toggleable__content\"><pre>LogisticRegression()</pre></div></div></div></div></div>"
      ],
      "text/plain": [
       "LogisticRegression()"
      ]
     },
     "execution_count": 5,
     "metadata": {},
     "output_type": "execute_result"
    }
   ],
   "source": [
    "dv = DictVectorizer(sparse=False)\n",
    "\n",
    "train_dict = df_train[categorical + numerical].to_dict(orient='records')\n",
    "X_train = dv.fit_transform(train_dict)\n",
    "\n",
    "model = LogisticRegression()\n",
    "model.fit(X_train, y_train)"
   ]
  },
  {
   "cell_type": "markdown",
   "id": "ded609f4-073d-4a13-b452-9e14dbc0a897",
   "metadata": {},
   "source": [
    "#### Model validation"
   ]
  },
  {
   "cell_type": "code",
   "execution_count": 6,
   "id": "90503d48-f71a-4454-b59e-8cf94122d8d7",
   "metadata": {},
   "outputs": [
    {
     "data": {
      "text/plain": [
       "0.8034066713981547"
      ]
     },
     "execution_count": 6,
     "metadata": {},
     "output_type": "execute_result"
    }
   ],
   "source": [
    "val_dict = df_val[categorical + numerical].to_dict(orient='records')\n",
    "X_val = dv.transform(val_dict)\n",
    "\n",
    "y_pred = model.predict_proba(X_val)[:, 1]\n",
    "churn_decision = (y_pred >= 0.5)\n",
    "(y_val == churn_decision).mean()"
   ]
  },
  {
   "cell_type": "markdown",
   "id": "477f95fe-f01a-4215-9fba-af9505553b33",
   "metadata": {
    "jp-MarkdownHeadingCollapsed": true
   },
   "source": [
    "### 2. Accuracy and Dummy Model\n",
    "- Evaluate the model on different thresholds\n",
    "- Check the accuracy of dummy baseliness"
   ]
  },
  {
   "cell_type": "code",
   "execution_count": 7,
   "id": "bb4acc4d-3f63-46c9-9251-5eb22635752b",
   "metadata": {},
   "outputs": [
    {
     "data": {
      "text/plain": [
       "1409"
      ]
     },
     "execution_count": 7,
     "metadata": {},
     "output_type": "execute_result"
    }
   ],
   "source": [
    "len(y_val)"
   ]
  },
  {
   "cell_type": "code",
   "execution_count": 8,
   "id": "f94b886c-990d-481a-8d66-5b33e2021785",
   "metadata": {},
   "outputs": [
    {
     "data": {
      "text/plain": [
       "1132"
      ]
     },
     "execution_count": 8,
     "metadata": {},
     "output_type": "execute_result"
    }
   ],
   "source": [
    "(y_val == churn_decision).sum()"
   ]
  },
  {
   "cell_type": "code",
   "execution_count": 9,
   "id": "f2fa8e99-20b8-4376-9990-8f2590aa05e8",
   "metadata": {},
   "outputs": [
    {
     "data": {
      "text/plain": [
       "0.8034066713981547"
      ]
     },
     "execution_count": 9,
     "metadata": {},
     "output_type": "execute_result"
    }
   ],
   "source": [
    "(y_val == churn_decision).mean()"
   ]
  },
  {
   "cell_type": "code",
   "execution_count": 10,
   "id": "bffbb254-1f12-4325-9344-9c19a36668f2",
   "metadata": {},
   "outputs": [
    {
     "data": {
      "text/plain": [
       "0.8034066713981547"
      ]
     },
     "execution_count": 10,
     "metadata": {},
     "output_type": "execute_result"
    }
   ],
   "source": [
    "1132/1409"
   ]
  },
  {
   "cell_type": "code",
   "execution_count": 11,
   "id": "68342a52-5e7e-4f5a-affe-3f0d12d3c4f7",
   "metadata": {},
   "outputs": [
    {
     "data": {
      "text/plain": [
       "0.8034066713981547"
      ]
     },
     "execution_count": 11,
     "metadata": {},
     "output_type": "execute_result"
    }
   ],
   "source": [
    "# Using sckit-learn library to calculate accuracy score\n",
    "from sklearn.metrics import accuracy_score\n",
    "accuracy_score(y_val, y_pred >= 0.5)"
   ]
  },
  {
   "cell_type": "code",
   "execution_count": 12,
   "id": "33272167-7a8d-497b-b0bd-7c2f380f5def",
   "metadata": {},
   "outputs": [
    {
     "name": "stdout",
     "output_type": "stream",
     "text": [
      "0.00 0.274\n",
      "0.05 0.509\n",
      "0.10 0.591\n",
      "0.15 0.666\n",
      "0.20 0.710\n",
      "0.25 0.739\n",
      "0.30 0.760\n",
      "0.35 0.772\n",
      "0.40 0.785\n",
      "0.45 0.793\n",
      "0.50 0.803\n",
      "0.55 0.801\n",
      "0.60 0.795\n",
      "0.65 0.786\n",
      "0.70 0.766\n",
      "0.75 0.744\n",
      "0.80 0.735\n",
      "0.85 0.726\n",
      "0.90 0.726\n",
      "0.95 0.726\n",
      "1.00 0.726\n"
     ]
    }
   ],
   "source": [
    "thresholds = np.linspace(0, 1, 21)\n",
    "scores = []\n",
    "\n",
    "for t in thresholds:\n",
    "    churn_decision = (y_pred >= t)\n",
    "    score = (y_val == churn_decision).mean()\n",
    "    print(\"%.2f %.3f\" % (t, score))\n",
    "    scores.append(score)    "
   ]
  },
  {
   "cell_type": "code",
   "execution_count": 13,
   "id": "4acdc67a-5254-4929-9647-5752a68203ad",
   "metadata": {},
   "outputs": [
    {
     "data": {
      "image/png": "[encoded data removed]",
      "text/plain": [
       "<Figure size 640x480 with 1 Axes>"
      ]
     },
     "metadata": {},
     "output_type": "display_data"
    }
   ],
   "source": [
    "plt.plot(thresholds, scores)\n",
    "plt.show()"
   ]
  },
  {
   "cell_type": "code",
   "execution_count": 14,
   "id": "7957626e-f5fa-45a1-9484-0cc2fbdd2663",
   "metadata": {},
   "outputs": [],
   "source": [
    "from collections import Counter"
   ]
  },
  {
   "cell_type": "code",
   "execution_count": 15,
   "id": "84df67a4-9567-4870-a322-670ccbbb097e",
   "metadata": {},
   "outputs": [
    {
     "data": {
      "text/plain": [
       "Counter({False: 1409})"
      ]
     },
     "execution_count": 15,
     "metadata": {},
     "output_type": "execute_result"
    }
   ],
   "source": [
    "Counter(y_pred > 1.0)"
   ]
  },
  {
   "cell_type": "markdown",
   "id": "f2554ed6-bd3e-45d5-8b81-1d21f32ea673",
   "metadata": {
    "jp-MarkdownHeadingCollapsed": true
   },
   "source": [
    "### 3. Confusion Table\n",
    "- Different types of errors and correct decisions.\n",
    "- Arranging them in a table"
   ]
  },
  {
   "cell_type": "markdown",
   "id": "6b09aac7-788c-4ae2-95b0-c1ff79f42f7a",
   "metadata": {},
   "source": [
    "**Postive [Churn] & Negative [Not Churn]**\n",
    "- True Positive\n",
    "- False Positive\n",
    "- True Negative\n",
    "- False Negative"
   ]
  },
  {
   "cell_type": "code",
   "execution_count": 16,
   "id": "3630a352-d407-4086-9772-732384a29e8b",
   "metadata": {},
   "outputs": [],
   "source": [
    "actual_positive = (y_val == 1)\n",
    "actual_negative = (y_val == 0)"
   ]
  },
  {
   "cell_type": "code",
   "execution_count": 17,
   "id": "83918f7b-680e-4ebc-8572-5ac184470d3d",
   "metadata": {},
   "outputs": [],
   "source": [
    "t = 0.5\n",
    "\n",
    "predict_positive = (y_pred >= t)\n",
    "predict_negative = (y_pred < t)"
   ]
  },
  {
   "cell_type": "code",
   "execution_count": 18,
   "id": "db48f4d5-7187-475a-ba5d-8632f031c62a",
   "metadata": {},
   "outputs": [
    {
     "data": {
      "text/plain": [
       "210"
      ]
     },
     "execution_count": 18,
     "metadata": {},
     "output_type": "execute_result"
    }
   ],
   "source": [
    "# True Positive\n",
    "tp = (actual_positive & predict_positive).sum()\n",
    "tp"
   ]
  },
  {
   "cell_type": "code",
   "execution_count": 19,
   "id": "98020319-6119-46ae-81f7-80d91f6de455",
   "metadata": {},
   "outputs": [
    {
     "data": {
      "text/plain": [
       "922"
      ]
     },
     "execution_count": 19,
     "metadata": {},
     "output_type": "execute_result"
    }
   ],
   "source": [
    "# True Negative\n",
    "tn = (actual_negative & predict_negative).sum()\n",
    "tn"
   ]
  },
  {
   "cell_type": "code",
   "execution_count": 20,
   "id": "c1c05cb9-41db-4686-93ca-3e391d81fdc5",
   "metadata": {},
   "outputs": [
    {
     "data": {
      "text/plain": [
       "101"
      ]
     },
     "execution_count": 20,
     "metadata": {},
     "output_type": "execute_result"
    }
   ],
   "source": [
    "# False Postive\n",
    "fp =(actual_negative & predict_positive).sum()\n",
    "fp"
   ]
  },
  {
   "cell_type": "code",
   "execution_count": 21,
   "id": "fde4acc7-61c9-487b-bce7-a7fe1c5997f8",
   "metadata": {},
   "outputs": [
    {
     "data": {
      "text/plain": [
       "176"
      ]
     },
     "execution_count": 21,
     "metadata": {},
     "output_type": "execute_result"
    }
   ],
   "source": [
    "# False Negative\n",
    "fn = (actual_positive & predict_negative).sum()\n",
    "fn"
   ]
  },
  {
   "cell_type": "code",
   "execution_count": 22,
   "id": "c5f905fc-c1c7-42ae-a492-8b8eb48b7b81",
   "metadata": {},
   "outputs": [
    {
     "data": {
      "text/plain": [
       "array([[922, 101],\n",
       "       [176, 210]])"
      ]
     },
     "execution_count": 22,
     "metadata": {},
     "output_type": "execute_result"
    }
   ],
   "source": [
    "confusion_matrix = np.array([\n",
    "    [tn, fp],\n",
    "    [fn, tp]\n",
    "])\n",
    "\n",
    "confusion_matrix"
   ]
  },
  {
   "cell_type": "code",
   "execution_count": 23,
   "id": "343565de-a995-4251-a62d-95483c7071bf",
   "metadata": {},
   "outputs": [
    {
     "data": {
      "text/plain": [
       "array([[0.65, 0.07],\n",
       "       [0.12, 0.15]])"
      ]
     },
     "execution_count": 23,
     "metadata": {},
     "output_type": "execute_result"
    }
   ],
   "source": [
    "# Normalizing the values\n",
    "(confusion_matrix / confusion_matrix.sum()).round(2)"
   ]
  },
  {
   "cell_type": "code",
   "execution_count": 24,
   "id": "7053e8fe-d6c9-4a17-bb88-90d4df87f304",
   "metadata": {},
   "outputs": [
    {
     "data": {
      "text/plain": [
       "0.8"
      ]
     },
     "execution_count": 24,
     "metadata": {},
     "output_type": "execute_result"
    }
   ],
   "source": [
    "# accuracy = tn + tp\n",
    "accuracy = 0.65 + 0.15\n",
    "accuracy"
   ]
  },
  {
   "cell_type": "markdown",
   "id": "ddf97cd7-616f-4c81-8fdb-76038f9a86d3",
   "metadata": {},
   "source": [
    "### 4. Precision & Recall"
   ]
  },
  {
   "cell_type": "code",
   "execution_count": 25,
   "id": "1da2a0fc-e5ee-4dc9-b6fb-3ed4c35b5646",
   "metadata": {},
   "outputs": [
    {
     "data": {
      "text/plain": [
       "0.8034066713981547"
      ]
     },
     "execution_count": 25,
     "metadata": {},
     "output_type": "execute_result"
    }
   ],
   "source": [
    "# Accuracy calculation from confusion matrix\n",
    "accuracy = (tp + tn) / ( tp + fp + tn + fn)\n",
    "accuracy"
   ]
  },
  {
   "cell_type": "markdown",
   "id": "7aa166d1-fff7-4841-a99c-9333ad2a837d",
   "metadata": {},
   "source": [
    "**Precision:** Fraction of postive prediction that are correct."
   ]
  },
  {
   "cell_type": "code",
   "execution_count": 26,
   "id": "e760d4a3-bccb-48da-ba0a-852e439a1217",
   "metadata": {},
   "outputs": [
    {
     "data": {
      "text/plain": [
       "0.6752411575562701"
      ]
     },
     "execution_count": 26,
     "metadata": {},
     "output_type": "execute_result"
    }
   ],
   "source": [
    "p = tp / (tp + fp)\n",
    "p"
   ]
  },
  {
   "cell_type": "markdown",
   "id": "9d29bca6-1384-4e0d-b328-24c7c085dc59",
   "metadata": {},
   "source": [
    "**Recall:** Positive prediction which correctly identified. "
   ]
  },
  {
   "cell_type": "code",
   "execution_count": 27,
   "id": "51ba5956-cd52-40f9-a15a-018dc8d1579f",
   "metadata": {},
   "outputs": [
    {
     "data": {
      "text/plain": [
       "0.5440414507772021"
      ]
     },
     "execution_count": 27,
     "metadata": {},
     "output_type": "execute_result"
    }
   ],
   "source": [
    "r = tp / (tp + fn)\n",
    "r"
   ]
  },
  {
   "cell_type": "markdown",
   "id": "fd83a0cb-28c6-472a-9681-5506678fac7f",
   "metadata": {},
   "source": [
    "### 5. ROC Curves and Plotting"
   ]
  },
  {
   "cell_type": "markdown",
   "id": "a0daa815-79b2-4777-be01-f161234ec1c0",
   "metadata": {},
   "source": [
    "#### TPR & FPR\n",
    "- **TPR:** True Positive Rate\n",
    "- **FPR:** False Positive Rate"
   ]
  },
  {
   "cell_type": "code",
   "execution_count": 28,
   "id": "27ec7a05-9b64-400a-b9b2-4595824cb791",
   "metadata": {},
   "outputs": [
    {
     "data": {
      "text/plain": [
       "0.5440414507772021"
      ]
     },
     "execution_count": 28,
     "metadata": {},
     "output_type": "execute_result"
    }
   ],
   "source": [
    "tpr = tp  / (tp + fn)\n",
    "tpr"
   ]
  },
  {
   "cell_type": "code",
   "execution_count": 29,
   "id": "6ce52421-2fd6-4944-baf6-1be54ab6184e",
   "metadata": {},
   "outputs": [
    {
     "data": {
      "text/plain": [
       "0.09872922776148582"
      ]
     },
     "execution_count": 29,
     "metadata": {},
     "output_type": "execute_result"
    }
   ],
   "source": [
    "fpr= fp / (fp + tn)\n",
    "fpr"
   ]
  },
  {
   "cell_type": "code",
   "execution_count": 30,
   "id": "69cbd0f2-fad1-47fd-a800-97e0edbdf4dc",
   "metadata": {},
   "outputs": [],
   "source": [
    "scores = []\n",
    "thresholds = np.linspace(0, 1, 101 )\n",
    "\n",
    "for t in thresholds:\n",
    "    actual_positive = (y_val == 1)\n",
    "    actual_negative = (y_val == 0)\n",
    "\n",
    "    predict_positive = (y_pred >= t)\n",
    "    predict_negative = (y_pred < t)\n",
    "\n",
    "    tp = (actual_positive & predict_positive).sum()\n",
    "    fp = (actual_negative & predict_positive).sum()\n",
    "    tn = (actual_negative & predict_negative).sum()\n",
    "    fn = (actual_positive & predict_negative).sum()\n",
    "\n",
    "    tpr = tp  / (tp + fn)\n",
    "    fpr= fp / (fp + tn)\n",
    "\n",
    "    scores.append((t, tp, fp, tn, fn, tpr, fpr))    "
   ]
  },
  {
   "cell_type": "code",
   "execution_count": 31,
   "id": "764c9562-48f3-4fd3-814f-d7f1f02df839",
   "metadata": {},
   "outputs": [
    {
     "data": {
      "text/html": [
       "<div>\n",
       "<style scoped>\n",
       "    .dataframe tbody tr th:only-of-type {\n",
       "        vertical-align: middle;\n",
       "    }\n",
       "\n",
       "    .dataframe tbody tr th {\n",
       "        vertical-align: top;\n",
       "    }\n",
       "\n",
       "    .dataframe thead th {\n",
       "        text-align: right;\n",
       "    }\n",
       "</style>\n",
       "<table border=\"1\" class=\"dataframe\">\n",
       "  <thead>\n",
       "    <tr style=\"text-align: right;\">\n",
       "      <th></th>\n",
       "      <th>threshold</th>\n",
       "      <th>tp</th>\n",
       "      <th>fp</th>\n",
       "      <th>tn</th>\n",
       "      <th>fn</th>\n",
       "      <th>tpr</th>\n",
       "      <th>fpr</th>\n",
       "    </tr>\n",
       "  </thead>\n",
       "  <tbody>\n",
       "    <tr>\n",
       "      <th>0</th>\n",
       "      <td>0.00</td>\n",
       "      <td>386</td>\n",
       "      <td>1023</td>\n",
       "      <td>0</td>\n",
       "      <td>0</td>\n",
       "      <td>1.000000</td>\n",
       "      <td>1.000000</td>\n",
       "    </tr>\n",
       "    <tr>\n",
       "      <th>1</th>\n",
       "      <td>0.01</td>\n",
       "      <td>385</td>\n",
       "      <td>913</td>\n",
       "      <td>110</td>\n",
       "      <td>1</td>\n",
       "      <td>0.997409</td>\n",
       "      <td>0.892473</td>\n",
       "    </tr>\n",
       "    <tr>\n",
       "      <th>2</th>\n",
       "      <td>0.02</td>\n",
       "      <td>384</td>\n",
       "      <td>830</td>\n",
       "      <td>193</td>\n",
       "      <td>2</td>\n",
       "      <td>0.994819</td>\n",
       "      <td>0.811339</td>\n",
       "    </tr>\n",
       "    <tr>\n",
       "      <th>3</th>\n",
       "      <td>0.03</td>\n",
       "      <td>383</td>\n",
       "      <td>766</td>\n",
       "      <td>257</td>\n",
       "      <td>3</td>\n",
       "      <td>0.992228</td>\n",
       "      <td>0.748778</td>\n",
       "    </tr>\n",
       "    <tr>\n",
       "      <th>4</th>\n",
       "      <td>0.04</td>\n",
       "      <td>381</td>\n",
       "      <td>715</td>\n",
       "      <td>308</td>\n",
       "      <td>5</td>\n",
       "      <td>0.987047</td>\n",
       "      <td>0.698925</td>\n",
       "    </tr>\n",
       "  </tbody>\n",
       "</table>\n",
       "</div>"
      ],
      "text/plain": [
       "   threshold   tp    fp   tn  fn       tpr       fpr\n",
       "0       0.00  386  1023    0   0  1.000000  1.000000\n",
       "1       0.01  385   913  110   1  0.997409  0.892473\n",
       "2       0.02  384   830  193   2  0.994819  0.811339\n",
       "3       0.03  383   766  257   3  0.992228  0.748778\n",
       "4       0.04  381   715  308   5  0.987047  0.698925"
      ]
     },
     "execution_count": 31,
     "metadata": {},
     "output_type": "execute_result"
    }
   ],
   "source": [
    "columns = ['threshold', 'tp', 'fp', 'tn', 'fn', 'tpr', 'fpr']\n",
    "df_scores = pd.DataFrame(scores, columns=columns)\n",
    "df_scores.head()"
   ]
  },
  {
   "cell_type": "code",
   "execution_count": 32,
   "id": "39c20bb3-b8e2-4bc4-ae51-007c79c152bb",
   "metadata": {},
   "outputs": [
    {
     "data": {
      "image/png": "[encoded data removed]",
      "text/plain": [
       "<Figure size 640x480 with 1 Axes>"
      ]
     },
     "metadata": {},
     "output_type": "display_data"
    }
   ],
   "source": [
    "# Plotting the graph\n",
    "plt.plot(df_scores.threshold, df_scores.tpr, label='TPR')\n",
    "plt.plot(df_scores.threshold, df_scores.fpr, label='FPR')\n",
    "plt.legend()\n",
    "plt.show()"
   ]
  },
  {
   "cell_type": "markdown",
   "id": "ed99e5e3-f2d7-4dfc-b073-90ad50d690b5",
   "metadata": {
    "jp-MarkdownHeadingCollapsed": true
   },
   "source": [
    "#### Random Model"
   ]
  },
  {
   "cell_type": "code",
   "execution_count": 33,
   "id": "bef4ff09-2589-4c6c-ade6-9377dfe79953",
   "metadata": {},
   "outputs": [],
   "source": [
    "np.random.seed(1)\n",
    "y_rand = np.random.uniform(0, 1, size=len(y_val))"
   ]
  },
  {
   "cell_type": "code",
   "execution_count": 34,
   "id": "e5c0637c-d93e-4921-84fe-63796c380ce8",
   "metadata": {},
   "outputs": [
    {
     "data": {
      "text/plain": [
       "0.5017743080198722"
      ]
     },
     "execution_count": 34,
     "metadata": {},
     "output_type": "execute_result"
    }
   ],
   "source": [
    "((y_rand >= 0.5) == y_val).mean()"
   ]
  },
  {
   "cell_type": "code",
   "execution_count": 35,
   "id": "41734378-f92d-4f30-af78-364cece8784a",
   "metadata": {},
   "outputs": [],
   "source": [
    "def tpr_fpr_dataframes(y_val, y_pred):\n",
    "    scores = []\n",
    "    thresholds = np.linspace(0, 1, 101 )\n",
    "    \n",
    "    for t in thresholds:\n",
    "        actual_positive = (y_val == 1)\n",
    "        actual_negative = (y_val == 0)\n",
    "    \n",
    "        predict_positive = (y_pred >= t)\n",
    "        predict_negative = (y_pred < t)\n",
    "    \n",
    "        tp = (actual_positive & predict_positive).sum()\n",
    "        fp = (actual_negative & predict_positive).sum()\n",
    "        tn = (actual_negative & predict_negative).sum()\n",
    "        fn = (actual_positive & predict_negative).sum()\n",
    "    \n",
    "        tpr = tp  / (tp + fn)\n",
    "        fpr= fp / (fp + tn)\n",
    "    \n",
    "        scores.append((t, tp, fp, tn, fn, tpr, fpr))\n",
    "        \n",
    "    columns = ['threshold', 'tp', 'fp', 'tn', 'fn', 'tpr', 'fpr']\n",
    "    df_scores = pd.DataFrame(scores, columns=columns)\n",
    "\n",
    "    return df_scores"
   ]
  },
  {
   "cell_type": "code",
   "execution_count": 36,
   "id": "650ba6c4-3f69-43ad-8105-f53833511219",
   "metadata": {},
   "outputs": [],
   "source": [
    "df_rand = tpr_fpr_dataframes(y_val, y_rand)"
   ]
  },
  {
   "cell_type": "code",
   "execution_count": 37,
   "id": "f738ac16-4fa8-4f94-9fce-5335cbb9b39e",
   "metadata": {},
   "outputs": [
    {
     "data": {
      "image/png": "[encoded data removed]",
      "text/plain": [
       "<Figure size 640x480 with 1 Axes>"
      ]
     },
     "metadata": {},
     "output_type": "display_data"
    }
   ],
   "source": [
    "# Plotting the graph\n",
    "plt.plot(df_rand.threshold, df_rand.tpr, label='TPR')\n",
    "plt.plot(df_rand.threshold, df_rand.fpr, label='FPR')\n",
    "plt.legend()\n",
    "plt.show()"
   ]
  },
  {
   "cell_type": "markdown",
   "id": "709c0b92-0123-4e24-afb1-e8c8a8c3f8de",
   "metadata": {
    "jp-MarkdownHeadingCollapsed": true
   },
   "source": [
    "#### Ideal Model"
   ]
  },
  {
   "cell_type": "code",
   "execution_count": 38,
   "id": "eb8659f1-ebea-4f14-ad21-974162b0866b",
   "metadata": {},
   "outputs": [
    {
     "data": {
      "text/plain": [
       "(1023, 386)"
      ]
     },
     "execution_count": 38,
     "metadata": {},
     "output_type": "execute_result"
    }
   ],
   "source": [
    "num_neg = (y_val == 0).sum()\n",
    "num_pos = (y_val == 1).sum()\n",
    "\n",
    "(num_neg, num_pos)"
   ]
  },
  {
   "cell_type": "code",
   "execution_count": 39,
   "id": "deeca55e-af4d-448b-bc7e-ec3f4e90ef4d",
   "metadata": {},
   "outputs": [
    {
     "data": {
      "text/plain": [
       "array([0, 0, 0, ..., 1, 1, 1])"
      ]
     },
     "execution_count": 39,
     "metadata": {},
     "output_type": "execute_result"
    }
   ],
   "source": [
    "y_ideal = np.repeat([0, 1], [num_neg, num_pos])\n",
    "y_ideal"
   ]
  },
  {
   "cell_type": "code",
   "execution_count": 40,
   "id": "e8753985-0aef-4655-ae04-e5c14fb0b831",
   "metadata": {},
   "outputs": [
    {
     "data": {
      "text/plain": [
       "array([0.00000000e+00, 7.10227273e-04, 1.42045455e-03, ...,\n",
       "       9.98579545e-01, 9.99289773e-01, 1.00000000e+00])"
      ]
     },
     "execution_count": 40,
     "metadata": {},
     "output_type": "execute_result"
    }
   ],
   "source": [
    "y_ideal_pred = np.linspace(0, 1, len(y_val))\n",
    "y_ideal_pred"
   ]
  },
  {
   "cell_type": "code",
   "execution_count": 41,
   "id": "84b16037-4859-4ac8-a122-23f310e2bd8e",
   "metadata": {},
   "outputs": [
    {
     "data": {
      "text/plain": [
       "1.0"
      ]
     },
     "execution_count": 41,
     "metadata": {},
     "output_type": "execute_result"
    }
   ],
   "source": [
    "((y_ideal_pred >= 0.726) == y_ideal).mean()"
   ]
  },
  {
   "cell_type": "code",
   "execution_count": 42,
   "id": "a2f0b214-ae6f-4190-9779-5b3450fae68b",
   "metadata": {},
   "outputs": [],
   "source": [
    "df_ideal = tpr_fpr_dataframes(y_ideal, y_ideal_pred)"
   ]
  },
  {
   "cell_type": "code",
   "execution_count": 43,
   "id": "df8edf23-97ca-47c8-a695-cd1280bcfd51",
   "metadata": {},
   "outputs": [
    {
     "data": {
      "image/png": "[encoded data removed]",
      "text/plain": [
       "<Figure size 640x480 with 1 Axes>"
      ]
     },
     "metadata": {},
     "output_type": "display_data"
    }
   ],
   "source": [
    "# Plotting the graph\n",
    "plt.plot(df_ideal.threshold, df_ideal.tpr, label='TPR')\n",
    "plt.plot(df_ideal.threshold, df_ideal.fpr, label='FPR')\n",
    "plt.legend()\n",
    "plt.show()"
   ]
  },
  {
   "cell_type": "markdown",
   "id": "ad9fa1ef-a2c3-49e3-9180-8a9d9a90e109",
   "metadata": {
    "jp-MarkdownHeadingCollapsed": true
   },
   "source": [
    "#### Putting Everthing Together"
   ]
  },
  {
   "cell_type": "code",
   "execution_count": 44,
   "id": "c837dfde-6abb-47f4-9556-e2c8928f156f",
   "metadata": {},
   "outputs": [
    {
     "data": {
      "image/png": "[encoded data removed]",
      "text/plain": [
       "<Figure size 640x480 with 1 Axes>"
      ]
     },
     "metadata": {},
     "output_type": "display_data"
    }
   ],
   "source": [
    "# Plotting the graph for actual scores\n",
    "plt.plot(df_scores.threshold, df_scores.tpr, label='TPR')\n",
    "plt.plot(df_scores.threshold, df_scores.fpr, label='FPR')\n",
    "\n",
    "# Plotting the graph for ideal model\n",
    "plt.plot(df_ideal.threshold, df_ideal.tpr, label='TPR', color='black')\n",
    "plt.plot(df_ideal.threshold, df_ideal.fpr, label='FPR', color='black')\n",
    "\n",
    "plt.legend()\n",
    "plt.show()"
   ]
  },
  {
   "cell_type": "code",
   "execution_count": 45,
   "id": "393944dc-05a0-482a-bacf-3601cb9024c0",
   "metadata": {},
   "outputs": [
    {
     "data": {
      "image/png": "[encoded data removed]",
      "text/plain": [
       "<Figure size 500x500 with 1 Axes>"
      ]
     },
     "metadata": {},
     "output_type": "display_data"
    }
   ],
   "source": [
    "plt.figure(figsize=(5, 5))\n",
    "\n",
    "plt.plot(df_scores.fpr, df_scores.tpr, label='Model')\n",
    "plt.plot([0, 1], [0, 1], label='Random', linestyle='--')\n",
    "# plt.plot(df_rand.fpr, df_rand.tpr, label='random')\n",
    "# plt.plot(df_ideal.fpr, df_ideal.tpr, label='ideal')\n",
    "\n",
    "plt.xlabel('FPR')\n",
    "plt.ylabel('TPR')\n",
    "plt.legend()\n",
    "\n",
    "plt.show()"
   ]
  },
  {
   "cell_type": "markdown",
   "id": "e06121a4-a0c9-4d37-bfd4-b20248dcc5f1",
   "metadata": {
    "jp-MarkdownHeadingCollapsed": true
   },
   "source": [
    "#### Sklearn Library"
   ]
  },
  {
   "cell_type": "code",
   "execution_count": 46,
   "id": "a26b2e42-c2f9-4248-86a3-b5683469918d",
   "metadata": {},
   "outputs": [],
   "source": [
    "from sklearn.metrics import roc_curve"
   ]
  },
  {
   "cell_type": "code",
   "execution_count": 47,
   "id": "7682b3fd-ef52-4c2f-8b37-85eda943e657",
   "metadata": {},
   "outputs": [],
   "source": [
    "fpr, tpr, threshold = roc_curve(y_val, y_pred)"
   ]
  },
  {
   "cell_type": "code",
   "execution_count": 48,
   "id": "adcba9b4-3a90-487b-b1a8-e40ddc4c83d2",
   "metadata": {},
   "outputs": [
    {
     "data": {
      "image/png": "[encoded data removed]",
      "text/plain": [
       "<Figure size 500x500 with 1 Axes>"
      ]
     },
     "metadata": {},
     "output_type": "display_data"
    }
   ],
   "source": [
    "plt.figure(figsize=(5, 5))\n",
    "\n",
    "plt.plot(fpr, tpr, label='Model')\n",
    "plt.plot([0, 1], [0, 1], label='Random', linestyle='--')\n",
    "\n",
    "plt.xlabel('FPR')\n",
    "plt.ylabel('TPR')\n",
    "plt.legend()\n",
    "\n",
    "plt.show()"
   ]
  },
  {
   "cell_type": "markdown",
   "id": "90208818-eb1d-443b-bf2b-27536fc80f5e",
   "metadata": {},
   "source": [
    "### 6. ROC AUC\n",
    "- Area under the ROC curve - useful metrics\n",
    "- Interpretation of AUC"
   ]
  },
  {
   "cell_type": "code",
   "execution_count": 49,
   "id": "864a772f-d2c1-430d-9958-9a7a91871524",
   "metadata": {},
   "outputs": [],
   "source": [
    "from sklearn.metrics import auc"
   ]
  },
  {
   "cell_type": "code",
   "execution_count": 50,
   "id": "7c1e1760-2e1c-4cfd-90b0-7f7304722c91",
   "metadata": {},
   "outputs": [
    {
     "data": {
      "text/plain": [
       "0.8438479732980819"
      ]
     },
     "execution_count": 50,
     "metadata": {},
     "output_type": "execute_result"
    }
   ],
   "source": [
    "auc(fpr, tpr)"
   ]
  },
  {
   "cell_type": "code",
   "execution_count": 51,
   "id": "90463933-e574-4cdc-9078-9b49ca17a96f",
   "metadata": {},
   "outputs": [
    {
     "data": {
      "text/plain": [
       "0.8438732975754537"
      ]
     },
     "execution_count": 51,
     "metadata": {},
     "output_type": "execute_result"
    }
   ],
   "source": [
    "auc(df_scores.fpr, df_scores.tpr)"
   ]
  },
  {
   "cell_type": "code",
   "execution_count": 52,
   "id": "7c8484f5-5416-49cb-bb22-e49df837c643",
   "metadata": {},
   "outputs": [
    {
     "data": {
      "text/plain": [
       "0.9999430203759136"
      ]
     },
     "execution_count": 52,
     "metadata": {},
     "output_type": "execute_result"
    }
   ],
   "source": [
    "auc(df_ideal.fpr, df_ideal.tpr)"
   ]
  },
  {
   "cell_type": "code",
   "execution_count": 53,
   "id": "991cf86a-d6e4-4957-8a30-77df1115fc65",
   "metadata": {},
   "outputs": [
    {
     "data": {
      "text/plain": [
       "0.8438479732980819"
      ]
     },
     "execution_count": 53,
     "metadata": {},
     "output_type": "execute_result"
    }
   ],
   "source": [
    "from sklearn.metrics import roc_curve\n",
    "from sklearn.metrics import auc\n",
    "\n",
    "fpr, tpr, threshold = roc_curve(y_val, y_pred)\n",
    "auc(fpr, tpr)"
   ]
  },
  {
   "cell_type": "code",
   "execution_count": 54,
   "id": "ed0b672d-47c9-405f-a6c2-3aace9aeca52",
   "metadata": {},
   "outputs": [
    {
     "data": {
      "text/plain": [
       "0.8438479732980819"
      ]
     },
     "execution_count": 54,
     "metadata": {},
     "output_type": "execute_result"
    }
   ],
   "source": [
    "from sklearn.metrics import roc_auc_score\n",
    "\n",
    "roc_auc_score(y_val, y_pred)"
   ]
  },
  {
   "cell_type": "code",
   "execution_count": 55,
   "id": "51cbe904-ac9c-4dfb-8ee2-e2851e9ad5a3",
   "metadata": {},
   "outputs": [
    {
     "data": {
      "text/plain": [
       "array([0.00899723, 0.20452842, 0.21222586, ..., 0.1363944 , 0.79977064,\n",
       "       0.83740732])"
      ]
     },
     "execution_count": 55,
     "metadata": {},
     "output_type": "execute_result"
    }
   ],
   "source": [
    "y_pred"
   ]
  },
  {
   "cell_type": "markdown",
   "id": "fe0294f3-5e9b-4ae4-9cf5-051b8e5e65f4",
   "metadata": {},
   "source": [
    "#### AUC Interpretation\n",
    "Probabilty that randomly selected churned people[postive] is higher that not churned perople[negative]."
   ]
  },
  {
   "cell_type": "code",
   "execution_count": 56,
   "id": "370ebe1c-c513-4213-9031-2367b4fd2232",
   "metadata": {},
   "outputs": [],
   "source": [
    "neg = y_pred[y_val == 0]\n",
    "pos = y_pred[y_val == 1]"
   ]
  },
  {
   "cell_type": "code",
   "execution_count": 57,
   "id": "04396d33-610b-40ae-b22e-b93840a04a5e",
   "metadata": {},
   "outputs": [],
   "source": [
    "import random"
   ]
  },
  {
   "cell_type": "code",
   "execution_count": 58,
   "id": "6659164d-66d4-416d-a736-b6ef33ea7ae6",
   "metadata": {},
   "outputs": [
    {
     "data": {
      "text/plain": [
       "0.84273"
      ]
     },
     "execution_count": 58,
     "metadata": {},
     "output_type": "execute_result"
    }
   ],
   "source": [
    "n = 100000\n",
    "success = 0\n",
    "\n",
    "for i in range(n):\n",
    "    \n",
    "    pos_idx = random.randint(0, len(pos) - 1)\n",
    "    neg_idx = random.randint(0, len(neg) - 1)\n",
    "    \n",
    "    if pos[pos_idx] > neg[neg_idx]:\n",
    "        success += 1\n",
    "        \n",
    "success/n"
   ]
  },
  {
   "cell_type": "markdown",
   "id": "3fbac0fc-9b63-467d-8bb2-1df5ebb858c4",
   "metadata": {},
   "source": [
    "### 7. Cross-Validation\n",
    "- Evaluating the same model on different subset of data.\n",
    "- Getting the average prediction and spread within predictions.\n",
    "- K-fold Cross Validation"
   ]
  },
  {
   "cell_type": "code",
   "execution_count": 59,
   "id": "eb80cc91-bc57-44c9-90ba-0499f20db7ce",
   "metadata": {},
   "outputs": [],
   "source": [
    "def train(df_train, y_train, C=1.0):\n",
    "    dicts = df_train[categorical + numerical].to_dict(orient='records')\n",
    "\n",
    "    dv = DictVectorizer(sparse=False)\n",
    "    X_train = dv.fit_transform(dicts)\n",
    "\n",
    "    model = LogisticRegression(C=C, max_iter=1000)\n",
    "    model.fit(X_train, y_train)\n",
    "    \n",
    "    return dv, model"
   ]
  },
  {
   "cell_type": "code",
   "execution_count": 60,
   "id": "b2a223ce-a0a5-40da-9b8a-7b426d052897",
   "metadata": {},
   "outputs": [],
   "source": [
    "dv, model = train(df_train, y_train, C=0.001)"
   ]
  },
  {
   "cell_type": "code",
   "execution_count": 61,
   "id": "e0f8a345-088a-46cd-8f25-859165a43f0d",
   "metadata": {},
   "outputs": [],
   "source": [
    "def predict(df, dv, model):\n",
    "    dicts = df[categorical + numerical].to_dict(orient='records')\n",
    "\n",
    "    X = dv.transform(dicts)\n",
    "    y_pred = model.predict_proba(X)[:, 1]\n",
    "\n",
    "    return y_pred"
   ]
  },
  {
   "cell_type": "code",
   "execution_count": 62,
   "id": "ae28f899-c9a3-4d17-b283-5a32a23f4995",
   "metadata": {},
   "outputs": [],
   "source": [
    "y_pred = predict(df_val, dv, model)"
   ]
  },
  {
   "cell_type": "code",
   "execution_count": 63,
   "id": "2373f38a-a988-41fd-979e-ff4de8fd1f4a",
   "metadata": {},
   "outputs": [],
   "source": [
    "from sklearn.model_selection import KFold"
   ]
  },
  {
   "cell_type": "code",
   "execution_count": 64,
   "id": "5085e79d-d089-4604-b645-3af718a74e7a",
   "metadata": {},
   "outputs": [],
   "source": [
    "from tqdm.auto import tqdm"
   ]
  },
  {
   "cell_type": "code",
   "execution_count": 65,
   "id": "209c2e5d-98c9-4d92-9ca5-a45a7882f978",
   "metadata": {},
   "outputs": [
    {
     "name": "stderr",
     "output_type": "stream",
     "text": [
      " 14%|█▍        | 1/7 [00:02<00:12,  2.05s/it]"
     ]
    },
    {
     "name": "stdout",
     "output_type": "stream",
     "text": [
      "C=0.001 0.825 +- 0.009\n"
     ]
    },
    {
     "name": "stderr",
     "output_type": "stream",
     "text": [
      " 29%|██▊       | 2/7 [00:04<00:10,  2.09s/it]"
     ]
    },
    {
     "name": "stdout",
     "output_type": "stream",
     "text": [
      "C=0.01 0.840 +- 0.009\n"
     ]
    },
    {
     "name": "stderr",
     "output_type": "stream",
     "text": [
      " 43%|████▎     | 3/7 [00:05<00:07,  1.86s/it]"
     ]
    },
    {
     "name": "stdout",
     "output_type": "stream",
     "text": [
      "C=0.1 0.841 +- 0.008\n"
     ]
    },
    {
     "name": "stderr",
     "output_type": "stream",
     "text": [
      " 57%|█████▋    | 4/7 [00:07<00:05,  1.79s/it]"
     ]
    },
    {
     "name": "stdout",
     "output_type": "stream",
     "text": [
      "C=0.5 0.840 +- 0.007\n"
     ]
    },
    {
     "name": "stderr",
     "output_type": "stream",
     "text": [
      " 71%|███████▏  | 5/7 [00:08<00:03,  1.70s/it]"
     ]
    },
    {
     "name": "stdout",
     "output_type": "stream",
     "text": [
      "C=1 0.840 +- 0.008\n"
     ]
    },
    {
     "name": "stderr",
     "output_type": "stream",
     "text": [
      " 86%|████████▌ | 6/7 [00:10<00:01,  1.67s/it]"
     ]
    },
    {
     "name": "stdout",
     "output_type": "stream",
     "text": [
      "C=5 0.841 +- 0.007\n"
     ]
    },
    {
     "name": "stderr",
     "output_type": "stream",
     "text": [
      "100%|██████████| 7/7 [00:12<00:00,  1.73s/it]"
     ]
    },
    {
     "name": "stdout",
     "output_type": "stream",
     "text": [
      "C=10 0.841 +- 0.008\n"
     ]
    },
    {
     "name": "stderr",
     "output_type": "stream",
     "text": [
      "\n"
     ]
    }
   ],
   "source": [
    "n_splits = 5\n",
    "\n",
    "for C in tqdm([0.001, 0.01, 0.1, 0.5, 1, 5, 10]):\n",
    "    kfold = KFold(n_splits=n_splits, shuffle=True, random_state=1)\n",
    "\n",
    "    scores = []\n",
    "\n",
    "    for train_idx, val_idx in kfold.split(df_full_train):\n",
    "        df_train = df_full_train.iloc[train_idx]\n",
    "        df_val = df_full_train.iloc[val_idx]\n",
    "\n",
    "        y_train = df_train.churn.values\n",
    "        y_val = df_val.churn.values\n",
    "\n",
    "        dv, model = train(df_train, y_train, C=C)\n",
    "        y_pred = predict(df_val, dv, model)\n",
    "\n",
    "        auc = roc_auc_score(y_val, y_pred)\n",
    "        scores.append(auc)\n",
    "\n",
    "    print('C=%s %.3f +- %.3f' % (C, np.mean(scores), np.std(scores)))"
   ]
  },
  {
   "cell_type": "code",
   "execution_count": 66,
   "id": "7c70d9fb-16fd-4551-a122-d6d01ed3315c",
   "metadata": {},
   "outputs": [
    {
     "data": {
      "text/plain": [
       "[0.8419472333210352,\n",
       " 0.8457923619388161,\n",
       " 0.8329279550471604,\n",
       " 0.832027003261495,\n",
       " 0.8525383577546987]"
      ]
     },
     "execution_count": 66,
     "metadata": {},
     "output_type": "execute_result"
    }
   ],
   "source": [
    "scores"
   ]
  },
  {
   "cell_type": "code",
   "execution_count": 67,
   "id": "dd54d484-835b-48a7-9d7b-f7f94236a726",
   "metadata": {},
   "outputs": [
    {
     "data": {
      "text/plain": [
       "0.8572386167896259"
      ]
     },
     "execution_count": 67,
     "metadata": {},
     "output_type": "execute_result"
    }
   ],
   "source": [
    "dv, model = train(df_full_train, df_full_train.churn.values, C=1.0)\n",
    "y_pred = predict(df_test, dv, model)\n",
    "\n",
    "auc = roc_auc_score(y_test, y_pred)\n",
    "auc"
   ]
  },
  {
   "cell_type": "markdown",
   "id": "d8ee0ee1-583a-40fd-be5a-08979bc6d0d8",
   "metadata": {
    "jp-MarkdownHeadingCollapsed": true
   },
   "source": [
    "### 8. Summary"
   ]
  },
  {
   "cell_type": "markdown",
   "id": "4d82fa5b-57cc-42c9-a45c-7332875cad7c",
   "metadata": {},
   "source": [
    "- **Metric:** a single number that describe the preformance of model.\n",
    "- **Accuracy:** fractions of correct answer; sometime it's misleading.\n",
    "- **Precision & Recall:** less misleading when class is imbalanced.\n",
    "- **ROC Curve:** a way to evaluate the performance at all thresholds; okay to use with imbalance\n",
    "- **K-Fold CV:** more reliable estimates the performance(mean + std)  "
   ]
  },
  {
   "cell_type": "markdown",
   "id": "c44dfe9f-a404-4e98-a3d1-535f9c401441",
   "metadata": {
    "jp-MarkdownHeadingCollapsed": true
   },
   "source": [
    "### 9. Explore More"
   ]
  },
  {
   "cell_type": "markdown",
   "id": "cd0b8f78-1959-486c-aec7-9f75ebee7b63",
   "metadata": {},
   "source": [
    "- Check the precision and recall of the dummy classifier that always predict 'FALSE'\n",
    "- F1 score = 2 * P * R / (P + R)\n",
    "- Evaluate precision and recall at different thresholds, plot P vs R - this way you will get precision and recall curve (similar to ROC curve)\n",
    "- Are under the PR curve is also useful metric"
   ]
  }
 ],
 "metadata": {
  "kernelspec": {
   "display_name": "machine_learning",
   "language": "python",
   "name": "machine_learning"
  },
  "language_info": {
   "codemirror_mode": {
    "name": "ipython",
    "version": 3
   },
   "file_extension": ".py",
   "mimetype": "text/x-python",
   "name": "python",
   "nbconvert_exporter": "python",
   "pygments_lexer": "ipython3",
   "version": "3.11.1"
  }
 },
 "nbformat": 4,
 "nbformat_minor": 5
}
