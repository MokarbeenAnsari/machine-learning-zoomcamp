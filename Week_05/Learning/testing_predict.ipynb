{
 "cells": [
  {
   "cell_type": "code",
   "execution_count": 1,
   "id": "59728a62-2739-4487-b017-56322fcb9175",
   "metadata": {},
   "outputs": [],
   "source": [
    "import requests\n",
    "import json"
   ]
  },
  {
   "cell_type": "code",
   "execution_count": 2,
   "id": "2a4ec905-8a7f-4514-83cb-cfee904afd05",
   "metadata": {},
   "outputs": [],
   "source": [
    "url = 'http://localhost:9696/predict'"
   ]
  },
  {
   "cell_type": "code",
   "execution_count": 3,
   "id": "9662c417-cc49-4dc7-8902-026dee711a41",
   "metadata": {},
   "outputs": [],
   "source": [
    "# Customer data\n",
    "customer = {\n",
    "    \"gender\": \"male\",\n",
    "    \"seniorcitizen\": 0,\n",
    "    \"partner\": \"no\",\n",
    "    \"dependents\": \"no\",\n",
    "    \"phoneservice\": \"yes\",\n",
    "    \"multiplelines\": \"no\",\n",
    "    \"internetservice\": \"no\",\n",
    "    \"onlinesecurity\": \"no_internet_service\",\n",
    "    \"onlinebackup\": \"no_internet_service\",\n",
    "    \"deviceprotection\": \"no_internet_service\",\n",
    "    \"techsupport\": \"no_internet_service\",\n",
    "    \"streamingtv\": \"no_internet_service\",\n",
    "    \"streamingmovies\": \"no_internet_service\",\n",
    "    \"contract\": \"month-to-month\",\n",
    "    \"paperlessbilling\": \"no\",\n",
    "    \"paymentmethod\": \"mailed_check\",\n",
    "    \"tenure\": 1,\n",
    "    \"monthlycharges\": 20.2,\n",
    "    \"totalcharges\": 20.2\n",
    "}"
   ]
  },
  {
   "cell_type": "code",
   "execution_count": 8,
   "id": "2d41f593-0da7-4867-b626-ef4a0422a86d",
   "metadata": {},
   "outputs": [
    {
     "name": "stdout",
     "output_type": "stream",
     "text": [
      "Not sending any promo code!\n"
     ]
    }
   ],
   "source": [
    "response = requests.post(url, json=customer).json()\n",
    "\n",
    "if response['churn'] == True:\n",
    "    print(f\"Sending promo mail to customer xyz-123!\")\n",
    "else:\n",
    "    print(f\"Not sending any promo code!\")"
   ]
  }
 ],
 "metadata": {
  "kernelspec": {
   "display_name": "interview",
   "language": "python",
   "name": "interview"
  },
  "language_info": {
   "codemirror_mode": {
    "name": "ipython",
    "version": 3
   },
   "file_extension": ".py",
   "mimetype": "text/x-python",
   "name": "python",
   "nbconvert_exporter": "python",
   "pygments_lexer": "ipython3",
   "version": "3.11.3"
  }
 },
 "nbformat": 4,
 "nbformat_minor": 5
}
