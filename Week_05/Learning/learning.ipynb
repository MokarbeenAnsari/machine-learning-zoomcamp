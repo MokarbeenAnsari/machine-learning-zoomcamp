{
 "cells": [
  {
   "cell_type": "code",
   "execution_count": 1,
   "id": "b56a7cfc-4895-43d9-8db7-1f6c0f99e5af",
   "metadata": {},
   "outputs": [],
   "source": [
    "# Importing the required libraries\n",
    "import numpy as np\n",
    "import pandas as pd\n",
    "\n",
    "import seaborn as sns\n",
    "import matplotlib.pyplot as plt\n",
    "\n",
    "from sklearn.model_selection import train_test_split\n",
    "from sklearn.model_selection import KFold\n",
    "\n",
    "from sklearn.feature_extraction import DictVectorizer\n",
    "from sklearn.linear_model import LogisticRegression\n",
    "\n",
    "from sklearn.metrics import roc_auc_score\n",
    "\n",
    "import pickle\n",
    "\n",
    "import warnings\n",
    "warnings.filterwarnings('ignore')"
   ]
  },
  {
   "cell_type": "markdown",
   "id": "b7a6ff4b-b561-4518-a5dd-44c84da13ecf",
   "metadata": {},
   "source": [
    "**Metric:** Function that compares the predictions with the actual values and outputs a single number that tells how good the predictions are."
   ]
  },
  {
   "cell_type": "markdown",
   "id": "bef141be-3b0a-41d6-b5ee-4c6ce10c83c1",
   "metadata": {
    "jp-MarkdownHeadingCollapsed": true
   },
   "source": [
    "### 1. Prerequisite"
   ]
  },
  {
   "cell_type": "markdown",
   "id": "196c30f8-3642-4e86-964b-9be173e42cc4",
   "metadata": {},
   "source": [
    "#### Data ingestion and preparation"
   ]
  },
  {
   "cell_type": "code",
   "execution_count": 2,
   "id": "df97f736-7574-4819-95a4-7e2f3123ab5f",
   "metadata": {},
   "outputs": [],
   "source": [
    "df = pd.read_csv('data.csv')\n",
    "\n",
    "df.columns = df.columns.str.lower().str.replace(' ', '_')\n",
    "\n",
    "categorical_columns = list(df.dtypes[df.dtypes == 'object'].index)\n",
    "\n",
    "for c in categorical_columns:\n",
    "    df[c] = df[c].str.lower().str.replace(' ', '_')\n",
    "\n",
    "df.totalcharges = pd.to_numeric(df.totalcharges, errors='coerce')\n",
    "df.totalcharges = df.totalcharges.fillna(0)\n",
    "\n",
    "df.churn = (df.churn == 'yes').astype(int)"
   ]
  },
  {
   "cell_type": "markdown",
   "id": "354d156e-63b3-4482-9ca8-201df3a283b9",
   "metadata": {},
   "source": [
    "#### Setting validation framework"
   ]
  },
  {
   "cell_type": "code",
   "execution_count": 3,
   "id": "07a9d449-58e8-42b6-8a0f-9bf91359eab0",
   "metadata": {},
   "outputs": [],
   "source": [
    "df_full_train, df_test = train_test_split(df, test_size=0.2, random_state=1)\n",
    "df_train, df_val = train_test_split(df_full_train, test_size=0.25, random_state=1)\n",
    "\n",
    "df_train = df_train.reset_index(drop=True)\n",
    "df_val = df_val.reset_index(drop=True)\n",
    "df_test = df_test.reset_index(drop=True)\n",
    "\n",
    "y_train = df_train.churn.values\n",
    "y_val = df_val.churn.values\n",
    "y_test = df_test.churn.values\n",
    "\n",
    "del df_train['churn']\n",
    "del df_val['churn']\n",
    "del df_test['churn']"
   ]
  },
  {
   "cell_type": "markdown",
   "id": "ca51c56e-2ff9-4a27-9e86-35089bce86e6",
   "metadata": {},
   "source": [
    "#### Numerical and categorical features"
   ]
  },
  {
   "cell_type": "code",
   "execution_count": 4,
   "id": "cfbc7af9-4e44-46ea-9013-554fbec52ad8",
   "metadata": {},
   "outputs": [],
   "source": [
    "numerical = ['tenure', 'monthlycharges', 'totalcharges']\n",
    "\n",
    "categorical = [\n",
    "    'gender',\n",
    "    'seniorcitizen',\n",
    "    'partner',\n",
    "    'dependents',\n",
    "    'phoneservice',\n",
    "    'multiplelines',\n",
    "    'internetservice',\n",
    "    'onlinesecurity',\n",
    "    'onlinebackup',\n",
    "    'deviceprotection',\n",
    "    'techsupport',\n",
    "    'streamingtv',\n",
    "    'streamingmovies',\n",
    "    'contract',\n",
    "    'paperlessbilling',\n",
    "    'paymentmethod',\n",
    "]"
   ]
  },
  {
   "cell_type": "markdown",
   "id": "60bcfe9a-28b3-4c3c-b3e2-7ef6a8a508da",
   "metadata": {},
   "source": [
    "#### Model training and validation"
   ]
  },
  {
   "cell_type": "code",
   "execution_count": 5,
   "id": "d0e08857-f0e2-4609-8774-02fd8789b38d",
   "metadata": {},
   "outputs": [],
   "source": [
    "# Function to train the model\n",
    "def train(df_train, y_train, C=1.0):\n",
    "    dicts = df_train[categorical + numerical].to_dict(orient='records')\n",
    "\n",
    "    dv = DictVectorizer(sparse=False)\n",
    "    X_train = dv.fit_transform(dicts)\n",
    "\n",
    "    model = LogisticRegression(C=C, max_iter=1000)\n",
    "    model.fit(X_train, y_train)\n",
    "    \n",
    "    return dv, model"
   ]
  },
  {
   "cell_type": "code",
   "execution_count": 6,
   "id": "e9d8e895-9c84-4ec2-9224-bd8a5901015d",
   "metadata": {},
   "outputs": [],
   "source": [
    "# Function to predict\n",
    "def predict(df, dv, model):\n",
    "    dicts = df[categorical + numerical].to_dict(orient='records')\n",
    "\n",
    "    X = dv.transform(dicts)\n",
    "    y_pred = model.predict_proba(X)[:, 1]\n",
    "\n",
    "    return y_pred"
   ]
  },
  {
   "cell_type": "code",
   "execution_count": 7,
   "id": "fa3e9ab0-c208-431d-aae0-ed4a108879b2",
   "metadata": {},
   "outputs": [],
   "source": [
    "# Parameters\n",
    "C = 1.0\n",
    "n_splits = 5"
   ]
  },
  {
   "cell_type": "code",
   "execution_count": 8,
   "id": "c315f5b9-2feb-4195-add1-0a596655dfd3",
   "metadata": {},
   "outputs": [
    {
     "name": "stdout",
     "output_type": "stream",
     "text": [
      "C=1.0 0.840 +- 0.009\n"
     ]
    }
   ],
   "source": [
    "kfold = KFold(n_splits=n_splits, shuffle=True, random_state=1)\n",
    "\n",
    "scores = []\n",
    "\n",
    "for train_idx, val_idx in kfold.split(df_full_train):\n",
    "    df_train = df_full_train.iloc[train_idx]\n",
    "    df_val = df_full_train.iloc[val_idx]\n",
    "\n",
    "    y_train = df_train.churn.values\n",
    "    y_val = df_val.churn.values\n",
    "\n",
    "    dv, model = train(df_train, y_train, C=C)\n",
    "    y_pred = predict(df_val, dv, model)\n",
    "\n",
    "    auc = roc_auc_score(y_val, y_pred)\n",
    "    scores.append(auc)\n",
    "\n",
    "print('C=%s %.3f +- %.3f' % (C, np.mean(scores), np.std(scores)))"
   ]
  },
  {
   "cell_type": "code",
   "execution_count": 9,
   "id": "ccf0633f-0401-4846-b32b-a5a3b2bac5e2",
   "metadata": {},
   "outputs": [
    {
     "data": {
      "text/plain": [
       "[0.8435760768029139,\n",
       " 0.8436775758177725,\n",
       " 0.8311780052177403,\n",
       " 0.8301724275756219,\n",
       " 0.8526952401870038]"
      ]
     },
     "execution_count": 9,
     "metadata": {},
     "output_type": "execute_result"
    }
   ],
   "source": [
    "scores"
   ]
  },
  {
   "cell_type": "code",
   "execution_count": 10,
   "id": "5508ad5b-e253-42eb-84c5-3168613e1d84",
   "metadata": {},
   "outputs": [
    {
     "data": {
      "text/plain": [
       "0.8572386167896259"
      ]
     },
     "execution_count": 10,
     "metadata": {},
     "output_type": "execute_result"
    }
   ],
   "source": [
    "dv, model = train(df_full_train, df_full_train.churn.values, C=1.0)\n",
    "y_pred = predict(df_test, dv, model)\n",
    "\n",
    "auc = roc_auc_score(y_test, y_pred)\n",
    "auc"
   ]
  },
  {
   "cell_type": "markdown",
   "id": "ad92a45c-765d-4435-bd77-c17939adbe73",
   "metadata": {},
   "source": [
    "### 2. Save and Load Model"
   ]
  },
  {
   "cell_type": "markdown",
   "id": "b2704ab7-6101-4d70-9fed-c6e20a1aa13b",
   "metadata": {},
   "source": [
    "#### Save Model"
   ]
  },
  {
   "cell_type": "code",
   "execution_count": 11,
   "id": "3e5fbc36-fe04-4cce-a652-cb5ab9df0492",
   "metadata": {},
   "outputs": [
    {
     "data": {
      "text/plain": [
       "'model_C=1.0.bin'"
      ]
     },
     "execution_count": 11,
     "metadata": {},
     "output_type": "execute_result"
    }
   ],
   "source": [
    "# Constructing the model file name\n",
    "output_file_name = f'model_C={C}.bin'\n",
    "output_file_name"
   ]
  },
  {
   "cell_type": "code",
   "execution_count": 12,
   "id": "037cd807-9a7f-4c25-80ab-ced2986b036b",
   "metadata": {},
   "outputs": [],
   "source": [
    "# Opening file and saving the model\n",
    "with open(output_file_name , 'wb') as f_out:\n",
    "    pickle.dump((dv, model), f_out)"
   ]
  },
  {
   "cell_type": "markdown",
   "id": "82001fb4-f97e-4941-a856-b585ce6b9001",
   "metadata": {},
   "source": [
    "#### Load Model"
   ]
  },
  {
   "cell_type": "code",
   "execution_count": 13,
   "id": "964eca7b-3fbf-43f2-8d75-bcc3b2a928c3",
   "metadata": {},
   "outputs": [],
   "source": [
    "model_name = 'model_C=1.0.bin'"
   ]
  },
  {
   "cell_type": "code",
   "execution_count": 14,
   "id": "95f94bab-7057-4dd7-ae20-74a6cbbd09b2",
   "metadata": {},
   "outputs": [],
   "source": [
    "# Opening file and loading the model\n",
    "with open(model_name, 'rb') as f_in:\n",
    "    dv, model = pickle.load(f_in)"
   ]
  },
  {
   "cell_type": "code",
   "execution_count": 15,
   "id": "d16b7bab-5fc1-46d4-b9f8-97fbb8c48200",
   "metadata": {},
   "outputs": [
    {
     "data": {
      "text/plain": [
       "(DictVectorizer(sparse=False), LogisticRegression(max_iter=1000))"
      ]
     },
     "execution_count": 15,
     "metadata": {},
     "output_type": "execute_result"
    }
   ],
   "source": [
    "dv, model"
   ]
  },
  {
   "cell_type": "markdown",
   "id": "5999e2d8-5147-4e1d-a15f-2e7470d6c7ef",
   "metadata": {},
   "source": [
    "#### Testing Loaded Model"
   ]
  },
  {
   "cell_type": "code",
   "execution_count": 16,
   "id": "f6f0e996-b9cf-4c1a-9f70-73609676bdae",
   "metadata": {},
   "outputs": [
    {
     "data": {
      "text/plain": [
       "{'gender': 'male',\n",
       " 'seniorcitizen': 0,\n",
       " 'partner': 'no',\n",
       " 'dependents': 'no',\n",
       " 'phoneservice': 'yes',\n",
       " 'multiplelines': 'no',\n",
       " 'internetservice': 'no',\n",
       " 'onlinesecurity': 'no_internet_service',\n",
       " 'onlinebackup': 'no_internet_service',\n",
       " 'deviceprotection': 'no_internet_service',\n",
       " 'techsupport': 'no_internet_service',\n",
       " 'streamingtv': 'no_internet_service',\n",
       " 'streamingmovies': 'no_internet_service',\n",
       " 'contract': 'month-to-month',\n",
       " 'paperlessbilling': 'no',\n",
       " 'paymentmethod': 'mailed_check',\n",
       " 'tenure': 1,\n",
       " 'monthlycharges': 20.2,\n",
       " 'totalcharges': 20.2}"
      ]
     },
     "execution_count": 16,
     "metadata": {},
     "output_type": "execute_result"
    }
   ],
   "source": [
    "# Selecting one random customer\n",
    "customer = df[categorical+numerical].iloc[100].to_dict()\n",
    "customer"
   ]
  },
  {
   "cell_type": "markdown",
   "id": "fe0294f3-5e9b-4ae4-9cf5-051b8e5e65f4",
   "metadata": {},
   "source": [
    "#### AUC Interpretation\n",
    "Probabilty that randomly selected churned people[postive] is higher that not churned perople[negative]."
   ]
  },
  {
   "cell_type": "code",
   "execution_count": 17,
   "id": "370ebe1c-c513-4213-9031-2367b4fd2232",
   "metadata": {},
   "outputs": [
    {
     "ename": "IndexError",
     "evalue": "boolean index did not match indexed array along dimension 0; dimension is 1409 but corresponding boolean dimension is 1126",
     "output_type": "error",
     "traceback": [
      "\u001b[0;31m---------------------------------------------------------------------------\u001b[0m",
      "\u001b[0;31mIndexError\u001b[0m                                Traceback (most recent call last)",
      "Cell \u001b[0;32mIn[17], line 1\u001b[0m\n\u001b[0;32m----> 1\u001b[0m neg \u001b[38;5;241m=\u001b[39m \u001b[43my_pred\u001b[49m\u001b[43m[\u001b[49m\u001b[43my_val\u001b[49m\u001b[43m \u001b[49m\u001b[38;5;241;43m==\u001b[39;49m\u001b[43m \u001b[49m\u001b[38;5;241;43m0\u001b[39;49m\u001b[43m]\u001b[49m\n\u001b[1;32m      2\u001b[0m pos \u001b[38;5;241m=\u001b[39m y_pred[y_val \u001b[38;5;241m==\u001b[39m \u001b[38;5;241m1\u001b[39m]\n",
      "\u001b[0;31mIndexError\u001b[0m: boolean index did not match indexed array along dimension 0; dimension is 1409 but corresponding boolean dimension is 1126"
     ]
    }
   ],
   "source": [
    "neg = y_pred[y_val == 0]\n",
    "pos = y_pred[y_val == 1]"
   ]
  },
  {
   "cell_type": "code",
   "execution_count": null,
   "id": "04396d33-610b-40ae-b22e-b93840a04a5e",
   "metadata": {},
   "outputs": [],
   "source": [
    "import random"
   ]
  },
  {
   "cell_type": "code",
   "execution_count": null,
   "id": "6659164d-66d4-416d-a736-b6ef33ea7ae6",
   "metadata": {},
   "outputs": [],
   "source": [
    "n = 100000\n",
    "success = 0\n",
    "\n",
    "for i in range(n):\n",
    "    \n",
    "    pos_idx = random.randint(0, len(pos) - 1)\n",
    "    neg_idx = random.randint(0, len(neg) - 1)\n",
    "    \n",
    "    if pos[pos_idx] > neg[neg_idx]:\n",
    "        success += 1\n",
    "        \n",
    "success/n"
   ]
  },
  {
   "cell_type": "markdown",
   "id": "4d82fa5b-57cc-42c9-a45c-7332875cad7c",
   "metadata": {},
   "source": [
    "- **Metric:** a single number that describe the preformance of model.\n",
    "- **Accuracy:** fractions of correct answer; sometime it's misleading.\n",
    "- **Precision & Recall:** less misleading when class is imbalanced.\n",
    "- **ROC Curve:** a way to evaluate the performance at all thresholds; okay to use with imbalance\n",
    "- **K-Fold CV:** more reliable estimates the performance(mean + std)  "
   ]
  },
  {
   "cell_type": "markdown",
   "id": "cd0b8f78-1959-486c-aec7-9f75ebee7b63",
   "metadata": {},
   "source": [
    "- Check the precision and recall of the dummy classifier that always predict 'FALSE'\n",
    "- F1 score = 2 * P * R / (P + R)\n",
    "- Evaluate precision and recall at different thresholds, plot P vs R - this way you will get precision and recall curve (similar to ROC curve)\n",
    "- Are under the PR curve is also useful metric"
   ]
  },
  {
   "cell_type": "code",
   "execution_count": null,
   "id": "8ba3778d-3c9b-45d9-a92d-0eaa2fbdd2a2",
   "metadata": {},
   "outputs": [],
   "source": [
    "customer_X = dv.transform([customer])\n",
    "customer_X"
   ]
  },
  {
   "cell_type": "code",
   "execution_count": null,
   "id": "5b93c815-d3c6-4f86-b757-2ace7b414947",
   "metadata": {},
   "outputs": [],
   "source": [
    "model.predict_proba(customer_X)[0, 1]"
   ]
  }
 ],
 "metadata": {
  "kernelspec": {
   "display_name": "interview",
   "language": "python",
   "name": "interview"
  },
  "language_info": {
   "codemirror_mode": {
    "name": "ipython",
    "version": 3
   },
   "file_extension": ".py",
   "mimetype": "text/x-python",
   "name": "python",
   "nbconvert_exporter": "python",
   "pygments_lexer": "ipython3",
   "version": "3.11.3"
  }
 },
 "nbformat": 4,
 "nbformat_minor": 5
}
