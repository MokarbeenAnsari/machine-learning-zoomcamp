{
 "cells": [
  {
   "cell_type": "markdown",
   "id": "d0a1f2b8-1bed-4edc-9d11-c78168a3ae88",
   "metadata": {},
   "source": [
    "### Question 01 : What is the value of `get_credit_probability`?\n",
    "- 0.3269\n",
    "- 0.5269\n",
    "- 0.7269\n",
    "- 0.9269"
   ]
  },
  {
   "cell_type": "markdown",
   "id": "6572889e-aadf-4bd6-b4d4-c3fdbaec62a6",
   "metadata": {},
   "source": [
    "**Answer:** 0.7269"
   ]
  },
  {
   "cell_type": "markdown",
   "id": "212b1eb2-f43a-4abe-a81e-aab9d537cefc",
   "metadata": {},
   "source": [
    "### Question 02: What's the version of kind that you have?\n",
    "Use `kind --version` to find out."
   ]
  },
  {
   "cell_type": "markdown",
   "id": "09532d07-d7a4-4fb7-b402-4840439cdc63",
   "metadata": {},
   "source": [
    "**Answer:** kind version 0.20.0"
   ]
  },
  {
   "cell_type": "markdown",
   "id": "5f734522-04af-45ca-a662-b000311f009a",
   "metadata": {},
   "source": [
    "### Question 03: What's `CLUSTER-IP` of the service that is already running there?"
   ]
  },
  {
   "cell_type": "markdown",
   "id": "0942d6a7-ab22-4c7b-bccd-f39a7dc34853",
   "metadata": {},
   "source": [
    "**Answer:** `https://127.0.0.1:49516`"
   ]
  },
  {
   "cell_type": "markdown",
   "id": "288cf959-3aa8-416f-a809-73045bdd3e1f",
   "metadata": {},
   "source": [
    "### Question 04: To be able to use the docker image we previously created (zoomcamp-model:hw10), we need to register it with kind. What's the command we need to run for that?\n",
    "\n",
    "- kind create cluster\n",
    "- kind build node-image\n",
    "- kind load docker-image\n",
    "- kubectl apply"
   ]
  },
  {
   "cell_type": "markdown",
   "id": "8a228b48-5fd1-4bf5-a33d-03cb0cc1585c",
   "metadata": {},
   "source": [
    "**Answer:** `kind load docker-image` "
   ]
  },
  {
   "cell_type": "markdown",
   "id": "3d2aabe0-c178-48c0-b268-aca3367807c7",
   "metadata": {},
   "source": [
    "### Question 05: What is the value for `<Port>`?"
   ]
  },
  {
   "cell_type": "markdown",
   "id": "54ca6698-9ea2-43ec-84bf-452cdd9d86f9",
   "metadata": {},
   "source": [
    "**Answer:** `9696`"
   ]
  },
  {
   "cell_type": "markdown",
   "id": "7be71628-e211-4050-8e94-34eded03a6ac",
   "metadata": {},
   "source": [
    "### Question 06: What do we need to write instead of `<???>`?"
   ]
  },
  {
   "cell_type": "markdown",
   "id": "9c063776-3553-4c72-8232-a9a0d126529c",
   "metadata": {},
   "source": [
    "**Answer:** `credit`"
   ]
  }
 ],
 "metadata": {
  "kernelspec": {
   "display_name": "zoomcamp",
   "language": "python",
   "name": "zoomcamp"
  },
  "language_info": {
   "codemirror_mode": {
    "name": "ipython",
    "version": 3
   },
   "file_extension": ".py",
   "mimetype": "text/x-python",
   "name": "python",
   "nbconvert_exporter": "python",
   "pygments_lexer": "ipython3",
   "version": "3.11.3"
  }
 },
 "nbformat": 4,
 "nbformat_minor": 5
}
