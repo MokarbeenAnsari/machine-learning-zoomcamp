{
 "cells": [
  {
   "cell_type": "code",
   "execution_count": 1,
   "id": "9de0363c-7036-4628-80c1-9003140ce085",
   "metadata": {},
   "outputs": [],
   "source": [
    "# Importing required libraries\n",
    "import requests\n",
    "import json"
   ]
  },
  {
   "cell_type": "code",
   "execution_count": 2,
   "id": "5ddbfc8a-0bb9-42e0-8f95-159fd7d55d46",
   "metadata": {},
   "outputs": [],
   "source": [
    "# Server url\n",
    "url = 'http://localhost:9696/predict'"
   ]
  },
  {
   "cell_type": "code",
   "execution_count": 3,
   "id": "6c32b847-6063-49cd-85f6-8bd3866c42ad",
   "metadata": {},
   "outputs": [],
   "source": [
    "# Apple Data\n",
    "apple = {'size': -1.193551717,\n",
    " 'weight': -1.484548885,\n",
    " 'sweetness': -1.682801417,\n",
    " 'crunchiness': -0.255826272,\n",
    " 'juiciness': 1.888296732,\n",
    " 'ripeness': 1.369561333,\n",
    " 'acidity': 1.640197921}"
   ]
  },
  {
   "cell_type": "code",
   "execution_count": 4,
   "id": "4bec56c9-6f54-487e-b3b5-164bb9edc856",
   "metadata": {},
   "outputs": [
    {
     "name": "stdout",
     "output_type": "stream",
     "text": [
      "Quality of Apple:  bad\n"
     ]
    }
   ],
   "source": [
    "# Testing\n",
    "response = requests.post(url, json=apple).json()\n",
    "print(\"Quality of Apple: \", response['apple_quality'])"
   ]
  }
 ],
 "metadata": {
  "kernelspec": {
   "display_name": "zoomcamp",
   "language": "python",
   "name": "zoomcamp"
  },
  "language_info": {
   "codemirror_mode": {
    "name": "ipython",
    "version": 3
   },
   "file_extension": ".py",
   "mimetype": "text/x-python",
   "name": "python",
   "nbconvert_exporter": "python",
   "pygments_lexer": "ipython3",
   "version": "3.12.1"
  }
 },
 "nbformat": 4,
 "nbformat_minor": 5
}
