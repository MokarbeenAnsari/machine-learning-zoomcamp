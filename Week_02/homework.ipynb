{
 "cells": [
  {
   "cell_type": "code",
   "execution_count": 1,
   "id": "ae68af71-5341-49b2-9ca7-2c0a11d65cf1",
   "metadata": {},
   "outputs": [],
   "source": [
    "# Importing the required libraries\n",
    "import numpy as np\n",
    "import pandas as pd"
   ]
  },
  {
   "cell_type": "code",
   "execution_count": 2,
   "id": "c82874a0-a6f0-406f-b242-30b0d38e0ce0",
   "metadata": {},
   "outputs": [
    {
     "data": {
      "text/html": [
       "<div>\n",
       "<style scoped>\n",
       "    .dataframe tbody tr th:only-of-type {\n",
       "        vertical-align: middle;\n",
       "    }\n",
       "\n",
       "    .dataframe tbody tr th {\n",
       "        vertical-align: top;\n",
       "    }\n",
       "\n",
       "    .dataframe thead th {\n",
       "        text-align: right;\n",
       "    }\n",
       "</style>\n",
       "<table border=\"1\" class=\"dataframe\">\n",
       "  <thead>\n",
       "    <tr style=\"text-align: right;\">\n",
       "      <th></th>\n",
       "      <th>longitude</th>\n",
       "      <th>latitude</th>\n",
       "      <th>housing_median_age</th>\n",
       "      <th>total_rooms</th>\n",
       "      <th>total_bedrooms</th>\n",
       "      <th>population</th>\n",
       "      <th>households</th>\n",
       "      <th>median_income</th>\n",
       "      <th>median_house_value</th>\n",
       "      <th>ocean_proximity</th>\n",
       "    </tr>\n",
       "  </thead>\n",
       "  <tbody>\n",
       "    <tr>\n",
       "      <th>0</th>\n",
       "      <td>-122.23</td>\n",
       "      <td>37.88</td>\n",
       "      <td>41.0</td>\n",
       "      <td>880.0</td>\n",
       "      <td>129.0</td>\n",
       "      <td>322.0</td>\n",
       "      <td>126.0</td>\n",
       "      <td>8.3252</td>\n",
       "      <td>452600.0</td>\n",
       "      <td>NEAR BAY</td>\n",
       "    </tr>\n",
       "    <tr>\n",
       "      <th>1</th>\n",
       "      <td>-122.22</td>\n",
       "      <td>37.86</td>\n",
       "      <td>21.0</td>\n",
       "      <td>7099.0</td>\n",
       "      <td>1106.0</td>\n",
       "      <td>2401.0</td>\n",
       "      <td>1138.0</td>\n",
       "      <td>8.3014</td>\n",
       "      <td>358500.0</td>\n",
       "      <td>NEAR BAY</td>\n",
       "    </tr>\n",
       "    <tr>\n",
       "      <th>2</th>\n",
       "      <td>-122.24</td>\n",
       "      <td>37.85</td>\n",
       "      <td>52.0</td>\n",
       "      <td>1467.0</td>\n",
       "      <td>190.0</td>\n",
       "      <td>496.0</td>\n",
       "      <td>177.0</td>\n",
       "      <td>7.2574</td>\n",
       "      <td>352100.0</td>\n",
       "      <td>NEAR BAY</td>\n",
       "    </tr>\n",
       "    <tr>\n",
       "      <th>3</th>\n",
       "      <td>-122.25</td>\n",
       "      <td>37.85</td>\n",
       "      <td>52.0</td>\n",
       "      <td>1274.0</td>\n",
       "      <td>235.0</td>\n",
       "      <td>558.0</td>\n",
       "      <td>219.0</td>\n",
       "      <td>5.6431</td>\n",
       "      <td>341300.0</td>\n",
       "      <td>NEAR BAY</td>\n",
       "    </tr>\n",
       "    <tr>\n",
       "      <th>4</th>\n",
       "      <td>-122.25</td>\n",
       "      <td>37.85</td>\n",
       "      <td>52.0</td>\n",
       "      <td>1627.0</td>\n",
       "      <td>280.0</td>\n",
       "      <td>565.0</td>\n",
       "      <td>259.0</td>\n",
       "      <td>3.8462</td>\n",
       "      <td>342200.0</td>\n",
       "      <td>NEAR BAY</td>\n",
       "    </tr>\n",
       "  </tbody>\n",
       "</table>\n",
       "</div>"
      ],
      "text/plain": [
       "   longitude  latitude  housing_median_age  total_rooms  total_bedrooms  \\\n",
       "0    -122.23     37.88                41.0        880.0           129.0   \n",
       "1    -122.22     37.86                21.0       7099.0          1106.0   \n",
       "2    -122.24     37.85                52.0       1467.0           190.0   \n",
       "3    -122.25     37.85                52.0       1274.0           235.0   \n",
       "4    -122.25     37.85                52.0       1627.0           280.0   \n",
       "\n",
       "   population  households  median_income  median_house_value ocean_proximity  \n",
       "0       322.0       126.0         8.3252            452600.0        NEAR BAY  \n",
       "1      2401.0      1138.0         8.3014            358500.0        NEAR BAY  \n",
       "2       496.0       177.0         7.2574            352100.0        NEAR BAY  \n",
       "3       558.0       219.0         5.6431            341300.0        NEAR BAY  \n",
       "4       565.0       259.0         3.8462            342200.0        NEAR BAY  "
      ]
     },
     "execution_count": 2,
     "metadata": {},
     "output_type": "execute_result"
    }
   ],
   "source": [
    "# Reading the csv file\n",
    "df = pd.read_csv('housing.csv')\n",
    "df.head()"
   ]
  },
  {
   "cell_type": "code",
   "execution_count": 3,
   "id": "c9ade0f1-cb95-40cc-b02d-135802d1987b",
   "metadata": {},
   "outputs": [
    {
     "data": {
      "text/plain": [
       "Index(['longitude', 'latitude', 'housing_median_age', 'total_rooms',\n",
       "       'total_bedrooms', 'population', 'households', 'median_income',\n",
       "       'median_house_value', 'ocean_proximity'],\n",
       "      dtype='object')"
      ]
     },
     "execution_count": 3,
     "metadata": {},
     "output_type": "execute_result"
    }
   ],
   "source": [
    "# Checking the feature names\n",
    "df.columns"
   ]
  },
  {
   "cell_type": "markdown",
   "id": "8b828c66-9a01-433f-ab67-7aff958fa09d",
   "metadata": {},
   "source": [
    "**Observation**: Column names are consistent. [lowercase + underscore_seperated]"
   ]
  },
  {
   "cell_type": "code",
   "execution_count": 4,
   "id": "41a36d02-63e6-45c0-b03c-1843df76664c",
   "metadata": {},
   "outputs": [],
   "source": [
    "mask = (df['ocean_proximity'] == '<1H OCEAN') | (df['ocean_proximity'] == 'INLAND')\n",
    "df_main = df[mask]"
   ]
  },
  {
   "cell_type": "code",
   "execution_count": 5,
   "id": "f0133ce5-02b6-4286-bacf-37262703614e",
   "metadata": {},
   "outputs": [],
   "source": [
    "base = ['latitude', 'longitude', 'housing_median_age', 'total_rooms', 'total_bedrooms', 'population', 'households', 'median_income','median_house_value']\n",
    "df_main = df[base]"
   ]
  },
  {
   "cell_type": "markdown",
   "id": "f25791f9-9e60-4660-8081-00a97288abf0",
   "metadata": {
    "jp-MarkdownHeadingCollapsed": true
   },
   "source": [
    "#### Question 1:\n",
    "There's one feature with missing values. What is it?"
   ]
  },
  {
   "cell_type": "code",
   "execution_count": 6,
   "id": "77996089-4220-4968-ae3d-40564884868c",
   "metadata": {},
   "outputs": [
    {
     "data": {
      "text/plain": [
       "latitude                0\n",
       "longitude               0\n",
       "housing_median_age      0\n",
       "total_rooms             0\n",
       "total_bedrooms        207\n",
       "population              0\n",
       "households              0\n",
       "median_income           0\n",
       "median_house_value      0\n",
       "dtype: int64"
      ]
     },
     "execution_count": 6,
     "metadata": {},
     "output_type": "execute_result"
    }
   ],
   "source": [
    "df_main.isnull().sum()"
   ]
  },
  {
   "cell_type": "markdown",
   "id": "50975fe3-9889-4235-addd-ecb6e2c5feb0",
   "metadata": {},
   "source": [
    "**Observation:** `total_bedrooms` have missing values. "
   ]
  },
  {
   "cell_type": "markdown",
   "id": "41946e7e-2355-46c8-a98a-37ad4ce367c7",
   "metadata": {},
   "source": [
    "#### Question 2:\n",
    "What's the median (50% percentile) for variable 'population'?"
   ]
  },
  {
   "cell_type": "code",
   "execution_count": 7,
   "id": "5a65f61d-af47-4f37-9a69-53756a8f9edf",
   "metadata": {},
   "outputs": [
    {
     "name": "stdout",
     "output_type": "stream",
     "text": [
      "1166.0\n"
     ]
    }
   ],
   "source": [
    "median = df['population'].median()\n",
    "print(median)"
   ]
  },
  {
   "cell_type": "code",
   "execution_count": 8,
   "id": "bae633cf-153c-430b-b883-c949fc60b875",
   "metadata": {},
   "outputs": [
    {
     "name": "stdout",
     "output_type": "stream",
     "text": [
      "1166.0\n"
     ]
    }
   ],
   "source": [
    "percentile_50 = df['population'].quantile(0.5)\n",
    "print(percentile_50)"
   ]
  },
  {
   "cell_type": "markdown",
   "id": "0e9dfbc3-addb-405b-ae4d-5bb25b1608a8",
   "metadata": {
    "jp-MarkdownHeadingCollapsed": true
   },
   "source": [
    "### Question 1:\n",
    "There's one feature with missing values. What is it?"
   ]
  },
  {
   "cell_type": "code",
   "execution_count": 9,
   "id": "76159db4-1a28-4913-b1a4-64e23b47493e",
   "metadata": {},
   "outputs": [
    {
     "data": {
      "text/plain": [
       "latitude                0\n",
       "longitude               0\n",
       "housing_median_age      0\n",
       "total_rooms             0\n",
       "total_bedrooms        207\n",
       "population              0\n",
       "households              0\n",
       "median_income           0\n",
       "median_house_value      0\n",
       "dtype: int64"
      ]
     },
     "execution_count": 9,
     "metadata": {},
     "output_type": "execute_result"
    }
   ],
   "source": [
    "# Checking the missing values\n",
    "df_main.isnull().sum()"
   ]
  },
  {
   "cell_type": "markdown",
   "id": "575c3e61-5417-462e-abff-f02b5331b9a5",
   "metadata": {
    "jp-MarkdownHeadingCollapsed": true
   },
   "source": [
    "### Question 2:\n",
    "What's the median (50% percentile) for variable 'population'?"
   ]
  },
  {
   "cell_type": "code",
   "execution_count": 10,
   "id": "08ad32b1-473d-4fb3-8949-dfd68c9562ea",
   "metadata": {},
   "outputs": [
    {
     "data": {
      "text/plain": [
       "1166.0"
      ]
     },
     "execution_count": 10,
     "metadata": {},
     "output_type": "execute_result"
    }
   ],
   "source": [
    "# Calculating the median\n",
    "df_main['population'].median()"
   ]
  },
  {
   "cell_type": "code",
   "execution_count": 11,
   "id": "fca26674-f06d-4dc8-bc58-fdfa2a6450eb",
   "metadata": {},
   "outputs": [
    {
     "data": {
      "text/plain": [
       "1166.0"
      ]
     },
     "execution_count": 11,
     "metadata": {},
     "output_type": "execute_result"
    }
   ],
   "source": [
    "# Calculating the 50% percentile\n",
    "df_main['population'].quantile(0.5)"
   ]
  },
  {
   "cell_type": "markdown",
   "id": "24e4e806-91ae-4008-b15e-88522c9957ca",
   "metadata": {},
   "source": [
    "### Some Processing before Question 3"
   ]
  },
  {
   "cell_type": "code",
   "execution_count": 12,
   "id": "abbba3a9-0591-45f3-b0f9-d205cffcbe5b",
   "metadata": {},
   "outputs": [
    {
     "data": {
      "text/plain": [
       "20640"
      ]
     },
     "execution_count": 12,
     "metadata": {},
     "output_type": "execute_result"
    }
   ],
   "source": [
    "# Total number of datapoints\n",
    "n = len(df_main)\n",
    "n"
   ]
  },
  {
   "cell_type": "code",
   "execution_count": 13,
   "id": "d782e0f7-29b0-4666-9cc3-e14e93194664",
   "metadata": {},
   "outputs": [],
   "source": [
    "n_val = int(n*0.2)\n",
    "n_test = int(n*0.2)\n",
    "n_train = n - n_val - n_test"
   ]
  },
  {
   "cell_type": "code",
   "execution_count": 14,
   "id": "473b029d-8b48-450b-a06d-3d6f46524294",
   "metadata": {},
   "outputs": [
    {
     "data": {
      "text/plain": [
       "(12384, 4128, 4128)"
      ]
     },
     "execution_count": 14,
     "metadata": {},
     "output_type": "execute_result"
    }
   ],
   "source": [
    "n_train, n_val, n_test"
   ]
  },
  {
   "cell_type": "code",
   "execution_count": 15,
   "id": "f467eee1-4ae7-4ce2-8984-d57cf5228b53",
   "metadata": {},
   "outputs": [],
   "source": [
    "idx = np.arange(n)\n",
    "np.random.seed(42)\n",
    "np.random.shuffle(idx)"
   ]
  },
  {
   "cell_type": "code",
   "execution_count": 16,
   "id": "f1d64587-8935-4ae1-8311-e5c3c3cf73af",
   "metadata": {},
   "outputs": [],
   "source": [
    "# Dividing the dataframe in three part after shuffling the index\n",
    "df_train = df_main.iloc[idx[: n_train]]\n",
    "df_val = df_main.iloc[idx[n_train: n_train+n_val]]\n",
    "df_test = df_main.iloc[idx[n_train+n_val:]]"
   ]
  },
  {
   "cell_type": "code",
   "execution_count": 17,
   "id": "32cdc993-1441-4f01-84d8-7dfea3366bdf",
   "metadata": {},
   "outputs": [],
   "source": [
    "# Resetting the index\n",
    "df_train = df_train.reset_index(drop=True)\n",
    "df_val = df_val.reset_index(drop=True)\n",
    "df_test = df_test.reset_index(drop=True)"
   ]
  },
  {
   "cell_type": "code",
   "execution_count": 18,
   "id": "d6a9906f-70e9-425d-8a48-99fa7b123737",
   "metadata": {},
   "outputs": [],
   "source": [
    "y_train = np.log1p(df_train.median_house_value.values)\n",
    "y_val = np.log1p(df_val.median_house_value.values)\n",
    "y_test = np.log1p(df_test.median_house_value.values)"
   ]
  },
  {
   "cell_type": "code",
   "execution_count": 19,
   "id": "ecfc40f5-1e4b-448c-8810-84e500123310",
   "metadata": {},
   "outputs": [],
   "source": [
    "del df_train['median_house_value']\n",
    "del df_val['median_house_value']\n",
    "del df_test['median_house_value']"
   ]
  },
  {
   "cell_type": "markdown",
   "id": "58b97103-27f9-46b3-bc11-f9804da17aa5",
   "metadata": {},
   "source": [
    "####"
   ]
  },
  {
   "cell_type": "markdown",
   "id": "e929523d-509b-48d8-8b40-0dae17e730e4",
   "metadata": {},
   "source": [
    "### Question 3:\n",
    "\r",
    "- We need to deal with missing values for the column from Q1.\n",
    "- We have two options: fill it with 0 or with the mean of this variable.\n",
    "- Try both options. For each, train a linear regression model without regularization using the code from the lessons.\n",
    "- For computing the mean, use the training only!\n",
    "- Use the validation dataset to evaluate the models and compare the RMSE of each option.\n",
    "- Round the RMSE scores to 2 decimal digits using round(score, 2)\n",
    "- Which option gives better RMSE? r RMSE?"
   ]
  },
  {
   "cell_type": "markdown",
   "id": "0ea9eca1-963f-4c94-909f-6ed5798f80e7",
   "metadata": {},
   "source": [
    "#### Option 1: Filling missing value with 0"
   ]
  },
  {
   "cell_type": "code",
   "execution_count": 20,
   "id": "5234af4e-5ca7-4eaa-bcae-e16e0dd3518e",
   "metadata": {},
   "outputs": [],
   "source": [
    "def prepare_X_zero(df):\n",
    "    df_num = df.copy()\n",
    "    df_num = df_num.fillna(0)\n",
    "    X = df_num.values\n",
    "    return X"
   ]
  },
  {
   "cell_type": "code",
   "execution_count": 21,
   "id": "b8eb2ebf-b6c5-4ab0-a504-9db4ef477b74",
   "metadata": {},
   "outputs": [],
   "source": [
    "# Function to train linear regression model without regaularization\n",
    "def linear_regression_train(X, y):\n",
    "    ones = np.ones(X.shape[0])\n",
    "    X = np.column_stack([ones, X])\n",
    "\n",
    "    XTX = X.T.dot(X)\n",
    "    XTX_inv = np.linalg.inv(XTX)\n",
    "    w_full = XTX_inv.dot(X.T).dot(y)\n",
    "\n",
    "    return w_full[0], w_full[1:]"
   ]
  },
  {
   "cell_type": "code",
   "execution_count": 22,
   "id": "ae4bee75-20ef-4ebe-9714-228d0b6ab10c",
   "metadata": {},
   "outputs": [],
   "source": [
    "# Function definition to calculate RMSE\n",
    "def rmse(y, y_pred):\n",
    "    error = y - y_pred\n",
    "    squared_error = error ** 2\n",
    "    mse = squared_error.mean()\n",
    "    rmse = np.sqrt(mse)\n",
    "\n",
    "    return rmse"
   ]
  },
  {
   "cell_type": "code",
   "execution_count": 23,
   "id": "4d83c236-169c-4023-8aa8-8fb5bcdb2f99",
   "metadata": {},
   "outputs": [
    {
     "data": {
      "text/plain": [
       "0.32953303652243554"
      ]
     },
     "execution_count": 23,
     "metadata": {},
     "output_type": "execute_result"
    }
   ],
   "source": [
    "# Training\n",
    "X_train = prepare_X_zero(df_train)\n",
    "w_0, w = linear_regression_train(X_train, y_train)\n",
    "\n",
    "# Validation\n",
    "X_val = prepare_X_zero(df_val)\n",
    "y_pred = w_0 + X_val.dot(w)\n",
    "\n",
    "# Calculating RMSE\n",
    "rmse(y_val, y_pred)"
   ]
  },
  {
   "cell_type": "markdown",
   "id": "727574c8-8d4c-4821-b8e2-739a9df25273",
   "metadata": {},
   "source": [
    "#### Option 2: Filling missing value with mean"
   ]
  },
  {
   "cell_type": "code",
   "execution_count": 24,
   "id": "34dcc627-1d8e-4f42-a24a-177ceadab3d0",
   "metadata": {},
   "outputs": [],
   "source": [
    "def prepare_X_mean(df):\n",
    "    df_num = df.copy()\n",
    "    df_num = df_num.fillna(df_num['total_bedrooms'].mean())\n",
    "    X = df_num.values\n",
    "    return X"
   ]
  },
  {
   "cell_type": "code",
   "execution_count": 25,
   "id": "ce80c103-6373-41af-be2a-57972fe0003f",
   "metadata": {},
   "outputs": [
    {
     "data": {
      "text/plain": [
       "0.3290195439005846"
      ]
     },
     "execution_count": 25,
     "metadata": {},
     "output_type": "execute_result"
    }
   ],
   "source": [
    "# Training\n",
    "X_train = prepare_X_mean(df_train)\n",
    "w_0, w = linear_regression_train(X_train, y_train)\n",
    "\n",
    "# Validation\n",
    "X_val = prepare_X_mean(df_val)\n",
    "y_pred = w_0 + X_val.dot(w)\n",
    "\n",
    "# Calculating RMSE\n",
    "rmse(y_val, y_pred)"
   ]
  },
  {
   "cell_type": "markdown",
   "id": "8a509d4d-f5b6-44b8-88ad-67deb72a6e05",
   "metadata": {},
   "source": [
    "### Question 4:\n",
    "\n",
    "- Now let's train a regularized linear regression.\n",
    "- For this question, fill the NAs with 0.\n",
    "- Try different values of r from this list: [0, 0.000001, 0.0001, 0.001, 0.01, 0.1, 1, 5, 10].\n",
    "- Use RMSE to evaluate the model on the validation dataset.\n",
    "- Round the RMSE scores to 2 decimal digits.\n",
    "- Which r gives the best RMSE?\n",
    "\n",
    "If there are multiple options, select the smallest r."
   ]
  },
  {
   "cell_type": "code",
   "execution_count": 26,
   "id": "46ad5852-1bec-4bf1-960b-8531525d6d1d",
   "metadata": {},
   "outputs": [],
   "source": [
    "# Function to train linear regression model with regaularization\n",
    "def linear_regression_train_reg(X, y, r=0.001):\n",
    "    ones = np.ones(X.shape[0])\n",
    "    X = np.column_stack([ones, X])\n",
    "\n",
    "    XTX = X.T.dot(X)\n",
    "    XTX = XTX + (r * np.eye(XTX.shape[0]))\n",
    "    \n",
    "    XTX_inv = np.linalg.inv(XTX)\n",
    "    w_full = XTX_inv.dot(X.T).dot(y)\n",
    "\n",
    "    return w_full[0], w_full[1:]"
   ]
  },
  {
   "cell_type": "code",
   "execution_count": 27,
   "id": "79e58021-6104-470b-93cd-3f9319c967c5",
   "metadata": {},
   "outputs": [
    {
     "name": "stdout",
     "output_type": "stream",
     "text": [
      "r=0, rmse=0.33\n",
      "r=1e-06, rmse=0.33\n",
      "r=0.0001, rmse=0.33\n",
      "r=0.001, rmse=0.33\n",
      "r=0.01, rmse=0.33\n",
      "r=0.1, rmse=0.33\n",
      "r=1, rmse=0.33\n",
      "r=5, rmse=0.34\n",
      "r=10, rmse=0.34\n"
     ]
    }
   ],
   "source": [
    "for r in [0, 0.000001, 0.0001, 0.001, 0.01, 0.1, 1, 5, 10]:\n",
    "    # Training\n",
    "    X_train = prepare_X_zero(df_train)\n",
    "    w_0, w = linear_regression_train_reg(X_train, y_train, r)\n",
    "    \n",
    "    # Validation\n",
    "    X_val = prepare_X_zero(df_val)\n",
    "    y_pred = w_0 + X_val.dot(w)\n",
    "    \n",
    "    # Calculating RMSE\n",
    "    score = rmse(y_val, y_pred)\n",
    "\n",
    "    print(f'r={r}, rmse={round(score, 2)}')"
   ]
  },
  {
   "cell_type": "markdown",
   "id": "77517e0b-558c-4568-b2c0-b6ed5fc6859d",
   "metadata": {},
   "source": [
    "### Question 5:\n",
    "\n",
    "- We used seed 42 for splitting the data. Let's find out how selecting the seed influences our score.\n",
    "- Try different seed values: [0, 1, 2, 3, 4, 5, 6, 7, 8, 9].\n",
    "- For each seed, do the train/validation/test split with 60%/20%/20% distribution.\n",
    "- Fill the missing values with 0 and train a model without regularization.\n",
    "- For each seed, evaluate the model on the validation dataset and collect the RMSE scores.\n",
    "- What's the standard deviation of all the scores? To compute the standard deviation, use np.std.\n",
    "- Round the result to 3 decimal digits (round(std, 3))"
   ]
  },
  {
   "cell_type": "code",
   "execution_count": 28,
   "id": "d7876286-f35a-40c9-8da6-924afac34fe7",
   "metadata": {},
   "outputs": [],
   "source": [
    "def split_dataset(df, seed):\n",
    "    df_main = df.copy()\n",
    "    n = len(df_main)\n",
    "\n",
    "    # Splitting into 3 part\n",
    "    n_val = int(n*0.2)\n",
    "    n_test = int(n*0.2)\n",
    "    n_train = n - n_val - n_test\n",
    "\n",
    "    idx = np.arange(n)\n",
    "    np.random.seed(seed)\n",
    "    np.random.shuffle(idx)\n",
    "\n",
    "    # Dividing the dataframe in three part after shuffling the index\n",
    "    df_train = df_main.iloc[idx[: n_train]]\n",
    "    df_val = df_main.iloc[idx[n_train: n_train+n_val]]\n",
    "    df_test = df_main.iloc[idx[n_train+n_val:]]\n",
    "\n",
    "    # Resetting the index\n",
    "    df_train = df_train.reset_index(drop=True)\n",
    "    df_val = df_val.reset_index(drop=True)\n",
    "    df_test = df_test.reset_index(drop=True)\n",
    "\n",
    "    y_train = np.log1p(df_train.median_house_value.values)\n",
    "    y_val = np.log1p(df_val.median_house_value.values)\n",
    "    y_test = np.log1p(df_test.median_house_value.values)\n",
    "\n",
    "    del df_train['median_house_value']\n",
    "    del df_val['median_house_value']\n",
    "    del df_test['median_house_value']\n",
    "\n",
    "    return df_train, y_train, df_val, y_val, df_test, y_test"
   ]
  },
  {
   "cell_type": "code",
   "execution_count": 29,
   "id": "4c79136b-fdd4-40a9-8aac-e3878ac4de3c",
   "metadata": {},
   "outputs": [],
   "source": [
    "scores = []\n",
    "\n",
    "for seed in [0, 1, 2, 3, 4, 5, 6, 7, 8, 9]:\n",
    "    # Spliting the dataset\n",
    "    df_train, y_train, df_val, y_val, df_test, y_test = split_dataset(df_main, seed)\n",
    "\n",
    "    # Training\n",
    "    X_train = prepare_X_zero(df_train)\n",
    "    w_0, w = linear_regression_train(X_train, y_train)\n",
    "    \n",
    "    # Validation\n",
    "    X_val = prepare_X_zero(df_val)\n",
    "    y_pred = w_0 + X_val.dot(w)\n",
    "    \n",
    "    # Calculating RMSE\n",
    "    score = rmse(y_val, y_pred)\n",
    "    scores.append(score)"
   ]
  },
  {
   "cell_type": "code",
   "execution_count": 30,
   "id": "8b370478-1b4b-4e41-9368-046916ea09f9",
   "metadata": {},
   "outputs": [
    {
     "data": {
      "text/plain": [
       "0.004"
      ]
     },
     "execution_count": 30,
     "metadata": {},
     "output_type": "execute_result"
    }
   ],
   "source": [
    "round(np.std(scores), 3)"
   ]
  },
  {
   "cell_type": "markdown",
   "id": "0000f806-6ed8-49b6-afec-ca479cfbfb8d",
   "metadata": {},
   "source": [
    "### Question 6:\n",
    "\n",
    "- Split the dataset like previously, use seed 9.\n",
    "- Combine train and validation datasets.\n",
    "- Fill the missing values with 0 and train a model with r=0.001.\n",
    "- What's the RMSE on the test dataset?"
   ]
  },
  {
   "cell_type": "code",
   "execution_count": 31,
   "id": "bd231821-d802-4057-9dd3-9aeb6ff946fa",
   "metadata": {},
   "outputs": [],
   "source": [
    "# Spliting the dataset\n",
    "df_train, y_train, df_val, y_val, df_test, y_test = split_dataset(df_main, 9)"
   ]
  },
  {
   "cell_type": "code",
   "execution_count": 32,
   "id": "9b81891f-9a27-4d83-808c-be9206565a94",
   "metadata": {},
   "outputs": [],
   "source": [
    "# Combine train and validation dataset\n",
    "df_full_train = pd.concat([df_train, df_val]) \n",
    "df_full_train = df_full_train.reset_index(drop=True)\n",
    "X_full_train = prepare_X_zero(df_full_train)"
   ]
  },
  {
   "cell_type": "code",
   "execution_count": 33,
   "id": "b7968f51-3d1b-4e79-b31f-1562f8bab47c",
   "metadata": {},
   "outputs": [],
   "source": [
    "y_full_train = np.concatenate([y_train, y_val])"
   ]
  },
  {
   "cell_type": "code",
   "execution_count": 34,
   "id": "574d102b-c4d0-4097-8835-a3cf24bb64df",
   "metadata": {},
   "outputs": [],
   "source": [
    "# Training the model\n",
    "w_0, w = linear_regression_train_reg(X_full_train, y_full_train, r=0.001)"
   ]
  },
  {
   "cell_type": "code",
   "execution_count": 36,
   "id": "0e45e859-52d4-4eae-b6a3-a1c1535fc2f5",
   "metadata": {},
   "outputs": [
    {
     "data": {
      "text/plain": [
       "0.34531689143600774"
      ]
     },
     "execution_count": 36,
     "metadata": {},
     "output_type": "execute_result"
    }
   ],
   "source": [
    "# Validation\n",
    "X_test = prepare_X_zero(df_test)\n",
    "y_pred = w_0 + X_test.dot(w)\n",
    "\n",
    "# Calculating RMSE\n",
    "rmse(y_test, y_pred)"
   ]
  }
 ],
 "metadata": {
  "kernelspec": {
   "display_name": "machine_learning",
   "language": "python",
   "name": "machine_learning"
  },
  "language_info": {
   "codemirror_mode": {
    "name": "ipython",
    "version": 3
   },
   "file_extension": ".py",
   "mimetype": "text/x-python",
   "name": "python",
   "nbconvert_exporter": "python",
   "pygments_lexer": "ipython3",
   "version": "3.11.1"
  }
 },
 "nbformat": 4,
 "nbformat_minor": 5
}
