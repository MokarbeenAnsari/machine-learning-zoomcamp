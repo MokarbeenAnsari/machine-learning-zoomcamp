{
 "cells": [
  {
   "cell_type": "code",
   "execution_count": 1,
   "id": "5d75c9e3-b410-4f1d-9e3c-1dcfe1cf795e",
   "metadata": {},
   "outputs": [],
   "source": [
    "# Importing the required libraries\n",
    "import pandas as pd\n",
    "import numpy as np\n",
    "\n",
    "import matplotlib.pyplot as plt\n",
    "import seaborn as sns\n",
    "%matplotlib inline\n",
    "\n",
    "import warnings\n",
    "warnings.filterwarnings('ignore')"
   ]
  },
  {
   "cell_type": "markdown",
   "id": "aa106e99-2afe-44d0-a6f0-583ab93ddc1a",
   "metadata": {
    "jp-MarkdownHeadingCollapsed": true
   },
   "source": [
    "### 1. Data Ingestion"
   ]
  },
  {
   "cell_type": "code",
   "execution_count": 2,
   "id": "84cf2e02-0d2c-4949-bc50-38aa9eb7ad5e",
   "metadata": {},
   "outputs": [
    {
     "data": {
      "text/html": [
       "<div>\n",
       "<style scoped>\n",
       "    .dataframe tbody tr th:only-of-type {\n",
       "        vertical-align: middle;\n",
       "    }\n",
       "\n",
       "    .dataframe tbody tr th {\n",
       "        vertical-align: top;\n",
       "    }\n",
       "\n",
       "    .dataframe thead th {\n",
       "        text-align: right;\n",
       "    }\n",
       "</style>\n",
       "<table border=\"1\" class=\"dataframe\">\n",
       "  <thead>\n",
       "    <tr style=\"text-align: right;\">\n",
       "      <th></th>\n",
       "      <th>Make</th>\n",
       "      <th>Model</th>\n",
       "      <th>Year</th>\n",
       "      <th>Engine Fuel Type</th>\n",
       "      <th>Engine HP</th>\n",
       "      <th>Engine Cylinders</th>\n",
       "      <th>Transmission Type</th>\n",
       "      <th>Driven_Wheels</th>\n",
       "      <th>Number of Doors</th>\n",
       "      <th>Market Category</th>\n",
       "      <th>Vehicle Size</th>\n",
       "      <th>Vehicle Style</th>\n",
       "      <th>highway MPG</th>\n",
       "      <th>city mpg</th>\n",
       "      <th>Popularity</th>\n",
       "      <th>MSRP</th>\n",
       "    </tr>\n",
       "  </thead>\n",
       "  <tbody>\n",
       "    <tr>\n",
       "      <th>0</th>\n",
       "      <td>BMW</td>\n",
       "      <td>1 Series M</td>\n",
       "      <td>2011</td>\n",
       "      <td>premium unleaded (required)</td>\n",
       "      <td>335.0</td>\n",
       "      <td>6.0</td>\n",
       "      <td>MANUAL</td>\n",
       "      <td>rear wheel drive</td>\n",
       "      <td>2.0</td>\n",
       "      <td>Factory Tuner,Luxury,High-Performance</td>\n",
       "      <td>Compact</td>\n",
       "      <td>Coupe</td>\n",
       "      <td>26</td>\n",
       "      <td>19</td>\n",
       "      <td>3916</td>\n",
       "      <td>46135</td>\n",
       "    </tr>\n",
       "    <tr>\n",
       "      <th>1</th>\n",
       "      <td>BMW</td>\n",
       "      <td>1 Series</td>\n",
       "      <td>2011</td>\n",
       "      <td>premium unleaded (required)</td>\n",
       "      <td>300.0</td>\n",
       "      <td>6.0</td>\n",
       "      <td>MANUAL</td>\n",
       "      <td>rear wheel drive</td>\n",
       "      <td>2.0</td>\n",
       "      <td>Luxury,Performance</td>\n",
       "      <td>Compact</td>\n",
       "      <td>Convertible</td>\n",
       "      <td>28</td>\n",
       "      <td>19</td>\n",
       "      <td>3916</td>\n",
       "      <td>40650</td>\n",
       "    </tr>\n",
       "    <tr>\n",
       "      <th>2</th>\n",
       "      <td>BMW</td>\n",
       "      <td>1 Series</td>\n",
       "      <td>2011</td>\n",
       "      <td>premium unleaded (required)</td>\n",
       "      <td>300.0</td>\n",
       "      <td>6.0</td>\n",
       "      <td>MANUAL</td>\n",
       "      <td>rear wheel drive</td>\n",
       "      <td>2.0</td>\n",
       "      <td>Luxury,High-Performance</td>\n",
       "      <td>Compact</td>\n",
       "      <td>Coupe</td>\n",
       "      <td>28</td>\n",
       "      <td>20</td>\n",
       "      <td>3916</td>\n",
       "      <td>36350</td>\n",
       "    </tr>\n",
       "    <tr>\n",
       "      <th>3</th>\n",
       "      <td>BMW</td>\n",
       "      <td>1 Series</td>\n",
       "      <td>2011</td>\n",
       "      <td>premium unleaded (required)</td>\n",
       "      <td>230.0</td>\n",
       "      <td>6.0</td>\n",
       "      <td>MANUAL</td>\n",
       "      <td>rear wheel drive</td>\n",
       "      <td>2.0</td>\n",
       "      <td>Luxury,Performance</td>\n",
       "      <td>Compact</td>\n",
       "      <td>Coupe</td>\n",
       "      <td>28</td>\n",
       "      <td>18</td>\n",
       "      <td>3916</td>\n",
       "      <td>29450</td>\n",
       "    </tr>\n",
       "    <tr>\n",
       "      <th>4</th>\n",
       "      <td>BMW</td>\n",
       "      <td>1 Series</td>\n",
       "      <td>2011</td>\n",
       "      <td>premium unleaded (required)</td>\n",
       "      <td>230.0</td>\n",
       "      <td>6.0</td>\n",
       "      <td>MANUAL</td>\n",
       "      <td>rear wheel drive</td>\n",
       "      <td>2.0</td>\n",
       "      <td>Luxury</td>\n",
       "      <td>Compact</td>\n",
       "      <td>Convertible</td>\n",
       "      <td>28</td>\n",
       "      <td>18</td>\n",
       "      <td>3916</td>\n",
       "      <td>34500</td>\n",
       "    </tr>\n",
       "  </tbody>\n",
       "</table>\n",
       "</div>"
      ],
      "text/plain": [
       "  Make       Model  Year             Engine Fuel Type  Engine HP  \\\n",
       "0  BMW  1 Series M  2011  premium unleaded (required)      335.0   \n",
       "1  BMW    1 Series  2011  premium unleaded (required)      300.0   \n",
       "2  BMW    1 Series  2011  premium unleaded (required)      300.0   \n",
       "3  BMW    1 Series  2011  premium unleaded (required)      230.0   \n",
       "4  BMW    1 Series  2011  premium unleaded (required)      230.0   \n",
       "\n",
       "   Engine Cylinders Transmission Type     Driven_Wheels  Number of Doors  \\\n",
       "0               6.0            MANUAL  rear wheel drive              2.0   \n",
       "1               6.0            MANUAL  rear wheel drive              2.0   \n",
       "2               6.0            MANUAL  rear wheel drive              2.0   \n",
       "3               6.0            MANUAL  rear wheel drive              2.0   \n",
       "4               6.0            MANUAL  rear wheel drive              2.0   \n",
       "\n",
       "                         Market Category Vehicle Size Vehicle Style  \\\n",
       "0  Factory Tuner,Luxury,High-Performance      Compact         Coupe   \n",
       "1                     Luxury,Performance      Compact   Convertible   \n",
       "2                Luxury,High-Performance      Compact         Coupe   \n",
       "3                     Luxury,Performance      Compact         Coupe   \n",
       "4                                 Luxury      Compact   Convertible   \n",
       "\n",
       "   highway MPG  city mpg  Popularity   MSRP  \n",
       "0           26        19        3916  46135  \n",
       "1           28        19        3916  40650  \n",
       "2           28        20        3916  36350  \n",
       "3           28        18        3916  29450  \n",
       "4           28        18        3916  34500  "
      ]
     },
     "execution_count": 2,
     "metadata": {},
     "output_type": "execute_result"
    }
   ],
   "source": [
    "df = pd.read_csv('data.csv')\n",
    "df.head()"
   ]
  },
  {
   "cell_type": "markdown",
   "id": "e066fd02-33a4-4e76-ad3f-27e96e0d9468",
   "metadata": {},
   "source": [
    "### 2. Data Preparation"
   ]
  },
  {
   "cell_type": "code",
   "execution_count": 3,
   "id": "d7756671-aab9-4b16-b685-a5a3e36a2484",
   "metadata": {},
   "outputs": [],
   "source": [
    "# Making column name consistent\n",
    "df.columns = df.columns.str.lower().str.replace(' ', '_')"
   ]
  },
  {
   "cell_type": "code",
   "execution_count": 4,
   "id": "396810a1-4e8e-49f9-979c-84fa4b6f503d",
   "metadata": {},
   "outputs": [
    {
     "data": {
      "text/html": [
       "<div>\n",
       "<style scoped>\n",
       "    .dataframe tbody tr th:only-of-type {\n",
       "        vertical-align: middle;\n",
       "    }\n",
       "\n",
       "    .dataframe tbody tr th {\n",
       "        vertical-align: top;\n",
       "    }\n",
       "\n",
       "    .dataframe thead th {\n",
       "        text-align: right;\n",
       "    }\n",
       "</style>\n",
       "<table border=\"1\" class=\"dataframe\">\n",
       "  <thead>\n",
       "    <tr style=\"text-align: right;\">\n",
       "      <th></th>\n",
       "      <th>make</th>\n",
       "      <th>model</th>\n",
       "      <th>year</th>\n",
       "      <th>engine_fuel_type</th>\n",
       "      <th>engine_hp</th>\n",
       "      <th>engine_cylinders</th>\n",
       "      <th>transmission_type</th>\n",
       "      <th>driven_wheels</th>\n",
       "      <th>number_of_doors</th>\n",
       "      <th>market_category</th>\n",
       "      <th>vehicle_size</th>\n",
       "      <th>vehicle_style</th>\n",
       "      <th>highway_mpg</th>\n",
       "      <th>city_mpg</th>\n",
       "      <th>popularity</th>\n",
       "      <th>msrp</th>\n",
       "    </tr>\n",
       "  </thead>\n",
       "  <tbody>\n",
       "    <tr>\n",
       "      <th>0</th>\n",
       "      <td>BMW</td>\n",
       "      <td>1 Series M</td>\n",
       "      <td>2011</td>\n",
       "      <td>premium unleaded (required)</td>\n",
       "      <td>335.0</td>\n",
       "      <td>6.0</td>\n",
       "      <td>MANUAL</td>\n",
       "      <td>rear wheel drive</td>\n",
       "      <td>2.0</td>\n",
       "      <td>Factory Tuner,Luxury,High-Performance</td>\n",
       "      <td>Compact</td>\n",
       "      <td>Coupe</td>\n",
       "      <td>26</td>\n",
       "      <td>19</td>\n",
       "      <td>3916</td>\n",
       "      <td>46135</td>\n",
       "    </tr>\n",
       "    <tr>\n",
       "      <th>1</th>\n",
       "      <td>BMW</td>\n",
       "      <td>1 Series</td>\n",
       "      <td>2011</td>\n",
       "      <td>premium unleaded (required)</td>\n",
       "      <td>300.0</td>\n",
       "      <td>6.0</td>\n",
       "      <td>MANUAL</td>\n",
       "      <td>rear wheel drive</td>\n",
       "      <td>2.0</td>\n",
       "      <td>Luxury,Performance</td>\n",
       "      <td>Compact</td>\n",
       "      <td>Convertible</td>\n",
       "      <td>28</td>\n",
       "      <td>19</td>\n",
       "      <td>3916</td>\n",
       "      <td>40650</td>\n",
       "    </tr>\n",
       "    <tr>\n",
       "      <th>2</th>\n",
       "      <td>BMW</td>\n",
       "      <td>1 Series</td>\n",
       "      <td>2011</td>\n",
       "      <td>premium unleaded (required)</td>\n",
       "      <td>300.0</td>\n",
       "      <td>6.0</td>\n",
       "      <td>MANUAL</td>\n",
       "      <td>rear wheel drive</td>\n",
       "      <td>2.0</td>\n",
       "      <td>Luxury,High-Performance</td>\n",
       "      <td>Compact</td>\n",
       "      <td>Coupe</td>\n",
       "      <td>28</td>\n",
       "      <td>20</td>\n",
       "      <td>3916</td>\n",
       "      <td>36350</td>\n",
       "    </tr>\n",
       "    <tr>\n",
       "      <th>3</th>\n",
       "      <td>BMW</td>\n",
       "      <td>1 Series</td>\n",
       "      <td>2011</td>\n",
       "      <td>premium unleaded (required)</td>\n",
       "      <td>230.0</td>\n",
       "      <td>6.0</td>\n",
       "      <td>MANUAL</td>\n",
       "      <td>rear wheel drive</td>\n",
       "      <td>2.0</td>\n",
       "      <td>Luxury,Performance</td>\n",
       "      <td>Compact</td>\n",
       "      <td>Coupe</td>\n",
       "      <td>28</td>\n",
       "      <td>18</td>\n",
       "      <td>3916</td>\n",
       "      <td>29450</td>\n",
       "    </tr>\n",
       "    <tr>\n",
       "      <th>4</th>\n",
       "      <td>BMW</td>\n",
       "      <td>1 Series</td>\n",
       "      <td>2011</td>\n",
       "      <td>premium unleaded (required)</td>\n",
       "      <td>230.0</td>\n",
       "      <td>6.0</td>\n",
       "      <td>MANUAL</td>\n",
       "      <td>rear wheel drive</td>\n",
       "      <td>2.0</td>\n",
       "      <td>Luxury</td>\n",
       "      <td>Compact</td>\n",
       "      <td>Convertible</td>\n",
       "      <td>28</td>\n",
       "      <td>18</td>\n",
       "      <td>3916</td>\n",
       "      <td>34500</td>\n",
       "    </tr>\n",
       "  </tbody>\n",
       "</table>\n",
       "</div>"
      ],
      "text/plain": [
       "  make       model  year             engine_fuel_type  engine_hp  \\\n",
       "0  BMW  1 Series M  2011  premium unleaded (required)      335.0   \n",
       "1  BMW    1 Series  2011  premium unleaded (required)      300.0   \n",
       "2  BMW    1 Series  2011  premium unleaded (required)      300.0   \n",
       "3  BMW    1 Series  2011  premium unleaded (required)      230.0   \n",
       "4  BMW    1 Series  2011  premium unleaded (required)      230.0   \n",
       "\n",
       "   engine_cylinders transmission_type     driven_wheels  number_of_doors  \\\n",
       "0               6.0            MANUAL  rear wheel drive              2.0   \n",
       "1               6.0            MANUAL  rear wheel drive              2.0   \n",
       "2               6.0            MANUAL  rear wheel drive              2.0   \n",
       "3               6.0            MANUAL  rear wheel drive              2.0   \n",
       "4               6.0            MANUAL  rear wheel drive              2.0   \n",
       "\n",
       "                         market_category vehicle_size vehicle_style  \\\n",
       "0  Factory Tuner,Luxury,High-Performance      Compact         Coupe   \n",
       "1                     Luxury,Performance      Compact   Convertible   \n",
       "2                Luxury,High-Performance      Compact         Coupe   \n",
       "3                     Luxury,Performance      Compact         Coupe   \n",
       "4                                 Luxury      Compact   Convertible   \n",
       "\n",
       "   highway_mpg  city_mpg  popularity   msrp  \n",
       "0           26        19        3916  46135  \n",
       "1           28        19        3916  40650  \n",
       "2           28        20        3916  36350  \n",
       "3           28        18        3916  29450  \n",
       "4           28        18        3916  34500  "
      ]
     },
     "execution_count": 4,
     "metadata": {},
     "output_type": "execute_result"
    }
   ],
   "source": [
    "df.head()"
   ]
  },
  {
   "cell_type": "code",
   "execution_count": 5,
   "id": "e5417b03-9b8c-4e11-b28b-0964ce121af4",
   "metadata": {},
   "outputs": [
    {
     "data": {
      "text/plain": [
       "make                  object\n",
       "model                 object\n",
       "year                   int64\n",
       "engine_fuel_type      object\n",
       "engine_hp            float64\n",
       "engine_cylinders     float64\n",
       "transmission_type     object\n",
       "driven_wheels         object\n",
       "number_of_doors      float64\n",
       "market_category       object\n",
       "vehicle_size          object\n",
       "vehicle_style         object\n",
       "highway_mpg            int64\n",
       "city_mpg               int64\n",
       "popularity             int64\n",
       "msrp                   int64\n",
       "dtype: object"
      ]
     },
     "execution_count": 5,
     "metadata": {},
     "output_type": "execute_result"
    }
   ],
   "source": [
    "# Investing data types of each columns\n",
    "df.dtypes"
   ]
  },
  {
   "cell_type": "code",
   "execution_count": 6,
   "id": "3a962ac3-ef6d-429d-87be-9644d2eb00eb",
   "metadata": {},
   "outputs": [],
   "source": [
    "# Keep only those feature which have object(string) data types\n",
    "mask = df.dtypes == 'object'\n",
    "object_columns = list(df.dtypes[mask].index)"
   ]
  },
  {
   "cell_type": "code",
   "execution_count": 7,
   "id": "f232b7da-3499-4997-849e-c5221e1dda39",
   "metadata": {},
   "outputs": [],
   "source": [
    "# Making object columns data consistent (lowercase + underscore seperated)\n",
    "for column in object_columns:\n",
    "    df[column] = df[column].str.lower().str.replace(' ', '_')"
   ]
  },
  {
   "cell_type": "code",
   "execution_count": 8,
   "id": "0124fac3-04b9-4228-94e4-1a08a0381ca9",
   "metadata": {},
   "outputs": [
    {
     "data": {
      "text/html": [
       "<div>\n",
       "<style scoped>\n",
       "    .dataframe tbody tr th:only-of-type {\n",
       "        vertical-align: middle;\n",
       "    }\n",
       "\n",
       "    .dataframe tbody tr th {\n",
       "        vertical-align: top;\n",
       "    }\n",
       "\n",
       "    .dataframe thead th {\n",
       "        text-align: right;\n",
       "    }\n",
       "</style>\n",
       "<table border=\"1\" class=\"dataframe\">\n",
       "  <thead>\n",
       "    <tr style=\"text-align: right;\">\n",
       "      <th></th>\n",
       "      <th>make</th>\n",
       "      <th>model</th>\n",
       "      <th>year</th>\n",
       "      <th>engine_fuel_type</th>\n",
       "      <th>engine_hp</th>\n",
       "      <th>engine_cylinders</th>\n",
       "      <th>transmission_type</th>\n",
       "      <th>driven_wheels</th>\n",
       "      <th>number_of_doors</th>\n",
       "      <th>market_category</th>\n",
       "      <th>vehicle_size</th>\n",
       "      <th>vehicle_style</th>\n",
       "      <th>highway_mpg</th>\n",
       "      <th>city_mpg</th>\n",
       "      <th>popularity</th>\n",
       "      <th>msrp</th>\n",
       "    </tr>\n",
       "  </thead>\n",
       "  <tbody>\n",
       "    <tr>\n",
       "      <th>0</th>\n",
       "      <td>bmw</td>\n",
       "      <td>1_series_m</td>\n",
       "      <td>2011</td>\n",
       "      <td>premium_unleaded_(required)</td>\n",
       "      <td>335.0</td>\n",
       "      <td>6.0</td>\n",
       "      <td>manual</td>\n",
       "      <td>rear_wheel_drive</td>\n",
       "      <td>2.0</td>\n",
       "      <td>factory_tuner,luxury,high-performance</td>\n",
       "      <td>compact</td>\n",
       "      <td>coupe</td>\n",
       "      <td>26</td>\n",
       "      <td>19</td>\n",
       "      <td>3916</td>\n",
       "      <td>46135</td>\n",
       "    </tr>\n",
       "    <tr>\n",
       "      <th>1</th>\n",
       "      <td>bmw</td>\n",
       "      <td>1_series</td>\n",
       "      <td>2011</td>\n",
       "      <td>premium_unleaded_(required)</td>\n",
       "      <td>300.0</td>\n",
       "      <td>6.0</td>\n",
       "      <td>manual</td>\n",
       "      <td>rear_wheel_drive</td>\n",
       "      <td>2.0</td>\n",
       "      <td>luxury,performance</td>\n",
       "      <td>compact</td>\n",
       "      <td>convertible</td>\n",
       "      <td>28</td>\n",
       "      <td>19</td>\n",
       "      <td>3916</td>\n",
       "      <td>40650</td>\n",
       "    </tr>\n",
       "    <tr>\n",
       "      <th>2</th>\n",
       "      <td>bmw</td>\n",
       "      <td>1_series</td>\n",
       "      <td>2011</td>\n",
       "      <td>premium_unleaded_(required)</td>\n",
       "      <td>300.0</td>\n",
       "      <td>6.0</td>\n",
       "      <td>manual</td>\n",
       "      <td>rear_wheel_drive</td>\n",
       "      <td>2.0</td>\n",
       "      <td>luxury,high-performance</td>\n",
       "      <td>compact</td>\n",
       "      <td>coupe</td>\n",
       "      <td>28</td>\n",
       "      <td>20</td>\n",
       "      <td>3916</td>\n",
       "      <td>36350</td>\n",
       "    </tr>\n",
       "    <tr>\n",
       "      <th>3</th>\n",
       "      <td>bmw</td>\n",
       "      <td>1_series</td>\n",
       "      <td>2011</td>\n",
       "      <td>premium_unleaded_(required)</td>\n",
       "      <td>230.0</td>\n",
       "      <td>6.0</td>\n",
       "      <td>manual</td>\n",
       "      <td>rear_wheel_drive</td>\n",
       "      <td>2.0</td>\n",
       "      <td>luxury,performance</td>\n",
       "      <td>compact</td>\n",
       "      <td>coupe</td>\n",
       "      <td>28</td>\n",
       "      <td>18</td>\n",
       "      <td>3916</td>\n",
       "      <td>29450</td>\n",
       "    </tr>\n",
       "    <tr>\n",
       "      <th>4</th>\n",
       "      <td>bmw</td>\n",
       "      <td>1_series</td>\n",
       "      <td>2011</td>\n",
       "      <td>premium_unleaded_(required)</td>\n",
       "      <td>230.0</td>\n",
       "      <td>6.0</td>\n",
       "      <td>manual</td>\n",
       "      <td>rear_wheel_drive</td>\n",
       "      <td>2.0</td>\n",
       "      <td>luxury</td>\n",
       "      <td>compact</td>\n",
       "      <td>convertible</td>\n",
       "      <td>28</td>\n",
       "      <td>18</td>\n",
       "      <td>3916</td>\n",
       "      <td>34500</td>\n",
       "    </tr>\n",
       "  </tbody>\n",
       "</table>\n",
       "</div>"
      ],
      "text/plain": [
       "  make       model  year             engine_fuel_type  engine_hp  \\\n",
       "0  bmw  1_series_m  2011  premium_unleaded_(required)      335.0   \n",
       "1  bmw    1_series  2011  premium_unleaded_(required)      300.0   \n",
       "2  bmw    1_series  2011  premium_unleaded_(required)      300.0   \n",
       "3  bmw    1_series  2011  premium_unleaded_(required)      230.0   \n",
       "4  bmw    1_series  2011  premium_unleaded_(required)      230.0   \n",
       "\n",
       "   engine_cylinders transmission_type     driven_wheels  number_of_doors  \\\n",
       "0               6.0            manual  rear_wheel_drive              2.0   \n",
       "1               6.0            manual  rear_wheel_drive              2.0   \n",
       "2               6.0            manual  rear_wheel_drive              2.0   \n",
       "3               6.0            manual  rear_wheel_drive              2.0   \n",
       "4               6.0            manual  rear_wheel_drive              2.0   \n",
       "\n",
       "                         market_category vehicle_size vehicle_style  \\\n",
       "0  factory_tuner,luxury,high-performance      compact         coupe   \n",
       "1                     luxury,performance      compact   convertible   \n",
       "2                luxury,high-performance      compact         coupe   \n",
       "3                     luxury,performance      compact         coupe   \n",
       "4                                 luxury      compact   convertible   \n",
       "\n",
       "   highway_mpg  city_mpg  popularity   msrp  \n",
       "0           26        19        3916  46135  \n",
       "1           28        19        3916  40650  \n",
       "2           28        20        3916  36350  \n",
       "3           28        18        3916  29450  \n",
       "4           28        18        3916  34500  "
      ]
     },
     "execution_count": 8,
     "metadata": {},
     "output_type": "execute_result"
    }
   ],
   "source": [
    "df.head()"
   ]
  },
  {
   "cell_type": "markdown",
   "id": "e4470108-d805-4910-8490-c844ec676421",
   "metadata": {},
   "source": [
    "### 3. Explaoratory Data Analysis"
   ]
  },
  {
   "cell_type": "markdown",
   "id": "90acedfd-39b5-4e84-b292-a2e791dc80af",
   "metadata": {
    "jp-MarkdownHeadingCollapsed": true
   },
   "source": [
    "#### Unique Value Investingation"
   ]
  },
  {
   "cell_type": "code",
   "execution_count": 9,
   "id": "988d4691-e1c9-491f-b077-a036c490e22c",
   "metadata": {},
   "outputs": [
    {
     "name": "stdout",
     "output_type": "stream",
     "text": [
      "Feature name: make\n",
      "Total unique values: 48\n",
      "['bmw' 'audi' 'fiat' 'mercedes-benz' 'chrysler']\n",
      "\n",
      "---\n",
      "\n",
      "Feature name: model\n",
      "Total unique values: 914\n",
      "['1_series_m' '1_series' '100' '124_spider' '190-class']\n",
      "\n",
      "---\n",
      "\n",
      "Feature name: year\n",
      "Total unique values: 28\n",
      "[2011 2012 2013 1992 1993]\n",
      "\n",
      "---\n",
      "\n",
      "Feature name: engine_fuel_type\n",
      "Total unique values: 10\n",
      "['premium_unleaded_(required)' 'regular_unleaded'\n",
      " 'premium_unleaded_(recommended)' 'flex-fuel_(unleaded/e85)' 'diesel']\n",
      "\n",
      "---\n",
      "\n",
      "Feature name: engine_hp\n",
      "Total unique values: 356\n",
      "[335. 300. 230. 320. 172.]\n",
      "\n",
      "---\n",
      "\n",
      "Feature name: engine_cylinders\n",
      "Total unique values: 9\n",
      "[ 6.  4.  5.  8. 12.]\n",
      "\n",
      "---\n",
      "\n",
      "Feature name: transmission_type\n",
      "Total unique values: 5\n",
      "['manual' 'automatic' 'automated_manual' 'direct_drive' 'unknown']\n",
      "\n",
      "---\n",
      "\n",
      "Feature name: driven_wheels\n",
      "Total unique values: 4\n",
      "['rear_wheel_drive' 'front_wheel_drive' 'all_wheel_drive'\n",
      " 'four_wheel_drive']\n",
      "\n",
      "---\n",
      "\n",
      "Feature name: number_of_doors\n",
      "Total unique values: 3\n",
      "[ 2.  4.  3. nan]\n",
      "\n",
      "---\n",
      "\n",
      "Feature name: market_category\n",
      "Total unique values: 71\n",
      "['factory_tuner,luxury,high-performance' 'luxury,performance'\n",
      " 'luxury,high-performance' 'luxury' 'performance']\n",
      "\n",
      "---\n",
      "\n",
      "Feature name: vehicle_size\n",
      "Total unique values: 3\n",
      "['compact' 'midsize' 'large']\n",
      "\n",
      "---\n",
      "\n",
      "Feature name: vehicle_style\n",
      "Total unique values: 16\n",
      "['coupe' 'convertible' 'sedan' 'wagon' '4dr_hatchback']\n",
      "\n",
      "---\n",
      "\n",
      "Feature name: highway_mpg\n",
      "Total unique values: 59\n",
      "[26 28 27 25 24]\n",
      "\n",
      "---\n",
      "\n",
      "Feature name: city_mpg\n",
      "Total unique values: 69\n",
      "[19 20 18 17 16]\n",
      "\n",
      "---\n",
      "\n",
      "Feature name: popularity\n",
      "Total unique values: 48\n",
      "[3916 3105  819  617 1013]\n",
      "\n",
      "---\n",
      "\n",
      "Feature name: msrp\n",
      "Total unique values: 6049\n",
      "[46135 40650 36350 29450 34500]\n",
      "\n",
      "---\n",
      "\n"
     ]
    }
   ],
   "source": [
    "# Investing unique values\n",
    "for col in df.columns:\n",
    "    print(f\"Feature name: {col}\")\n",
    "    print(f\"Total unique values: {df[col].nunique()}\")\n",
    "    print(f\"{df[col].unique()[:5]}\")\n",
    "    print('\\n---\\n')"
   ]
  },
  {
   "cell_type": "markdown",
   "id": "50140e4e-fb6f-4e69-b11d-a6843b604663",
   "metadata": {
    "jp-MarkdownHeadingCollapsed": true
   },
   "source": [
    "#### Distribution of Price"
   ]
  },
  {
   "cell_type": "code",
   "execution_count": 10,
   "id": "ef07400d-ce6a-4497-8905-e65120e7d23f",
   "metadata": {},
   "outputs": [
    {
     "data": {
      "text/plain": [
       "<Axes: xlabel='msrp', ylabel='Count'>"
      ]
     },
     "execution_count": 10,
     "metadata": {},
     "output_type": "execute_result"
    },
    {
     "data": {
      "image/png": "[encoded data removed]",
      "text/plain": [
       "<Figure size 640x480 with 1 Axes>"
      ]
     },
     "metadata": {},
     "output_type": "display_data"
    }
   ],
   "source": [
    "# Histogram\n",
    "sns.histplot(df.msrp, bins=50)"
   ]
  },
  {
   "cell_type": "markdown",
   "id": "a8f0f800-429b-4a51-ac6e-ebacd6b89e3c",
   "metadata": {},
   "source": [
    "**Observation**: Long tail distribution."
   ]
  },
  {
   "cell_type": "code",
   "execution_count": 11,
   "id": "9b455349-b194-49da-ac66-7ef3ac3223a6",
   "metadata": {},
   "outputs": [
    {
     "data": {
      "text/plain": [
       "<Axes: xlabel='msrp', ylabel='Count'>"
      ]
     },
     "execution_count": 11,
     "metadata": {},
     "output_type": "execute_result"
    },
    {
     "data": {
      "image/png": "[encoded data removed]",
      "text/plain": [
       "<Figure size 640x480 with 1 Axes>"
      ]
     },
     "metadata": {},
     "output_type": "display_data"
    }
   ],
   "source": [
    "# Histogram for initials values\n",
    "sns.histplot(df.msrp[df.msrp < 100000], bins=50)"
   ]
  },
  {
   "cell_type": "code",
   "execution_count": 12,
   "id": "68342764-7c9a-45a5-80a2-f953a647f1a7",
   "metadata": {},
   "outputs": [
    {
     "data": {
      "text/plain": [
       "<Axes: xlabel='msrp', ylabel='Count'>"
      ]
     },
     "execution_count": 12,
     "metadata": {},
     "output_type": "execute_result"
    },
    {
     "data": {
      "image/png": "[encoded data removed]",
      "text/plain": [
       "<Figure size 640x480 with 1 Axes>"
      ]
     },
     "metadata": {},
     "output_type": "display_data"
    }
   ],
   "source": [
    "# Long tail distribution -> Normal distribution\n",
    "msrp_logs = np.log1p(df.msrp)\n",
    "sns.histplot(msrp_logs, bins=50)"
   ]
  },
  {
   "cell_type": "markdown",
   "id": "485be425-8245-44e5-a0b8-b00641c846d1",
   "metadata": {},
   "source": [
    "#### Missing Values"
   ]
  },
  {
   "cell_type": "code",
   "execution_count": 13,
   "id": "13134bf9-ccbb-4cb7-b77e-2c8ca3bbd376",
   "metadata": {},
   "outputs": [
    {
     "data": {
      "text/plain": [
       "make                    0\n",
       "model                   0\n",
       "year                    0\n",
       "engine_fuel_type        3\n",
       "engine_hp              69\n",
       "engine_cylinders       30\n",
       "transmission_type       0\n",
       "driven_wheels           0\n",
       "number_of_doors         6\n",
       "market_category      3742\n",
       "vehicle_size            0\n",
       "vehicle_style           0\n",
       "highway_mpg             0\n",
       "city_mpg                0\n",
       "popularity              0\n",
       "msrp                    0\n",
       "dtype: int64"
      ]
     },
     "execution_count": 13,
     "metadata": {},
     "output_type": "execute_result"
    }
   ],
   "source": [
    "# Missing values in each column\n",
    "df.isnull().sum()"
   ]
  },
  {
   "cell_type": "markdown",
   "id": "c1ffec13-a53c-4eab-bffe-ed0e99ce0819",
   "metadata": {},
   "source": [
    "### 4. Setting Validation Model\n",
    "3 Part:\n",
    "- Train [60%]\n",
    "- Valdation [20%]\n",
    "- Test [20%]"
   ]
  },
  {
   "cell_type": "code",
   "execution_count": 14,
   "id": "62deee67-5197-4e32-bf46-8e0d327ae71a",
   "metadata": {},
   "outputs": [
    {
     "data": {
      "text/plain": [
       "11914"
      ]
     },
     "execution_count": 14,
     "metadata": {},
     "output_type": "execute_result"
    }
   ],
   "source": [
    "# Total number of datapoints\n",
    "n = len(df)\n",
    "n"
   ]
  },
  {
   "cell_type": "code",
   "execution_count": 15,
   "id": "0aa10bda-9ef1-4d9e-b6d0-cc010f016677",
   "metadata": {},
   "outputs": [],
   "source": [
    "n_val = int(n*0.2)\n",
    "n_test = int(n*0.2)\n",
    "n_train = n - n_val - n_test"
   ]
  },
  {
   "cell_type": "code",
   "execution_count": 16,
   "id": "c3584a38-ae07-47a9-9b72-7924f33095ae",
   "metadata": {},
   "outputs": [
    {
     "data": {
      "text/plain": [
       "(11914, 11914)"
      ]
     },
     "execution_count": 16,
     "metadata": {},
     "output_type": "execute_result"
    }
   ],
   "source": [
    "n, n_train + n_val + n_test"
   ]
  },
  {
   "cell_type": "code",
   "execution_count": 17,
   "id": "b37704b7-80cd-4869-b7ae-f7482d3a14fc",
   "metadata": {},
   "outputs": [
    {
     "data": {
      "text/plain": [
       "(7150, 2382, 2382)"
      ]
     },
     "execution_count": 17,
     "metadata": {},
     "output_type": "execute_result"
    }
   ],
   "source": [
    "n_train, n_val, n_test"
   ]
  },
  {
   "cell_type": "code",
   "execution_count": 18,
   "id": "150e4b75-18db-4f67-ad03-c93958b2f116",
   "metadata": {},
   "outputs": [],
   "source": [
    "# Dividing the dataframe in three part\n",
    "df_train = df.iloc[: n_train]\n",
    "df_val = df.iloc[n_train: n_train+n_val]\n",
    "df_test = df.iloc[n_train+n_val:]"
   ]
  },
  {
   "cell_type": "code",
   "execution_count": 19,
   "id": "5be7e3c0-a1c1-4d23-bd16-2fb3e6440895",
   "metadata": {},
   "outputs": [
    {
     "data": {
      "text/html": [
       "<div>\n",
       "<style scoped>\n",
       "    .dataframe tbody tr th:only-of-type {\n",
       "        vertical-align: middle;\n",
       "    }\n",
       "\n",
       "    .dataframe tbody tr th {\n",
       "        vertical-align: top;\n",
       "    }\n",
       "\n",
       "    .dataframe thead th {\n",
       "        text-align: right;\n",
       "    }\n",
       "</style>\n",
       "<table border=\"1\" class=\"dataframe\">\n",
       "  <thead>\n",
       "    <tr style=\"text-align: right;\">\n",
       "      <th></th>\n",
       "      <th>make</th>\n",
       "      <th>model</th>\n",
       "      <th>year</th>\n",
       "      <th>engine_fuel_type</th>\n",
       "      <th>engine_hp</th>\n",
       "      <th>engine_cylinders</th>\n",
       "      <th>transmission_type</th>\n",
       "      <th>driven_wheels</th>\n",
       "      <th>number_of_doors</th>\n",
       "      <th>market_category</th>\n",
       "      <th>vehicle_size</th>\n",
       "      <th>vehicle_style</th>\n",
       "      <th>highway_mpg</th>\n",
       "      <th>city_mpg</th>\n",
       "      <th>popularity</th>\n",
       "      <th>msrp</th>\n",
       "    </tr>\n",
       "  </thead>\n",
       "  <tbody>\n",
       "    <tr>\n",
       "      <th>0</th>\n",
       "      <td>bmw</td>\n",
       "      <td>1_series_m</td>\n",
       "      <td>2011</td>\n",
       "      <td>premium_unleaded_(required)</td>\n",
       "      <td>335.0</td>\n",
       "      <td>6.0</td>\n",
       "      <td>manual</td>\n",
       "      <td>rear_wheel_drive</td>\n",
       "      <td>2.0</td>\n",
       "      <td>factory_tuner,luxury,high-performance</td>\n",
       "      <td>compact</td>\n",
       "      <td>coupe</td>\n",
       "      <td>26</td>\n",
       "      <td>19</td>\n",
       "      <td>3916</td>\n",
       "      <td>46135</td>\n",
       "    </tr>\n",
       "    <tr>\n",
       "      <th>1</th>\n",
       "      <td>bmw</td>\n",
       "      <td>1_series</td>\n",
       "      <td>2011</td>\n",
       "      <td>premium_unleaded_(required)</td>\n",
       "      <td>300.0</td>\n",
       "      <td>6.0</td>\n",
       "      <td>manual</td>\n",
       "      <td>rear_wheel_drive</td>\n",
       "      <td>2.0</td>\n",
       "      <td>luxury,performance</td>\n",
       "      <td>compact</td>\n",
       "      <td>convertible</td>\n",
       "      <td>28</td>\n",
       "      <td>19</td>\n",
       "      <td>3916</td>\n",
       "      <td>40650</td>\n",
       "    </tr>\n",
       "    <tr>\n",
       "      <th>2</th>\n",
       "      <td>bmw</td>\n",
       "      <td>1_series</td>\n",
       "      <td>2011</td>\n",
       "      <td>premium_unleaded_(required)</td>\n",
       "      <td>300.0</td>\n",
       "      <td>6.0</td>\n",
       "      <td>manual</td>\n",
       "      <td>rear_wheel_drive</td>\n",
       "      <td>2.0</td>\n",
       "      <td>luxury,high-performance</td>\n",
       "      <td>compact</td>\n",
       "      <td>coupe</td>\n",
       "      <td>28</td>\n",
       "      <td>20</td>\n",
       "      <td>3916</td>\n",
       "      <td>36350</td>\n",
       "    </tr>\n",
       "    <tr>\n",
       "      <th>3</th>\n",
       "      <td>bmw</td>\n",
       "      <td>1_series</td>\n",
       "      <td>2011</td>\n",
       "      <td>premium_unleaded_(required)</td>\n",
       "      <td>230.0</td>\n",
       "      <td>6.0</td>\n",
       "      <td>manual</td>\n",
       "      <td>rear_wheel_drive</td>\n",
       "      <td>2.0</td>\n",
       "      <td>luxury,performance</td>\n",
       "      <td>compact</td>\n",
       "      <td>coupe</td>\n",
       "      <td>28</td>\n",
       "      <td>18</td>\n",
       "      <td>3916</td>\n",
       "      <td>29450</td>\n",
       "    </tr>\n",
       "    <tr>\n",
       "      <th>4</th>\n",
       "      <td>bmw</td>\n",
       "      <td>1_series</td>\n",
       "      <td>2011</td>\n",
       "      <td>premium_unleaded_(required)</td>\n",
       "      <td>230.0</td>\n",
       "      <td>6.0</td>\n",
       "      <td>manual</td>\n",
       "      <td>rear_wheel_drive</td>\n",
       "      <td>2.0</td>\n",
       "      <td>luxury</td>\n",
       "      <td>compact</td>\n",
       "      <td>convertible</td>\n",
       "      <td>28</td>\n",
       "      <td>18</td>\n",
       "      <td>3916</td>\n",
       "      <td>34500</td>\n",
       "    </tr>\n",
       "    <tr>\n",
       "      <th>...</th>\n",
       "      <td>...</td>\n",
       "      <td>...</td>\n",
       "      <td>...</td>\n",
       "      <td>...</td>\n",
       "      <td>...</td>\n",
       "      <td>...</td>\n",
       "      <td>...</td>\n",
       "      <td>...</td>\n",
       "      <td>...</td>\n",
       "      <td>...</td>\n",
       "      <td>...</td>\n",
       "      <td>...</td>\n",
       "      <td>...</td>\n",
       "      <td>...</td>\n",
       "      <td>...</td>\n",
       "      <td>...</td>\n",
       "    </tr>\n",
       "    <tr>\n",
       "      <th>7145</th>\n",
       "      <td>mazda</td>\n",
       "      <td>navajo</td>\n",
       "      <td>1994</td>\n",
       "      <td>regular_unleaded</td>\n",
       "      <td>160.0</td>\n",
       "      <td>6.0</td>\n",
       "      <td>manual</td>\n",
       "      <td>four_wheel_drive</td>\n",
       "      <td>2.0</td>\n",
       "      <td>NaN</td>\n",
       "      <td>compact</td>\n",
       "      <td>2dr_suv</td>\n",
       "      <td>18</td>\n",
       "      <td>14</td>\n",
       "      <td>586</td>\n",
       "      <td>2000</td>\n",
       "    </tr>\n",
       "    <tr>\n",
       "      <th>7146</th>\n",
       "      <td>mazda</td>\n",
       "      <td>navajo</td>\n",
       "      <td>1994</td>\n",
       "      <td>regular_unleaded</td>\n",
       "      <td>160.0</td>\n",
       "      <td>6.0</td>\n",
       "      <td>manual</td>\n",
       "      <td>four_wheel_drive</td>\n",
       "      <td>2.0</td>\n",
       "      <td>NaN</td>\n",
       "      <td>compact</td>\n",
       "      <td>2dr_suv</td>\n",
       "      <td>18</td>\n",
       "      <td>14</td>\n",
       "      <td>586</td>\n",
       "      <td>2000</td>\n",
       "    </tr>\n",
       "    <tr>\n",
       "      <th>7147</th>\n",
       "      <td>lincoln</td>\n",
       "      <td>navigator</td>\n",
       "      <td>2015</td>\n",
       "      <td>regular_unleaded</td>\n",
       "      <td>365.0</td>\n",
       "      <td>6.0</td>\n",
       "      <td>automatic</td>\n",
       "      <td>four_wheel_drive</td>\n",
       "      <td>4.0</td>\n",
       "      <td>luxury</td>\n",
       "      <td>large</td>\n",
       "      <td>4dr_suv</td>\n",
       "      <td>20</td>\n",
       "      <td>15</td>\n",
       "      <td>61</td>\n",
       "      <td>65055</td>\n",
       "    </tr>\n",
       "    <tr>\n",
       "      <th>7148</th>\n",
       "      <td>lincoln</td>\n",
       "      <td>navigator</td>\n",
       "      <td>2015</td>\n",
       "      <td>regular_unleaded</td>\n",
       "      <td>365.0</td>\n",
       "      <td>6.0</td>\n",
       "      <td>automatic</td>\n",
       "      <td>four_wheel_drive</td>\n",
       "      <td>4.0</td>\n",
       "      <td>luxury</td>\n",
       "      <td>large</td>\n",
       "      <td>4dr_suv</td>\n",
       "      <td>19</td>\n",
       "      <td>15</td>\n",
       "      <td>61</td>\n",
       "      <td>67220</td>\n",
       "    </tr>\n",
       "    <tr>\n",
       "      <th>7149</th>\n",
       "      <td>lincoln</td>\n",
       "      <td>navigator</td>\n",
       "      <td>2015</td>\n",
       "      <td>regular_unleaded</td>\n",
       "      <td>365.0</td>\n",
       "      <td>6.0</td>\n",
       "      <td>automatic</td>\n",
       "      <td>rear_wheel_drive</td>\n",
       "      <td>4.0</td>\n",
       "      <td>luxury</td>\n",
       "      <td>large</td>\n",
       "      <td>4dr_suv</td>\n",
       "      <td>22</td>\n",
       "      <td>16</td>\n",
       "      <td>61</td>\n",
       "      <td>61480</td>\n",
       "    </tr>\n",
       "  </tbody>\n",
       "</table>\n",
       "<p>7150 rows × 16 columns</p>\n",
       "</div>"
      ],
      "text/plain": [
       "         make       model  year             engine_fuel_type  engine_hp  \\\n",
       "0         bmw  1_series_m  2011  premium_unleaded_(required)      335.0   \n",
       "1         bmw    1_series  2011  premium_unleaded_(required)      300.0   \n",
       "2         bmw    1_series  2011  premium_unleaded_(required)      300.0   \n",
       "3         bmw    1_series  2011  premium_unleaded_(required)      230.0   \n",
       "4         bmw    1_series  2011  premium_unleaded_(required)      230.0   \n",
       "...       ...         ...   ...                          ...        ...   \n",
       "7145    mazda      navajo  1994             regular_unleaded      160.0   \n",
       "7146    mazda      navajo  1994             regular_unleaded      160.0   \n",
       "7147  lincoln   navigator  2015             regular_unleaded      365.0   \n",
       "7148  lincoln   navigator  2015             regular_unleaded      365.0   \n",
       "7149  lincoln   navigator  2015             regular_unleaded      365.0   \n",
       "\n",
       "      engine_cylinders transmission_type     driven_wheels  number_of_doors  \\\n",
       "0                  6.0            manual  rear_wheel_drive              2.0   \n",
       "1                  6.0            manual  rear_wheel_drive              2.0   \n",
       "2                  6.0            manual  rear_wheel_drive              2.0   \n",
       "3                  6.0            manual  rear_wheel_drive              2.0   \n",
       "4                  6.0            manual  rear_wheel_drive              2.0   \n",
       "...                ...               ...               ...              ...   \n",
       "7145               6.0            manual  four_wheel_drive              2.0   \n",
       "7146               6.0            manual  four_wheel_drive              2.0   \n",
       "7147               6.0         automatic  four_wheel_drive              4.0   \n",
       "7148               6.0         automatic  four_wheel_drive              4.0   \n",
       "7149               6.0         automatic  rear_wheel_drive              4.0   \n",
       "\n",
       "                            market_category vehicle_size vehicle_style  \\\n",
       "0     factory_tuner,luxury,high-performance      compact         coupe   \n",
       "1                        luxury,performance      compact   convertible   \n",
       "2                   luxury,high-performance      compact         coupe   \n",
       "3                        luxury,performance      compact         coupe   \n",
       "4                                    luxury      compact   convertible   \n",
       "...                                     ...          ...           ...   \n",
       "7145                                    NaN      compact       2dr_suv   \n",
       "7146                                    NaN      compact       2dr_suv   \n",
       "7147                                 luxury        large       4dr_suv   \n",
       "7148                                 luxury        large       4dr_suv   \n",
       "7149                                 luxury        large       4dr_suv   \n",
       "\n",
       "      highway_mpg  city_mpg  popularity   msrp  \n",
       "0              26        19        3916  46135  \n",
       "1              28        19        3916  40650  \n",
       "2              28        20        3916  36350  \n",
       "3              28        18        3916  29450  \n",
       "4              28        18        3916  34500  \n",
       "...           ...       ...         ...    ...  \n",
       "7145           18        14         586   2000  \n",
       "7146           18        14         586   2000  \n",
       "7147           20        15          61  65055  \n",
       "7148           19        15          61  67220  \n",
       "7149           22        16          61  61480  \n",
       "\n",
       "[7150 rows x 16 columns]"
      ]
     },
     "execution_count": 19,
     "metadata": {},
     "output_type": "execute_result"
    }
   ],
   "source": [
    "df_train"
   ]
  },
  {
   "cell_type": "code",
   "execution_count": 20,
   "id": "24253589-25c9-48da-afe6-a3e7d6ab75a3",
   "metadata": {},
   "outputs": [],
   "source": [
    "idx = np.arange(n)"
   ]
  },
  {
   "cell_type": "code",
   "execution_count": 21,
   "id": "f359e1d8-5c5f-42dc-972b-111f75251c43",
   "metadata": {},
   "outputs": [],
   "source": [
    "np.random.seed(2)\n",
    "np.random.shuffle(idx)"
   ]
  },
  {
   "cell_type": "code",
   "execution_count": 22,
   "id": "b3406753-3aa5-4ffe-a19b-74d7b30aa5fe",
   "metadata": {},
   "outputs": [],
   "source": [
    "# Dividing the dataframe in three part after shuffling the index\n",
    "df_train = df.iloc[idx[: n_train]]\n",
    "df_val = df.iloc[idx[n_train: n_train+n_val]]\n",
    "df_test = df.iloc[idx[n_train+n_val:]]"
   ]
  },
  {
   "cell_type": "code",
   "execution_count": 23,
   "id": "fd3e335e-5ea2-432a-9b91-ff5a713d23fb",
   "metadata": {},
   "outputs": [
    {
     "data": {
      "text/html": [
       "<div>\n",
       "<style scoped>\n",
       "    .dataframe tbody tr th:only-of-type {\n",
       "        vertical-align: middle;\n",
       "    }\n",
       "\n",
       "    .dataframe tbody tr th {\n",
       "        vertical-align: top;\n",
       "    }\n",
       "\n",
       "    .dataframe thead th {\n",
       "        text-align: right;\n",
       "    }\n",
       "</style>\n",
       "<table border=\"1\" class=\"dataframe\">\n",
       "  <thead>\n",
       "    <tr style=\"text-align: right;\">\n",
       "      <th></th>\n",
       "      <th>make</th>\n",
       "      <th>model</th>\n",
       "      <th>year</th>\n",
       "      <th>engine_fuel_type</th>\n",
       "      <th>engine_hp</th>\n",
       "      <th>engine_cylinders</th>\n",
       "      <th>transmission_type</th>\n",
       "      <th>driven_wheels</th>\n",
       "      <th>number_of_doors</th>\n",
       "      <th>market_category</th>\n",
       "      <th>vehicle_size</th>\n",
       "      <th>vehicle_style</th>\n",
       "      <th>highway_mpg</th>\n",
       "      <th>city_mpg</th>\n",
       "      <th>popularity</th>\n",
       "      <th>msrp</th>\n",
       "    </tr>\n",
       "  </thead>\n",
       "  <tbody>\n",
       "    <tr>\n",
       "      <th>2735</th>\n",
       "      <td>chevrolet</td>\n",
       "      <td>cobalt</td>\n",
       "      <td>2008</td>\n",
       "      <td>regular_unleaded</td>\n",
       "      <td>148.0</td>\n",
       "      <td>4.0</td>\n",
       "      <td>manual</td>\n",
       "      <td>front_wheel_drive</td>\n",
       "      <td>2.0</td>\n",
       "      <td>NaN</td>\n",
       "      <td>compact</td>\n",
       "      <td>coupe</td>\n",
       "      <td>33</td>\n",
       "      <td>24</td>\n",
       "      <td>1385</td>\n",
       "      <td>14410</td>\n",
       "    </tr>\n",
       "    <tr>\n",
       "      <th>6720</th>\n",
       "      <td>toyota</td>\n",
       "      <td>matrix</td>\n",
       "      <td>2012</td>\n",
       "      <td>regular_unleaded</td>\n",
       "      <td>132.0</td>\n",
       "      <td>4.0</td>\n",
       "      <td>automatic</td>\n",
       "      <td>front_wheel_drive</td>\n",
       "      <td>4.0</td>\n",
       "      <td>hatchback</td>\n",
       "      <td>compact</td>\n",
       "      <td>4dr_hatchback</td>\n",
       "      <td>32</td>\n",
       "      <td>25</td>\n",
       "      <td>2031</td>\n",
       "      <td>19685</td>\n",
       "    </tr>\n",
       "    <tr>\n",
       "      <th>5878</th>\n",
       "      <td>subaru</td>\n",
       "      <td>impreza</td>\n",
       "      <td>2016</td>\n",
       "      <td>regular_unleaded</td>\n",
       "      <td>148.0</td>\n",
       "      <td>4.0</td>\n",
       "      <td>automatic</td>\n",
       "      <td>all_wheel_drive</td>\n",
       "      <td>4.0</td>\n",
       "      <td>hatchback</td>\n",
       "      <td>compact</td>\n",
       "      <td>4dr_hatchback</td>\n",
       "      <td>37</td>\n",
       "      <td>28</td>\n",
       "      <td>640</td>\n",
       "      <td>19795</td>\n",
       "    </tr>\n",
       "    <tr>\n",
       "      <th>11190</th>\n",
       "      <td>volkswagen</td>\n",
       "      <td>vanagon</td>\n",
       "      <td>1991</td>\n",
       "      <td>regular_unleaded</td>\n",
       "      <td>90.0</td>\n",
       "      <td>4.0</td>\n",
       "      <td>manual</td>\n",
       "      <td>rear_wheel_drive</td>\n",
       "      <td>3.0</td>\n",
       "      <td>NaN</td>\n",
       "      <td>large</td>\n",
       "      <td>passenger_minivan</td>\n",
       "      <td>18</td>\n",
       "      <td>16</td>\n",
       "      <td>873</td>\n",
       "      <td>2000</td>\n",
       "    </tr>\n",
       "    <tr>\n",
       "      <th>4554</th>\n",
       "      <td>ford</td>\n",
       "      <td>f-150</td>\n",
       "      <td>2017</td>\n",
       "      <td>flex-fuel_(unleaded/e85)</td>\n",
       "      <td>385.0</td>\n",
       "      <td>8.0</td>\n",
       "      <td>automatic</td>\n",
       "      <td>four_wheel_drive</td>\n",
       "      <td>4.0</td>\n",
       "      <td>flex_fuel</td>\n",
       "      <td>large</td>\n",
       "      <td>crew_cab_pickup</td>\n",
       "      <td>21</td>\n",
       "      <td>15</td>\n",
       "      <td>5657</td>\n",
       "      <td>56260</td>\n",
       "    </tr>\n",
       "    <tr>\n",
       "      <th>...</th>\n",
       "      <td>...</td>\n",
       "      <td>...</td>\n",
       "      <td>...</td>\n",
       "      <td>...</td>\n",
       "      <td>...</td>\n",
       "      <td>...</td>\n",
       "      <td>...</td>\n",
       "      <td>...</td>\n",
       "      <td>...</td>\n",
       "      <td>...</td>\n",
       "      <td>...</td>\n",
       "      <td>...</td>\n",
       "      <td>...</td>\n",
       "      <td>...</td>\n",
       "      <td>...</td>\n",
       "      <td>...</td>\n",
       "    </tr>\n",
       "    <tr>\n",
       "      <th>434</th>\n",
       "      <td>bmw</td>\n",
       "      <td>4_series</td>\n",
       "      <td>2015</td>\n",
       "      <td>premium_unleaded_(required)</td>\n",
       "      <td>300.0</td>\n",
       "      <td>6.0</td>\n",
       "      <td>automatic</td>\n",
       "      <td>rear_wheel_drive</td>\n",
       "      <td>2.0</td>\n",
       "      <td>luxury,performance</td>\n",
       "      <td>midsize</td>\n",
       "      <td>convertible</td>\n",
       "      <td>31</td>\n",
       "      <td>20</td>\n",
       "      <td>3916</td>\n",
       "      <td>54900</td>\n",
       "    </tr>\n",
       "    <tr>\n",
       "      <th>1902</th>\n",
       "      <td>volkswagen</td>\n",
       "      <td>beetle</td>\n",
       "      <td>2015</td>\n",
       "      <td>premium_unleaded_(recommended)</td>\n",
       "      <td>210.0</td>\n",
       "      <td>4.0</td>\n",
       "      <td>automated_manual</td>\n",
       "      <td>front_wheel_drive</td>\n",
       "      <td>2.0</td>\n",
       "      <td>hatchback,performance</td>\n",
       "      <td>compact</td>\n",
       "      <td>2dr_hatchback</td>\n",
       "      <td>30</td>\n",
       "      <td>24</td>\n",
       "      <td>873</td>\n",
       "      <td>29215</td>\n",
       "    </tr>\n",
       "    <tr>\n",
       "      <th>9334</th>\n",
       "      <td>gmc</td>\n",
       "      <td>sierra_1500</td>\n",
       "      <td>2015</td>\n",
       "      <td>flex-fuel_(unleaded/e85)</td>\n",
       "      <td>285.0</td>\n",
       "      <td>6.0</td>\n",
       "      <td>automatic</td>\n",
       "      <td>four_wheel_drive</td>\n",
       "      <td>4.0</td>\n",
       "      <td>flex_fuel</td>\n",
       "      <td>large</td>\n",
       "      <td>extended_cab_pickup</td>\n",
       "      <td>22</td>\n",
       "      <td>17</td>\n",
       "      <td>549</td>\n",
       "      <td>34675</td>\n",
       "    </tr>\n",
       "    <tr>\n",
       "      <th>5284</th>\n",
       "      <td>rolls-royce</td>\n",
       "      <td>ghost</td>\n",
       "      <td>2014</td>\n",
       "      <td>premium_unleaded_(required)</td>\n",
       "      <td>563.0</td>\n",
       "      <td>12.0</td>\n",
       "      <td>automatic</td>\n",
       "      <td>rear_wheel_drive</td>\n",
       "      <td>4.0</td>\n",
       "      <td>exotic,luxury,performance</td>\n",
       "      <td>large</td>\n",
       "      <td>sedan</td>\n",
       "      <td>21</td>\n",
       "      <td>13</td>\n",
       "      <td>86</td>\n",
       "      <td>303300</td>\n",
       "    </tr>\n",
       "    <tr>\n",
       "      <th>2420</th>\n",
       "      <td>volkswagen</td>\n",
       "      <td>cc</td>\n",
       "      <td>2017</td>\n",
       "      <td>premium_unleaded_(recommended)</td>\n",
       "      <td>200.0</td>\n",
       "      <td>4.0</td>\n",
       "      <td>automated_manual</td>\n",
       "      <td>front_wheel_drive</td>\n",
       "      <td>4.0</td>\n",
       "      <td>performance</td>\n",
       "      <td>midsize</td>\n",
       "      <td>sedan</td>\n",
       "      <td>31</td>\n",
       "      <td>22</td>\n",
       "      <td>873</td>\n",
       "      <td>37820</td>\n",
       "    </tr>\n",
       "  </tbody>\n",
       "</table>\n",
       "<p>7150 rows × 16 columns</p>\n",
       "</div>"
      ],
      "text/plain": [
       "              make        model  year                engine_fuel_type  \\\n",
       "2735     chevrolet       cobalt  2008                regular_unleaded   \n",
       "6720        toyota       matrix  2012                regular_unleaded   \n",
       "5878        subaru      impreza  2016                regular_unleaded   \n",
       "11190   volkswagen      vanagon  1991                regular_unleaded   \n",
       "4554          ford        f-150  2017        flex-fuel_(unleaded/e85)   \n",
       "...            ...          ...   ...                             ...   \n",
       "434            bmw     4_series  2015     premium_unleaded_(required)   \n",
       "1902    volkswagen       beetle  2015  premium_unleaded_(recommended)   \n",
       "9334           gmc  sierra_1500  2015        flex-fuel_(unleaded/e85)   \n",
       "5284   rolls-royce        ghost  2014     premium_unleaded_(required)   \n",
       "2420    volkswagen           cc  2017  premium_unleaded_(recommended)   \n",
       "\n",
       "       engine_hp  engine_cylinders transmission_type      driven_wheels  \\\n",
       "2735       148.0               4.0            manual  front_wheel_drive   \n",
       "6720       132.0               4.0         automatic  front_wheel_drive   \n",
       "5878       148.0               4.0         automatic    all_wheel_drive   \n",
       "11190       90.0               4.0            manual   rear_wheel_drive   \n",
       "4554       385.0               8.0         automatic   four_wheel_drive   \n",
       "...          ...               ...               ...                ...   \n",
       "434        300.0               6.0         automatic   rear_wheel_drive   \n",
       "1902       210.0               4.0  automated_manual  front_wheel_drive   \n",
       "9334       285.0               6.0         automatic   four_wheel_drive   \n",
       "5284       563.0              12.0         automatic   rear_wheel_drive   \n",
       "2420       200.0               4.0  automated_manual  front_wheel_drive   \n",
       "\n",
       "       number_of_doors            market_category vehicle_size  \\\n",
       "2735               2.0                        NaN      compact   \n",
       "6720               4.0                  hatchback      compact   \n",
       "5878               4.0                  hatchback      compact   \n",
       "11190              3.0                        NaN        large   \n",
       "4554               4.0                  flex_fuel        large   \n",
       "...                ...                        ...          ...   \n",
       "434                2.0         luxury,performance      midsize   \n",
       "1902               2.0      hatchback,performance      compact   \n",
       "9334               4.0                  flex_fuel        large   \n",
       "5284               4.0  exotic,luxury,performance        large   \n",
       "2420               4.0                performance      midsize   \n",
       "\n",
       "             vehicle_style  highway_mpg  city_mpg  popularity    msrp  \n",
       "2735                 coupe           33        24        1385   14410  \n",
       "6720         4dr_hatchback           32        25        2031   19685  \n",
       "5878         4dr_hatchback           37        28         640   19795  \n",
       "11190    passenger_minivan           18        16         873    2000  \n",
       "4554       crew_cab_pickup           21        15        5657   56260  \n",
       "...                    ...          ...       ...         ...     ...  \n",
       "434            convertible           31        20        3916   54900  \n",
       "1902         2dr_hatchback           30        24         873   29215  \n",
       "9334   extended_cab_pickup           22        17         549   34675  \n",
       "5284                 sedan           21        13          86  303300  \n",
       "2420                 sedan           31        22         873   37820  \n",
       "\n",
       "[7150 rows x 16 columns]"
      ]
     },
     "execution_count": 23,
     "metadata": {},
     "output_type": "execute_result"
    }
   ],
   "source": [
    "df_train"
   ]
  },
  {
   "cell_type": "code",
   "execution_count": 24,
   "id": "3e463f73-84ca-418d-a88f-9af44e8ef78d",
   "metadata": {},
   "outputs": [
    {
     "data": {
      "text/plain": [
       "(7150, 2382, 2382)"
      ]
     },
     "execution_count": 24,
     "metadata": {},
     "output_type": "execute_result"
    }
   ],
   "source": [
    "len(df_train), len(df_val), len(df_test)"
   ]
  },
  {
   "cell_type": "code",
   "execution_count": 25,
   "id": "01ddb518-ac40-482c-a219-5b181c4bb2fc",
   "metadata": {},
   "outputs": [],
   "source": [
    "# Resetting the index\n",
    "df_train = df_train.reset_index(drop=True)\n",
    "df_val = df_val.reset_index(drop=True)\n",
    "df_test = df_test.reset_index(drop=True)"
   ]
  },
  {
   "cell_type": "code",
   "execution_count": 26,
   "id": "9588c509-85bb-445f-ab30-2b44d9088c17",
   "metadata": {},
   "outputs": [],
   "source": [
    "y_train = np.log1p(df_train.msrp.values)\n",
    "y_val = np.log1p(df_val.msrp.values)\n",
    "y_test = np.log1p(df_test.msrp.values)"
   ]
  },
  {
   "cell_type": "code",
   "execution_count": 27,
   "id": "e38064a4-10fd-49f8-99ba-f5fbfbdab906",
   "metadata": {},
   "outputs": [],
   "source": [
    "df_train = df_train.drop(['msrp'], axis=1)\n",
    "df_val = df_val.drop(['msrp'], axis=1)\n",
    "df_test = df_test.drop(['msrp'], axis=1)"
   ]
  },
  {
   "cell_type": "markdown",
   "id": "f1d7e663-6295-4cb5-8a1f-ca0370c357cd",
   "metadata": {},
   "source": [
    "### 5. Linear Regression"
   ]
  },
  {
   "cell_type": "code",
   "execution_count": 28,
   "id": "b69f3143-a053-4a49-93f1-91c6bd03a027",
   "metadata": {},
   "outputs": [
    {
     "data": {
      "text/plain": [
       "make                                 rolls-royce\n",
       "model                     phantom_drophead_coupe\n",
       "year                                        2015\n",
       "engine_fuel_type     premium_unleaded_(required)\n",
       "engine_hp                                  453.0\n",
       "engine_cylinders                            12.0\n",
       "transmission_type                      automatic\n",
       "driven_wheels                   rear_wheel_drive\n",
       "number_of_doors                              2.0\n",
       "market_category        exotic,luxury,performance\n",
       "vehicle_size                               large\n",
       "vehicle_style                        convertible\n",
       "highway_mpg                                   19\n",
       "city_mpg                                      11\n",
       "popularity                                    86\n",
       "Name: 10, dtype: object"
      ]
     },
     "execution_count": 28,
     "metadata": {},
     "output_type": "execute_result"
    }
   ],
   "source": [
    "df_train.iloc[10]"
   ]
  },
  {
   "cell_type": "code",
   "execution_count": 29,
   "id": "fb928f96-1921-4853-9eb7-9c0a7723b0ce",
   "metadata": {},
   "outputs": [],
   "source": [
    "# Feature vector\n",
    "x_i = [453, 11, 86]\n",
    "\n",
    "# Bais term and weight vector\n",
    "w_0 = 7.17\n",
    "w = [0.01, 0.04, 0.002]"
   ]
  },
  {
   "cell_type": "code",
   "execution_count": 30,
   "id": "e4eac7bd-1178-49d8-9a51-9e8710bda847",
   "metadata": {},
   "outputs": [],
   "source": [
    "def linear_regression(x_i):\n",
    "    n = len(x_i)\n",
    "\n",
    "    pred = w_0\n",
    "    for j in range(n):\n",
    "        pred = pred + w[j]*x_i[j]\n",
    "\n",
    "    return pred"
   ]
  },
  {
   "cell_type": "code",
   "execution_count": 31,
   "id": "4d24a81c-3519-419d-aaac-8107d207e75b",
   "metadata": {},
   "outputs": [
    {
     "data": {
      "text/plain": [
       "222347.2221101062"
      ]
     },
     "execution_count": 31,
     "metadata": {},
     "output_type": "execute_result"
    }
   ],
   "source": [
    "np.expm1(linear_regression(x_i))"
   ]
  },
  {
   "cell_type": "markdown",
   "id": "b9739537-27d3-4cbc-b974-6f9309e0b739",
   "metadata": {
    "jp-MarkdownHeadingCollapsed": true
   },
   "source": [
    "### 6. Linear Regression: Vector Form"
   ]
  },
  {
   "cell_type": "code",
   "execution_count": 32,
   "id": "c6d7dc2f-8cbb-4be6-9d62-179511411303",
   "metadata": {},
   "outputs": [],
   "source": [
    "# Feature vector\n",
    "x_i = [453, 11, 86]\n",
    "\n",
    "# Bais term and weight vector\n",
    "w_0 = 7.17\n",
    "w = [0.01, 0.04, 0.002]"
   ]
  },
  {
   "cell_type": "code",
   "execution_count": 33,
   "id": "20201be4-ef28-43d5-b960-735221f82f9c",
   "metadata": {},
   "outputs": [],
   "source": [
    "def dot(x_i, w):\n",
    "    n = len(x_i)\n",
    "\n",
    "    res = 0.0\n",
    "    for j in range(n):\n",
    "        res = res + x_i[j]*w[j]\n",
    "\n",
    "    return res"
   ]
  },
  {
   "cell_type": "code",
   "execution_count": 34,
   "id": "61711d9b-073c-43de-9800-14ca419d243e",
   "metadata": {},
   "outputs": [
    {
     "data": {
      "text/plain": [
       "[7.17, 0.01, 0.04, 0.002]"
      ]
     },
     "execution_count": 34,
     "metadata": {},
     "output_type": "execute_result"
    }
   ],
   "source": [
    "w_new = [w_0] + w\n",
    "w_new"
   ]
  },
  {
   "cell_type": "code",
   "execution_count": 35,
   "id": "55d748e9-9062-4124-b8ec-fa32079247b9",
   "metadata": {},
   "outputs": [],
   "source": [
    "def linear_regression(x_i):\n",
    "    x_i = [1] + x_i\n",
    "    return dot(x_i, w_new)"
   ]
  },
  {
   "cell_type": "code",
   "execution_count": 36,
   "id": "2db928dc-a93f-4d77-b7a3-bcfe16dd35a6",
   "metadata": {},
   "outputs": [
    {
     "data": {
      "text/plain": [
       "222347.2221101062"
      ]
     },
     "execution_count": 36,
     "metadata": {},
     "output_type": "execute_result"
    }
   ],
   "source": [
    "np.expm1(linear_regression(x_i))"
   ]
  },
  {
   "cell_type": "code",
   "execution_count": 37,
   "id": "5f725714-85f0-4668-bae6-035f3e027c50",
   "metadata": {},
   "outputs": [
    {
     "data": {
      "text/plain": [
       "array([[   1,  453,   11,   86],\n",
       "       [   1,  148,   24, 1385],\n",
       "       [   1,  132,   25, 2031]])"
      ]
     },
     "execution_count": 37,
     "metadata": {},
     "output_type": "execute_result"
    }
   ],
   "source": [
    "# Now implementing for matrix\n",
    "x_1 = [1, 453, 11, 86]\n",
    "x_2 = [1, 148, 24, 1385]\n",
    "x_3 = [1, 132, 25, 2031]\n",
    "\n",
    "X = [x_1, x_2, x_3]\n",
    "X = np.array(X)\n",
    "X"
   ]
  },
  {
   "cell_type": "code",
   "execution_count": 38,
   "id": "d16a9915-85c1-4452-8605-7917c151ba48",
   "metadata": {},
   "outputs": [],
   "source": [
    "def linear_regression(X):\n",
    "    return X.dot(w_new)"
   ]
  },
  {
   "cell_type": "code",
   "execution_count": 39,
   "id": "2d987896-e710-46b4-823d-b2251892093d",
   "metadata": {},
   "outputs": [
    {
     "data": {
      "text/plain": [
       "array([222347.22211011, 237992.82334859, 768348.51018973])"
      ]
     },
     "execution_count": 39,
     "metadata": {},
     "output_type": "execute_result"
    }
   ],
   "source": [
    "np.expm1(linear_regression(X))"
   ]
  },
  {
   "cell_type": "markdown",
   "id": "e9d7d77d-457b-41e1-a44c-5a037f1f88b7",
   "metadata": {},
   "source": [
    "### 7. Training Linear Regression Model"
   ]
  },
  {
   "cell_type": "code",
   "execution_count": 40,
   "id": "bfba22b5-9061-4217-93eb-302a7919a7ce",
   "metadata": {},
   "outputs": [
    {
     "data": {
      "text/plain": [
       "array([[ 148,   24, 1385],\n",
       "       [ 132,   25, 2031],\n",
       "       [ 453,   11,   86],\n",
       "       [ 158,   24,  185],\n",
       "       [ 172,   25,  201],\n",
       "       [ 413,   11,   86],\n",
       "       [  38,   54,  185],\n",
       "       [ 142,   25,  431],\n",
       "       [ 453,   31,   86]])"
      ]
     },
     "execution_count": 40,
     "metadata": {},
     "output_type": "execute_result"
    }
   ],
   "source": [
    "X = [\n",
    "    [148, 24, 1385],\n",
    "    [132, 25, 2031],\n",
    "    [453, 11, 86],\n",
    "    [158, 24, 185],\n",
    "    [172, 25, 201],\n",
    "    [413, 11, 86],\n",
    "    [38, 54, 185],\n",
    "    [142, 25, 431],\n",
    "    [453, 31, 86]    \n",
    "]\n",
    "X = np.array(X)\n",
    "X"
   ]
  },
  {
   "cell_type": "code",
   "execution_count": 41,
   "id": "968aa03c-b238-41cb-b3a0-7b64d1415697",
   "metadata": {},
   "outputs": [
    {
     "data": {
      "text/plain": [
       "[10000, 20000, 15000, 25000, 10000, 20000, 15000, 25000, 12000]"
      ]
     },
     "execution_count": 41,
     "metadata": {},
     "output_type": "execute_result"
    }
   ],
   "source": [
    "y = [10000, 20000, 15000, 25000, 10000, 20000, 15000, 25000, 12000]\n",
    "y"
   ]
  },
  {
   "cell_type": "markdown",
   "id": "4729f071-f9fd-40aa-a123-3eddfb245af9",
   "metadata": {},
   "source": [
    "**Theory:**  \n",
    "- y = X*w\n",
    "- X*w = y\n",
    "- X<sup>T</sup>(X*w) = X<sup>T</sup> * y\n",
    "- (X<sup>T</sup> X)<sup>-1</sup> X<sup>T</sup> (X*w) = (X<sup>T</sup> X)<sup>-1</sup> (X<sup>T</sup> * y)\n",
    "- (X<sup>T</sup> X)<sup>-1</sup> (X<sup>T</sup> X) w = (X<sup>T</sup> X)<sup>-1</sup> (X<sup>T</sup> * y)\n",
    "- w = (X<sup>T</sup> X)<sup>-1</sup> (X<sup>T</sup> * y)"
   ]
  },
  {
   "cell_type": "code",
   "execution_count": 42,
   "id": "fcb5075d-3540-462c-bb27-52b894ad478c",
   "metadata": {},
   "outputs": [],
   "source": [
    "def linear_regression_train(X, y):\n",
    "    ones = np.ones(X.shape[0])\n",
    "    X = np.column_stack([ones, X])\n",
    "\n",
    "    XTX = X.T.dot(X)\n",
    "    XTX_inv = np.linalg.inv(XTX)\n",
    "    w_full = XTX_inv.dot(X.T).dot(y)\n",
    "\n",
    "    return w_full[0], w_full[1:]"
   ]
  },
  {
   "cell_type": "code",
   "execution_count": 43,
   "id": "345a8e56-158d-4a52-91a2-9a71cfef7476",
   "metadata": {},
   "outputs": [
    {
     "data": {
      "text/plain": [
       "(30006.77669255554, array([ -22.77425287, -257.69412959,   -2.3012064 ]))"
      ]
     },
     "execution_count": 43,
     "metadata": {},
     "output_type": "execute_result"
    }
   ],
   "source": [
    "linear_regression_train(X, y)"
   ]
  },
  {
   "cell_type": "markdown",
   "id": "7751ee5a-be03-4f73-8cc2-222372f7bb45",
   "metadata": {
    "jp-MarkdownHeadingCollapsed": true
   },
   "source": [
    "### 8. Baseline Model"
   ]
  },
  {
   "cell_type": "code",
   "execution_count": 44,
   "id": "4715515b-789f-406a-afa3-b8fb64976441",
   "metadata": {},
   "outputs": [
    {
     "data": {
      "text/plain": [
       "make                  object\n",
       "model                 object\n",
       "year                   int64\n",
       "engine_fuel_type      object\n",
       "engine_hp            float64\n",
       "engine_cylinders     float64\n",
       "transmission_type     object\n",
       "driven_wheels         object\n",
       "number_of_doors      float64\n",
       "market_category       object\n",
       "vehicle_size          object\n",
       "vehicle_style         object\n",
       "highway_mpg            int64\n",
       "city_mpg               int64\n",
       "popularity             int64\n",
       "dtype: object"
      ]
     },
     "execution_count": 44,
     "metadata": {},
     "output_type": "execute_result"
    }
   ],
   "source": [
    "df_train.dtypes"
   ]
  },
  {
   "cell_type": "code",
   "execution_count": 45,
   "id": "fba93f2e-9d49-43e7-9971-0a89ca744c3f",
   "metadata": {},
   "outputs": [],
   "source": [
    "base = ['engine_hp', 'engine_cylinders', 'highway_mpg', 'city_mpg', 'popularity']\n",
    "X_train = df_train[base].values"
   ]
  },
  {
   "cell_type": "code",
   "execution_count": 46,
   "id": "fb63b4cf-c6d6-4309-8aa6-3d36e881492c",
   "metadata": {},
   "outputs": [
    {
     "data": {
      "text/plain": [
       "array([[ 148.,    4.,   33.,   24., 1385.],\n",
       "       [ 132.,    4.,   32.,   25., 2031.],\n",
       "       [ 148.,    4.,   37.,   28.,  640.],\n",
       "       ...,\n",
       "       [ 285.,    6.,   22.,   17.,  549.],\n",
       "       [ 563.,   12.,   21.,   13.,   86.],\n",
       "       [ 200.,    4.,   31.,   22.,  873.]])"
      ]
     },
     "execution_count": 46,
     "metadata": {},
     "output_type": "execute_result"
    }
   ],
   "source": [
    "X_train"
   ]
  },
  {
   "cell_type": "code",
   "execution_count": 47,
   "id": "065074a5-667c-47af-b8fc-0cef45174c0f",
   "metadata": {},
   "outputs": [
    {
     "data": {
      "text/plain": [
       "array([ 9.57574708,  9.887663  ,  9.89323518, ..., 10.45380308,\n",
       "       12.62248099, 10.54061978])"
      ]
     },
     "execution_count": 47,
     "metadata": {},
     "output_type": "execute_result"
    }
   ],
   "source": [
    "y_train"
   ]
  },
  {
   "cell_type": "code",
   "execution_count": 48,
   "id": "e8122e6e-362b-4d0a-a783-57f0459fb68f",
   "metadata": {},
   "outputs": [
    {
     "data": {
      "text/plain": [
       "engine_hp           40\n",
       "engine_cylinders    14\n",
       "highway_mpg          0\n",
       "city_mpg             0\n",
       "popularity           0\n",
       "dtype: int64"
      ]
     },
     "execution_count": 48,
     "metadata": {},
     "output_type": "execute_result"
    }
   ],
   "source": [
    "df_train[base].isnull().sum()"
   ]
  },
  {
   "cell_type": "code",
   "execution_count": 49,
   "id": "e537c3b2-5bcc-4085-ac22-7214c3db41fc",
   "metadata": {},
   "outputs": [],
   "source": [
    "X_train = df_train[base].fillna(0).values"
   ]
  },
  {
   "cell_type": "code",
   "execution_count": 50,
   "id": "38d3a332-782e-4756-adbe-84459fde24e6",
   "metadata": {},
   "outputs": [],
   "source": [
    "w_0, w = linear_regression_train(X_train, y_train)"
   ]
  },
  {
   "cell_type": "code",
   "execution_count": 51,
   "id": "fb260f42-c650-4ad4-9984-7ccbd96dfb87",
   "metadata": {},
   "outputs": [],
   "source": [
    "y_pred = w_0 + X_train.dot(w)"
   ]
  },
  {
   "cell_type": "code",
   "execution_count": 52,
   "id": "483b28a6-39ff-4c21-b4dd-90e9a98e03ec",
   "metadata": {},
   "outputs": [
    {
     "data": {
      "text/plain": [
       "<Axes: ylabel='Count'>"
      ]
     },
     "execution_count": 52,
     "metadata": {},
     "output_type": "execute_result"
    },
    {
     "data": {
      "image/png": "[encoded data removed]",
      "text/plain": [
       "<Figure size 640x480 with 1 Axes>"
      ]
     },
     "metadata": {},
     "output_type": "display_data"
    }
   ],
   "source": [
    "# Plotting the histogram\n",
    "sns.histplot(y_pred, bins=50, color='red', alpha=0.5)\n",
    "sns.histplot(y_train, bins=50, color='green', alpha=0.5)"
   ]
  },
  {
   "cell_type": "markdown",
   "id": "c9a28c69-fc68-421c-bffd-eae4abd17389",
   "metadata": {
    "jp-MarkdownHeadingCollapsed": true
   },
   "source": [
    "### 9. RMSE [Root Mean Squared Error]"
   ]
  },
  {
   "cell_type": "markdown",
   "id": "f5eaf78d-03a3-49a5-b067-7976f9975db6",
   "metadata": {},
   "source": [
    "$$\r\n",
    "\\text{RMSE} = \\sqrt{\\frac{1}{n} \\sum_{i=1}^{n} (y_i - \\hat{y}_i)^2}\r\n",
    "$$\r\n"
   ]
  },
  {
   "cell_type": "code",
   "execution_count": 53,
   "id": "bff05498-7f50-4e86-9418-a05213bf8275",
   "metadata": {},
   "outputs": [],
   "source": [
    "def rmse(y, y_pred):\n",
    "    error = y - y_pred\n",
    "    squared_error = error ** 2\n",
    "    mse = squared_error.mean()\n",
    "    rmse = np.sqrt(mse)\n",
    "\n",
    "    return rmse"
   ]
  },
  {
   "cell_type": "code",
   "execution_count": 54,
   "id": "9928ac23-e0c9-4f7d-985d-de25349a304d",
   "metadata": {},
   "outputs": [
    {
     "data": {
      "text/plain": [
       "0.7554192603920132"
      ]
     },
     "execution_count": 54,
     "metadata": {},
     "output_type": "execute_result"
    }
   ],
   "source": [
    "rmse(y_train, y_pred)"
   ]
  },
  {
   "cell_type": "markdown",
   "id": "0be538b9-8977-460e-bdfb-84e9310612ea",
   "metadata": {
    "jp-MarkdownHeadingCollapsed": true
   },
   "source": [
    "### 10. Model Validation"
   ]
  },
  {
   "cell_type": "code",
   "execution_count": 55,
   "id": "046cd256-c168-4d88-a5de-4b5c7944e388",
   "metadata": {},
   "outputs": [],
   "source": [
    "base = ['engine_hp', 'engine_cylinders', 'highway_mpg', 'city_mpg', 'popularity']\n",
    "\n",
    "def prepare_X(df):\n",
    "    df_num = df[base]\n",
    "    df_num = df_num.fillna(0)\n",
    "    X = df_num.values\n",
    "    return X"
   ]
  },
  {
   "cell_type": "code",
   "execution_count": 56,
   "id": "d7c431a3-cc6b-4a55-8178-f629261ddbf0",
   "metadata": {},
   "outputs": [
    {
     "data": {
      "text/plain": [
       "0.761653099130156"
      ]
     },
     "execution_count": 56,
     "metadata": {},
     "output_type": "execute_result"
    }
   ],
   "source": [
    "# Training\n",
    "X_train = prepare_X(df_train)\n",
    "w_0, w = linear_regression_train(X_train, y_train)\n",
    "\n",
    "# Validation\n",
    "X_val = prepare_X(df_val)\n",
    "y_pred = w_0 + X_val.dot(w)\n",
    "\n",
    "# Calculating RMSE\n",
    "rmse(y_val, y_pred)"
   ]
  },
  {
   "cell_type": "markdown",
   "id": "739adf2a-b051-48c3-866c-bf6b8b1cedf6",
   "metadata": {
    "jp-MarkdownHeadingCollapsed": true
   },
   "source": [
    "### 11. Feature Engineering"
   ]
  },
  {
   "cell_type": "code",
   "execution_count": 57,
   "id": "3a2f5508-da01-4201-963a-8142281d8113",
   "metadata": {},
   "outputs": [
    {
     "data": {
      "text/plain": [
       "0        9\n",
       "1        5\n",
       "2        1\n",
       "3       26\n",
       "4        0\n",
       "        ..\n",
       "7145     2\n",
       "7146     2\n",
       "7147     2\n",
       "7148     3\n",
       "7149     0\n",
       "Name: year, Length: 7150, dtype: int64"
      ]
     },
     "execution_count": 57,
     "metadata": {},
     "output_type": "execute_result"
    }
   ],
   "source": [
    "df_train.year.max() - df_train.year"
   ]
  },
  {
   "cell_type": "code",
   "execution_count": 58,
   "id": "95452175-0692-4f11-825e-9495244e78bd",
   "metadata": {},
   "outputs": [],
   "source": [
    "base = ['engine_hp', 'engine_cylinders', 'highway_mpg', 'city_mpg', 'popularity']\n",
    "\n",
    "def prepare_X(df):\n",
    "    df = df.copy()\n",
    "    \n",
    "    df['age'] = df.year.max() - df.year\n",
    "    features = base + ['age']\n",
    "    \n",
    "    df_num = df[features]\n",
    "    df_num = df_num.fillna(0)\n",
    "    X = df_num.values\n",
    "    \n",
    "    return X"
   ]
  },
  {
   "cell_type": "code",
   "execution_count": 59,
   "id": "35ed43e7-8ba5-4b5b-838c-761d891b4e26",
   "metadata": {},
   "outputs": [
    {
     "data": {
      "text/plain": [
       "0.5172055461058299"
      ]
     },
     "execution_count": 59,
     "metadata": {},
     "output_type": "execute_result"
    }
   ],
   "source": [
    "# Training\n",
    "X_train = prepare_X(df_train)\n",
    "w_0, w = linear_regression_train(X_train, y_train)\n",
    "\n",
    "# Validation\n",
    "X_val = prepare_X(df_val)\n",
    "y_pred = w_0 + X_val.dot(w)\n",
    "\n",
    "# Calculating RMSE\n",
    "rmse(y_val, y_pred)"
   ]
  },
  {
   "cell_type": "code",
   "execution_count": 60,
   "id": "11957bd3-cc47-4072-b5eb-f73f98d939ba",
   "metadata": {},
   "outputs": [
    {
     "data": {
      "text/plain": [
       "<Axes: ylabel='Count'>"
      ]
     },
     "execution_count": 60,
     "metadata": {},
     "output_type": "execute_result"
    },
    {
     "data": {
      "image/png": "[encoded data removed]",
      "text/plain": [
       "<Figure size 640x480 with 1 Axes>"
      ]
     },
     "metadata": {},
     "output_type": "display_data"
    }
   ],
   "source": [
    "# Plotting the histogram\n",
    "sns.histplot(y_pred, bins=50, color='red', alpha=0.5)\n",
    "sns.histplot(y_val, bins=50, color='green', alpha=0.5)"
   ]
  },
  {
   "cell_type": "markdown",
   "id": "84276e23-4522-43f8-8fd9-e73593058e74",
   "metadata": {
    "jp-MarkdownHeadingCollapsed": true
   },
   "source": [
    "### 12. Categorical Variable"
   ]
  },
  {
   "cell_type": "code",
   "execution_count": 61,
   "id": "0bcba6d2-2f97-4178-b0db-2621858cccb7",
   "metadata": {},
   "outputs": [
    {
     "data": {
      "text/plain": [
       "array([ 2.,  4.,  3., nan])"
      ]
     },
     "execution_count": 61,
     "metadata": {},
     "output_type": "execute_result"
    }
   ],
   "source": [
    "df.number_of_doors.unique()"
   ]
  },
  {
   "cell_type": "code",
   "execution_count": 62,
   "id": "d4e13feb-88a9-4e02-89d3-19e1a2b442d6",
   "metadata": {},
   "outputs": [],
   "source": [
    "base = ['engine_hp', 'engine_cylinders', 'highway_mpg', 'city_mpg', 'popularity']\n",
    "\n",
    "def prepare_X(df):\n",
    "    df = df.copy()\n",
    "    features = base.copy()\n",
    "    \n",
    "    df['age'] = df.year.max() - df.year\n",
    "    features.append('age')\n",
    "\n",
    "    for v in [2, 3, 4]:\n",
    "        df['num_doors_%s' % v] = (df.number_of_doors == v).astype('int')\n",
    "        features.append('num_doors_%s' % v)\n",
    "    \n",
    "    df_num = df[features]\n",
    "    df_num = df_num.fillna(0)\n",
    "    X = df_num.values\n",
    "    \n",
    "    return X"
   ]
  },
  {
   "cell_type": "code",
   "execution_count": 63,
   "id": "75415af9-20c9-4731-a82c-84915dbe8cf3",
   "metadata": {},
   "outputs": [
    {
     "data": {
      "text/plain": [
       "0.5157995641501727"
      ]
     },
     "execution_count": 63,
     "metadata": {},
     "output_type": "execute_result"
    }
   ],
   "source": [
    "# Training\n",
    "X_train = prepare_X(df_train)\n",
    "w_0, w = linear_regression_train(X_train, y_train)\n",
    "\n",
    "# Validation\n",
    "X_val = prepare_X(df_val)\n",
    "y_pred = w_0 + X_val.dot(w)\n",
    "\n",
    "# Calculating RMSE\n",
    "rmse(y_val, y_pred)"
   ]
  },
  {
   "cell_type": "code",
   "execution_count": 64,
   "id": "2621f075-4cd1-4886-b8a2-a2dbd83749e5",
   "metadata": {},
   "outputs": [
    {
     "data": {
      "text/plain": [
       "['chevrolet', 'ford', 'volkswagen', 'toyota', 'dodge']"
      ]
     },
     "execution_count": 64,
     "metadata": {},
     "output_type": "execute_result"
    }
   ],
   "source": [
    "makes = list(df.make.value_counts().head().index)\n",
    "makes"
   ]
  },
  {
   "cell_type": "code",
   "execution_count": 65,
   "id": "4567bab6-691b-43fb-845d-09d036943080",
   "metadata": {},
   "outputs": [],
   "source": [
    "base = ['engine_hp', 'engine_cylinders', 'highway_mpg', 'city_mpg', 'popularity']\n",
    "\n",
    "def prepare_X(df):\n",
    "    df = df.copy()\n",
    "    features = base.copy()\n",
    "    \n",
    "    df['age'] = df.year.max() - df.year\n",
    "    features.append('age')\n",
    "\n",
    "    for v in [2, 3, 4]:\n",
    "        df['num_doors_%s' % v] = (df.number_of_doors == v).astype('int')\n",
    "        features.append('num_doors_%s' % v)\n",
    "\n",
    "    for v in makes:\n",
    "        df['make_%s' % v] = (df.make == v).astype('int')\n",
    "        features.append('make_%s' % v)\n",
    "    \n",
    "    df_num = df[features]\n",
    "    df_num = df_num.fillna(0)\n",
    "    X = df_num.values\n",
    "    \n",
    "    return X"
   ]
  },
  {
   "cell_type": "code",
   "execution_count": 66,
   "id": "2bb26465-55e3-4d5a-bce4-86cd561527db",
   "metadata": {},
   "outputs": [
    {
     "data": {
      "text/plain": [
       "0.5076038849556717"
      ]
     },
     "execution_count": 66,
     "metadata": {},
     "output_type": "execute_result"
    }
   ],
   "source": [
    "# Training\n",
    "X_train = prepare_X(df_train)\n",
    "w_0, w = linear_regression_train(X_train, y_train)\n",
    "\n",
    "# Validation\n",
    "X_val = prepare_X(df_val)\n",
    "y_pred = w_0 + X_val.dot(w)\n",
    "\n",
    "# Calculating RMSE\n",
    "rmse(y_val, y_pred)"
   ]
  },
  {
   "cell_type": "code",
   "execution_count": 67,
   "id": "3eee415d-41f9-4895-a59a-b46d624ac099",
   "metadata": {},
   "outputs": [
    {
     "data": {
      "text/plain": [
       "Index(['make', 'model', 'year', 'engine_fuel_type', 'engine_hp',\n",
       "       'engine_cylinders', 'transmission_type', 'driven_wheels',\n",
       "       'number_of_doors', 'market_category', 'vehicle_size', 'vehicle_style',\n",
       "       'highway_mpg', 'city_mpg', 'popularity', 'msrp'],\n",
       "      dtype='object')"
      ]
     },
     "execution_count": 67,
     "metadata": {},
     "output_type": "execute_result"
    }
   ],
   "source": [
    "df.dtypes.index"
   ]
  },
  {
   "cell_type": "code",
   "execution_count": 68,
   "id": "d6624381-116f-4617-922d-a6281d83a5fc",
   "metadata": {},
   "outputs": [],
   "source": [
    "categorical_variables = ['make', 'engine_fuel_type', 'transmission_type', 'driven_wheels', 'market_category', 'vehicle_size', 'vehicle_style']"
   ]
  },
  {
   "cell_type": "code",
   "execution_count": 69,
   "id": "45004b2d-223e-4929-919f-5d4ecf73224f",
   "metadata": {},
   "outputs": [],
   "source": [
    "categories = {}\n",
    "\n",
    "for c in categorical_variables:\n",
    "    categories[c] = list(df[c].value_counts().head().index)"
   ]
  },
  {
   "cell_type": "code",
   "execution_count": 70,
   "id": "32047db2-b1e6-4a88-973f-97f81025f240",
   "metadata": {},
   "outputs": [],
   "source": [
    "base = ['engine_hp', 'engine_cylinders', 'highway_mpg', 'city_mpg', 'popularity']\n",
    "\n",
    "def prepare_X(df):\n",
    "    df = df.copy()\n",
    "    features = base.copy()\n",
    "    \n",
    "    df['age'] = df.year.max() - df.year\n",
    "    features.append('age')\n",
    "\n",
    "    for v in [2, 3, 4]:\n",
    "        df['num_doors_%s' % v] = (df.number_of_doors == v).astype('int')\n",
    "        features.append('num_doors_%s' % v)\n",
    "\n",
    "    for c, values in categories.items():\n",
    "        for v in values:\n",
    "            df['%s_%s' % (c, v)] = (df[c] == v).astype('int')\n",
    "            features.append('%s_%s' % (c, v))\n",
    "    \n",
    "    df_num = df[features]\n",
    "    df_num = df_num.fillna(0)\n",
    "    X = df_num.values\n",
    "    \n",
    "    return X"
   ]
  },
  {
   "cell_type": "code",
   "execution_count": 71,
   "id": "592d6f74-6014-432b-94ee-8f982614dc0c",
   "metadata": {},
   "outputs": [
    {
     "data": {
      "text/plain": [
       "30.090493475303816"
      ]
     },
     "execution_count": 71,
     "metadata": {},
     "output_type": "execute_result"
    }
   ],
   "source": [
    "# Training\n",
    "X_train = prepare_X(df_train)\n",
    "w_0, w = linear_regression_train(X_train, y_train)\n",
    "\n",
    "# Validation\n",
    "X_val = prepare_X(df_val)\n",
    "y_pred = w_0 + X_val.dot(w)\n",
    "\n",
    "# Calculating RMSE\n",
    "rmse(y_val, y_pred)"
   ]
  },
  {
   "cell_type": "markdown",
   "id": "67a34c1e-a014-4906-af40-c505d472c414",
   "metadata": {},
   "source": [
    "### 13. Regularization"
   ]
  },
  {
   "cell_type": "code",
   "execution_count": 72,
   "id": "3616b975-aaed-49cc-bd98-207093e2f40a",
   "metadata": {},
   "outputs": [],
   "source": [
    "def linear_regression_train_reg(X, y, r=0.001):\n",
    "    ones = np.ones(X.shape[0])\n",
    "    X = np.column_stack([ones, X])\n",
    "\n",
    "    XTX = X.T.dot(X)\n",
    "    XTX = XTX + r * np.eye(XTX.shape[0])\n",
    "    \n",
    "    XTX_inv = np.linalg.inv(XTX)\n",
    "    w_full = XTX_inv.dot(X.T).dot(y)\n",
    "\n",
    "    return w_full[0], w_full[1:]"
   ]
  },
  {
   "cell_type": "code",
   "execution_count": 73,
   "id": "8483b031-db21-4039-b315-1b71fde580d0",
   "metadata": {},
   "outputs": [
    {
     "data": {
      "text/plain": [
       "0.45652199014498973"
      ]
     },
     "execution_count": 73,
     "metadata": {},
     "output_type": "execute_result"
    }
   ],
   "source": [
    "# Training\n",
    "X_train = prepare_X(df_train)\n",
    "w_0, w = linear_regression_train_reg(X_train, y_train, r=0.01)\n",
    "\n",
    "# Validation\n",
    "X_val = prepare_X(df_val)\n",
    "y_pred = w_0 + X_val.dot(w)\n",
    "\n",
    "# Calculating RMSE\n",
    "rmse(y_val, y_pred)"
   ]
  },
  {
   "cell_type": "markdown",
   "id": "15cea425-0a9d-420b-aef7-9a687a786796",
   "metadata": {},
   "source": [
    "### 14. Tuning The Model"
   ]
  },
  {
   "cell_type": "code",
   "execution_count": 74,
   "id": "b48f6e81-2039-495f-89d4-2a5c6deaf7a0",
   "metadata": {},
   "outputs": [
    {
     "name": "stdout",
     "output_type": "stream",
     "text": [
      "r=0.0, rmse=30.090493475303816\n",
      "r=0.01, rmse=0.45652199014498973\n",
      "r=0.001, rmse=0.4565175087432952\n",
      "r=0.0001, rmse=0.4565170612096512\n",
      "r=1e-05, rmse=0.4565170284979097\n",
      "r=1e-06, rmse=0.45651727754184623\n",
      "r=1, rmse=0.4572204317998218\n",
      "r=10, rmse=0.47014569321001465\n"
     ]
    }
   ],
   "source": [
    "for r in [0.0, 0.01, 0.001, 0.0001, 0.00001, 0.000001, 1, 10]:\n",
    "    # Training\n",
    "    X_train = prepare_X(df_train)\n",
    "    w_0, w = linear_regression_train_reg(X_train, y_train, r=r)\n",
    "    \n",
    "    # Validation\n",
    "    X_val = prepare_X(df_val)\n",
    "    y_pred = w_0 + X_val.dot(w)\n",
    "    \n",
    "    # Calculating RMSE\n",
    "    score = rmse(y_val, y_pred)\n",
    "\n",
    "    print(f'r={r}, rmse={score}')"
   ]
  },
  {
   "cell_type": "code",
   "execution_count": 75,
   "id": "79189520-7676-4082-9350-c54d5bd3d00e",
   "metadata": {},
   "outputs": [
    {
     "data": {
      "text/plain": [
       "0.4565175087432952"
      ]
     },
     "execution_count": 75,
     "metadata": {},
     "output_type": "execute_result"
    }
   ],
   "source": [
    "r = 0.001\n",
    "# Training\n",
    "X_train = prepare_X(df_train)\n",
    "w_0, w = linear_regression_train_reg(X_train, y_train, r)\n",
    "\n",
    "# Validation\n",
    "X_val = prepare_X(df_val)\n",
    "y_pred = w_0 + X_val.dot(w)\n",
    "\n",
    "# Calculating RMSE\n",
    "rmse(y_val, y_pred)"
   ]
  },
  {
   "cell_type": "markdown",
   "id": "7a8e5e7a-78c1-4760-ab61-7c850a2c40e9",
   "metadata": {},
   "source": [
    "### 15. Using The Model"
   ]
  },
  {
   "cell_type": "code",
   "execution_count": 76,
   "id": "9c8da3b4-2df1-451e-b471-2efd03049207",
   "metadata": {},
   "outputs": [],
   "source": [
    "df_full_train = pd.concat([df_train, df_val]) "
   ]
  },
  {
   "cell_type": "code",
   "execution_count": 77,
   "id": "234b3b94-821a-435f-baf6-c6e99741528b",
   "metadata": {},
   "outputs": [],
   "source": [
    "df_full_train = df_full_train.reset_index(drop=True)"
   ]
  },
  {
   "cell_type": "code",
   "execution_count": 78,
   "id": "12cbaecf-ff80-4286-b687-5a6ce75ad976",
   "metadata": {},
   "outputs": [
    {
     "data": {
      "text/plain": [
       "array([[148.,   4.,  33., ...,   1.,   0.,   0.],\n",
       "       [132.,   4.,  32., ...,   0.,   0.,   1.],\n",
       "       [148.,   4.,  37., ...,   0.,   0.,   1.],\n",
       "       ...,\n",
       "       [332.,   8.,  23., ...,   0.,   0.,   0.],\n",
       "       [148.,   4.,  34., ...,   0.,   0.,   0.],\n",
       "       [290.,   6.,  25., ...,   0.,   0.,   0.]])"
      ]
     },
     "execution_count": 78,
     "metadata": {},
     "output_type": "execute_result"
    }
   ],
   "source": [
    "X_full_train = prepare_X(df_full_train)\n",
    "X_full_train"
   ]
  },
  {
   "cell_type": "code",
   "execution_count": 79,
   "id": "5f38c5d0-9e28-4d9d-af2b-fe55e26746cf",
   "metadata": {},
   "outputs": [
    {
     "data": {
      "text/plain": [
       "array([ 9.57574708,  9.887663  ,  9.89323518, ..., 11.21756062,\n",
       "        9.77542688, 10.1924563 ])"
      ]
     },
     "execution_count": 79,
     "metadata": {},
     "output_type": "execute_result"
    }
   ],
   "source": [
    "y_full_train = np.concatenate([y_train, y_val])\n",
    "y_full_train"
   ]
  },
  {
   "cell_type": "code",
   "execution_count": 80,
   "id": "164544cf-9fdf-43fb-8da8-77234e43b078",
   "metadata": {},
   "outputs": [],
   "source": [
    "w_0, w = linear_regression_train_reg(X_full_train, y_full_train, r=0.001)"
   ]
  },
  {
   "cell_type": "code",
   "execution_count": 81,
   "id": "8a6a478a-f26a-42aa-855a-67d89a36dc63",
   "metadata": {},
   "outputs": [
    {
     "data": {
      "text/plain": [
       "0.4517749307388584"
      ]
     },
     "execution_count": 81,
     "metadata": {},
     "output_type": "execute_result"
    }
   ],
   "source": [
    "# Validation\n",
    "X_test = prepare_X(df_test)\n",
    "y_pred = w_0 + X_test.dot(w)\n",
    "\n",
    "# Calculating RMSE\n",
    "rmse(y_test, y_pred)"
   ]
  },
  {
   "cell_type": "code",
   "execution_count": 82,
   "id": "f6e4a83d-7894-4a85-ab2f-d06a7d8684d3",
   "metadata": {},
   "outputs": [
    {
     "data": {
      "text/plain": [
       "{'make': 'mazda',\n",
       " 'model': '3',\n",
       " 'year': 2016,\n",
       " 'engine_fuel_type': 'regular_unleaded',\n",
       " 'engine_hp': 155.0,\n",
       " 'engine_cylinders': 4.0,\n",
       " 'transmission_type': 'manual',\n",
       " 'driven_wheels': 'front_wheel_drive',\n",
       " 'number_of_doors': 4.0,\n",
       " 'market_category': nan,\n",
       " 'vehicle_size': 'compact',\n",
       " 'vehicle_style': 'sedan',\n",
       " 'highway_mpg': 41,\n",
       " 'city_mpg': 29,\n",
       " 'popularity': 586}"
      ]
     },
     "execution_count": 82,
     "metadata": {},
     "output_type": "execute_result"
    }
   ],
   "source": [
    "car = df_test.iloc[10].to_dict()\n",
    "car"
   ]
  },
  {
   "cell_type": "code",
   "execution_count": 83,
   "id": "9fb040f1-0c62-4a2b-a6ba-e8993a0e16b9",
   "metadata": {},
   "outputs": [
    {
     "data": {
      "text/html": [
       "<div>\n",
       "<style scoped>\n",
       "    .dataframe tbody tr th:only-of-type {\n",
       "        vertical-align: middle;\n",
       "    }\n",
       "\n",
       "    .dataframe tbody tr th {\n",
       "        vertical-align: top;\n",
       "    }\n",
       "\n",
       "    .dataframe thead th {\n",
       "        text-align: right;\n",
       "    }\n",
       "</style>\n",
       "<table border=\"1\" class=\"dataframe\">\n",
       "  <thead>\n",
       "    <tr style=\"text-align: right;\">\n",
       "      <th></th>\n",
       "      <th>make</th>\n",
       "      <th>model</th>\n",
       "      <th>year</th>\n",
       "      <th>engine_fuel_type</th>\n",
       "      <th>engine_hp</th>\n",
       "      <th>engine_cylinders</th>\n",
       "      <th>transmission_type</th>\n",
       "      <th>driven_wheels</th>\n",
       "      <th>number_of_doors</th>\n",
       "      <th>market_category</th>\n",
       "      <th>vehicle_size</th>\n",
       "      <th>vehicle_style</th>\n",
       "      <th>highway_mpg</th>\n",
       "      <th>city_mpg</th>\n",
       "      <th>popularity</th>\n",
       "    </tr>\n",
       "  </thead>\n",
       "  <tbody>\n",
       "    <tr>\n",
       "      <th>0</th>\n",
       "      <td>mazda</td>\n",
       "      <td>3</td>\n",
       "      <td>2016</td>\n",
       "      <td>regular_unleaded</td>\n",
       "      <td>155.0</td>\n",
       "      <td>4.0</td>\n",
       "      <td>manual</td>\n",
       "      <td>front_wheel_drive</td>\n",
       "      <td>4.0</td>\n",
       "      <td>NaN</td>\n",
       "      <td>compact</td>\n",
       "      <td>sedan</td>\n",
       "      <td>41</td>\n",
       "      <td>29</td>\n",
       "      <td>586</td>\n",
       "    </tr>\n",
       "  </tbody>\n",
       "</table>\n",
       "</div>"
      ],
      "text/plain": [
       "    make model  year  engine_fuel_type  engine_hp  engine_cylinders  \\\n",
       "0  mazda     3  2016  regular_unleaded      155.0               4.0   \n",
       "\n",
       "  transmission_type      driven_wheels  number_of_doors  market_category  \\\n",
       "0            manual  front_wheel_drive              4.0              NaN   \n",
       "\n",
       "  vehicle_size vehicle_style  highway_mpg  city_mpg  popularity  \n",
       "0      compact         sedan           41        29         586  "
      ]
     },
     "execution_count": 83,
     "metadata": {},
     "output_type": "execute_result"
    }
   ],
   "source": [
    "df_small = pd.DataFrame([car])\n",
    "df_small"
   ]
  },
  {
   "cell_type": "code",
   "execution_count": 84,
   "id": "fb183334-e12b-4e43-aa76-88c8f76e8c95",
   "metadata": {},
   "outputs": [
    {
     "data": {
      "text/plain": [
       "array([[155.,   4.,  41.,  29., 586.,   0.,   0.,   0.,   1.,   0.,   0.,\n",
       "          0.,   0.,   0.,   1.,   0.,   0.,   0.,   0.,   0.,   1.,   0.,\n",
       "          0.,   0.,   1.,   0.,   0.,   0.,   0.,   0.,   0.,   0.,   0.,\n",
       "          1.,   0.,   0.,   1.,   0.,   0.,   0.,   0.]])"
      ]
     },
     "execution_count": 84,
     "metadata": {},
     "output_type": "execute_result"
    }
   ],
   "source": [
    "X_small = prepare_X(df_small)\n",
    "X_small"
   ]
  },
  {
   "cell_type": "code",
   "execution_count": 85,
   "id": "6a35b323-d092-4df1-9cb0-24dec73f257b",
   "metadata": {},
   "outputs": [
    {
     "data": {
      "text/plain": [
       "array([10.16097869])"
      ]
     },
     "execution_count": 85,
     "metadata": {},
     "output_type": "execute_result"
    }
   ],
   "source": [
    "y_pred = w_0 + X_small.dot(w)\n",
    "y_pred"
   ]
  },
  {
   "cell_type": "code",
   "execution_count": 86,
   "id": "17b3b0c6-47b2-4a02-8f2d-59f202020e5a",
   "metadata": {},
   "outputs": [
    {
     "data": {
      "text/plain": [
       "25872.60695438403"
      ]
     },
     "execution_count": 86,
     "metadata": {},
     "output_type": "execute_result"
    }
   ],
   "source": [
    "np.expm1(y_pred)[0]"
   ]
  },
  {
   "cell_type": "code",
   "execution_count": 87,
   "id": "7301ac8b-18c5-4a2e-a017-793f4c8ed78b",
   "metadata": {},
   "outputs": [
    {
     "data": {
      "text/plain": [
       "17844.999999999993"
      ]
     },
     "execution_count": 87,
     "metadata": {},
     "output_type": "execute_result"
    }
   ],
   "source": [
    "np.expm1(y_test[10])"
   ]
  }
 ],
 "metadata": {
  "kernelspec": {
   "display_name": "machine_learning",
   "language": "python",
   "name": "machine_learning"
  },
  "language_info": {
   "codemirror_mode": {
    "name": "ipython",
    "version": 3
   },
   "file_extension": ".py",
   "mimetype": "text/x-python",
   "name": "python",
   "nbconvert_exporter": "python",
   "pygments_lexer": "ipython3",
   "version": "3.11.1"
  }
 },
 "nbformat": 4,
 "nbformat_minor": 5
}
